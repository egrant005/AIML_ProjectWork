{
 "cells": [
  {
   "cell_type": "markdown",
   "metadata": {},
   "source": [
    "# NLP - US Airline Twitter Sentiment Project\n",
    "\n",
    "##### Elige Grant\n",
    "##### July 2021\n",
    "\n",
    "## Background and Context\n",
    "Twitter posses 330 million monthly active users, which allows businesses to reach a broad population and connect with customers without intermediaries. On the other side, there’s so much information that it’s difficult for brands to quickly detect negative social mentions that could harm their business.\n",
    "\n",
    "That's why sentiment analysis/classification, which involves monitoring emotions in conversations on social media platforms, has become a key strategy in social media marketing.\n",
    "\n",
    "\n",
    "Listening to how customers feel about the product/services on Twitter allows companies to understand their audience, keep on top of what’s being said about their brand, and their competitors, and discover new trends in the industry.\n",
    "\n",
    "## Objective\n",
    "To implement the techniques learned as a part of the course.\n",
    "\n",
    " * Basic understanding of text pre-processing.\n",
    " * What to do after text pre-processing\n",
    " * Bag of words\n",
    " * Tf-idf\n",
    " * Build the classification model.\n",
    " * Evaluate the Model\n",
    "\n",
    "## Data Description\n",
    "A sentiment analysis job about the problems of each major U.S. airline. Twitter data was scraped from February of 2015 and contributors were asked to first classify positive, negative, and neutral tweets, followed by categorizing negative reasons (such as \"late flight\" or \"rude service\").\n",
    "\n",
    "Dataset columns:\n",
    "\n",
    " * tweet_id                                                           \n",
    " * airline_sentiment                                               \n",
    " * airline_sentiment_confidence                               \n",
    " * negativereason                                                   \n",
    " * negativereason_confidence                                    \n",
    " * airline                                                                    \n",
    " * airline_sentiment_gold                                              \n",
    " * name     \n",
    " * negativereason_gold \n",
    " * retweet_count\n",
    " * text\n",
    " * tweet_coord\n",
    " * tweet_created\n",
    " * tweet_location \n",
    " * user_timezone"
   ]
  },
  {
   "cell_type": "markdown",
   "metadata": {},
   "source": [
    "## 1. Import the libraries, load dataset, the print shape of data, data description. (5 Marks)\n",
    "\n",
    " * Add your view and opinion along with the problem statement, shape of the data, data description"
   ]
  },
  {
   "cell_type": "code",
   "execution_count": 1,
   "metadata": {},
   "outputs": [],
   "source": [
    "# install and import necessary libraries.\n",
    "\n",
    "#!pip install contractions\n",
    "\n",
    "import re, string, unicodedata                          # Import Regex, string and unicodedata.\n",
    "import contractions                                     # Import contractions library.\n",
    "from bs4 import BeautifulSoup                           # Import BeautifulSoup.\n",
    "\n",
    "import numpy as np                                      # Import numpy.\n",
    "import pandas as pd                                     # Import pandas.\n",
    "import matplotlib.pyplot as plt                         # Import plt for visualization\n",
    "import seaborn as sns\n",
    "\n",
    "import nltk                                             # Import Natural Language Tool-Kit.\n",
    "from nltk.corpus import stopwords                       # Import stopwords.\n",
    "from nltk.tokenize import word_tokenize, sent_tokenize  # Import Tokenizer.\n",
    "from nltk.stem.wordnet import WordNetLemmatizer         # Import Lemmatizer.\n",
    "from nltk.stem import LancasterStemmer, WordNetLemmatizer\n",
    "\n",
    "\n",
    "from sklearn.feature_extraction.text import CountVectorizer          #For Bag of words\n",
    "from sklearn.feature_extraction.text import TfidfVectorizer          #For TF-IDF\n",
    "\n",
    "\n",
    "from sklearn.ensemble import RandomForestClassifier\n",
    "from sklearn.model_selection import cross_val_score\n",
    "from sklearn import metrics\n",
    "from sklearn.metrics import confusion_matrix\n",
    "from sklearn.model_selection import train_test_split"
   ]
  },
  {
   "cell_type": "code",
   "execution_count": 2,
   "metadata": {},
   "outputs": [],
   "source": [
    "# Read in the CSV file as a Pandas DataFrame\n",
    "data=pd.read_csv('Tweets.csv')"
   ]
  },
  {
   "cell_type": "code",
   "execution_count": 3,
   "metadata": {
    "scrolled": true
   },
   "outputs": [
    {
     "data": {
      "text/html": [
       "<div>\n",
       "<style scoped>\n",
       "    .dataframe tbody tr th:only-of-type {\n",
       "        vertical-align: middle;\n",
       "    }\n",
       "\n",
       "    .dataframe tbody tr th {\n",
       "        vertical-align: top;\n",
       "    }\n",
       "\n",
       "    .dataframe thead th {\n",
       "        text-align: right;\n",
       "    }\n",
       "</style>\n",
       "<table border=\"1\" class=\"dataframe\">\n",
       "  <thead>\n",
       "    <tr style=\"text-align: right;\">\n",
       "      <th></th>\n",
       "      <th>tweet_id</th>\n",
       "      <th>airline_sentiment</th>\n",
       "      <th>airline_sentiment_confidence</th>\n",
       "      <th>negativereason</th>\n",
       "      <th>negativereason_confidence</th>\n",
       "      <th>airline</th>\n",
       "      <th>airline_sentiment_gold</th>\n",
       "      <th>name</th>\n",
       "      <th>negativereason_gold</th>\n",
       "      <th>retweet_count</th>\n",
       "      <th>text</th>\n",
       "      <th>tweet_coord</th>\n",
       "      <th>tweet_created</th>\n",
       "      <th>tweet_location</th>\n",
       "      <th>user_timezone</th>\n",
       "    </tr>\n",
       "  </thead>\n",
       "  <tbody>\n",
       "    <tr>\n",
       "      <th>0</th>\n",
       "      <td>570306133677760513</td>\n",
       "      <td>neutral</td>\n",
       "      <td>1.0000</td>\n",
       "      <td>NaN</td>\n",
       "      <td>NaN</td>\n",
       "      <td>Virgin America</td>\n",
       "      <td>NaN</td>\n",
       "      <td>cairdin</td>\n",
       "      <td>NaN</td>\n",
       "      <td>0</td>\n",
       "      <td>@VirginAmerica What @dhepburn said.</td>\n",
       "      <td>NaN</td>\n",
       "      <td>2015-02-24 11:35:52 -0800</td>\n",
       "      <td>NaN</td>\n",
       "      <td>Eastern Time (US &amp; Canada)</td>\n",
       "    </tr>\n",
       "    <tr>\n",
       "      <th>1</th>\n",
       "      <td>570301130888122368</td>\n",
       "      <td>positive</td>\n",
       "      <td>0.3486</td>\n",
       "      <td>NaN</td>\n",
       "      <td>0.0000</td>\n",
       "      <td>Virgin America</td>\n",
       "      <td>NaN</td>\n",
       "      <td>jnardino</td>\n",
       "      <td>NaN</td>\n",
       "      <td>0</td>\n",
       "      <td>@VirginAmerica plus you've added commercials t...</td>\n",
       "      <td>NaN</td>\n",
       "      <td>2015-02-24 11:15:59 -0800</td>\n",
       "      <td>NaN</td>\n",
       "      <td>Pacific Time (US &amp; Canada)</td>\n",
       "    </tr>\n",
       "    <tr>\n",
       "      <th>2</th>\n",
       "      <td>570301083672813571</td>\n",
       "      <td>neutral</td>\n",
       "      <td>0.6837</td>\n",
       "      <td>NaN</td>\n",
       "      <td>NaN</td>\n",
       "      <td>Virgin America</td>\n",
       "      <td>NaN</td>\n",
       "      <td>yvonnalynn</td>\n",
       "      <td>NaN</td>\n",
       "      <td>0</td>\n",
       "      <td>@VirginAmerica I didn't today... Must mean I n...</td>\n",
       "      <td>NaN</td>\n",
       "      <td>2015-02-24 11:15:48 -0800</td>\n",
       "      <td>Lets Play</td>\n",
       "      <td>Central Time (US &amp; Canada)</td>\n",
       "    </tr>\n",
       "    <tr>\n",
       "      <th>3</th>\n",
       "      <td>570301031407624196</td>\n",
       "      <td>negative</td>\n",
       "      <td>1.0000</td>\n",
       "      <td>Bad Flight</td>\n",
       "      <td>0.7033</td>\n",
       "      <td>Virgin America</td>\n",
       "      <td>NaN</td>\n",
       "      <td>jnardino</td>\n",
       "      <td>NaN</td>\n",
       "      <td>0</td>\n",
       "      <td>@VirginAmerica it's really aggressive to blast...</td>\n",
       "      <td>NaN</td>\n",
       "      <td>2015-02-24 11:15:36 -0800</td>\n",
       "      <td>NaN</td>\n",
       "      <td>Pacific Time (US &amp; Canada)</td>\n",
       "    </tr>\n",
       "    <tr>\n",
       "      <th>4</th>\n",
       "      <td>570300817074462722</td>\n",
       "      <td>negative</td>\n",
       "      <td>1.0000</td>\n",
       "      <td>Can't Tell</td>\n",
       "      <td>1.0000</td>\n",
       "      <td>Virgin America</td>\n",
       "      <td>NaN</td>\n",
       "      <td>jnardino</td>\n",
       "      <td>NaN</td>\n",
       "      <td>0</td>\n",
       "      <td>@VirginAmerica and it's a really big bad thing...</td>\n",
       "      <td>NaN</td>\n",
       "      <td>2015-02-24 11:14:45 -0800</td>\n",
       "      <td>NaN</td>\n",
       "      <td>Pacific Time (US &amp; Canada)</td>\n",
       "    </tr>\n",
       "    <tr>\n",
       "      <th>...</th>\n",
       "      <td>...</td>\n",
       "      <td>...</td>\n",
       "      <td>...</td>\n",
       "      <td>...</td>\n",
       "      <td>...</td>\n",
       "      <td>...</td>\n",
       "      <td>...</td>\n",
       "      <td>...</td>\n",
       "      <td>...</td>\n",
       "      <td>...</td>\n",
       "      <td>...</td>\n",
       "      <td>...</td>\n",
       "      <td>...</td>\n",
       "      <td>...</td>\n",
       "      <td>...</td>\n",
       "    </tr>\n",
       "    <tr>\n",
       "      <th>14635</th>\n",
       "      <td>569587686496825344</td>\n",
       "      <td>positive</td>\n",
       "      <td>0.3487</td>\n",
       "      <td>NaN</td>\n",
       "      <td>0.0000</td>\n",
       "      <td>American</td>\n",
       "      <td>NaN</td>\n",
       "      <td>KristenReenders</td>\n",
       "      <td>NaN</td>\n",
       "      <td>0</td>\n",
       "      <td>@AmericanAir thank you we got on a different f...</td>\n",
       "      <td>NaN</td>\n",
       "      <td>2015-02-22 12:01:01 -0800</td>\n",
       "      <td>NaN</td>\n",
       "      <td>NaN</td>\n",
       "    </tr>\n",
       "    <tr>\n",
       "      <th>14636</th>\n",
       "      <td>569587371693355008</td>\n",
       "      <td>negative</td>\n",
       "      <td>1.0000</td>\n",
       "      <td>Customer Service Issue</td>\n",
       "      <td>1.0000</td>\n",
       "      <td>American</td>\n",
       "      <td>NaN</td>\n",
       "      <td>itsropes</td>\n",
       "      <td>NaN</td>\n",
       "      <td>0</td>\n",
       "      <td>@AmericanAir leaving over 20 minutes Late Flig...</td>\n",
       "      <td>NaN</td>\n",
       "      <td>2015-02-22 11:59:46 -0800</td>\n",
       "      <td>Texas</td>\n",
       "      <td>NaN</td>\n",
       "    </tr>\n",
       "    <tr>\n",
       "      <th>14637</th>\n",
       "      <td>569587242672398336</td>\n",
       "      <td>neutral</td>\n",
       "      <td>1.0000</td>\n",
       "      <td>NaN</td>\n",
       "      <td>NaN</td>\n",
       "      <td>American</td>\n",
       "      <td>NaN</td>\n",
       "      <td>sanyabun</td>\n",
       "      <td>NaN</td>\n",
       "      <td>0</td>\n",
       "      <td>@AmericanAir Please bring American Airlines to...</td>\n",
       "      <td>NaN</td>\n",
       "      <td>2015-02-22 11:59:15 -0800</td>\n",
       "      <td>Nigeria,lagos</td>\n",
       "      <td>NaN</td>\n",
       "    </tr>\n",
       "    <tr>\n",
       "      <th>14638</th>\n",
       "      <td>569587188687634433</td>\n",
       "      <td>negative</td>\n",
       "      <td>1.0000</td>\n",
       "      <td>Customer Service Issue</td>\n",
       "      <td>0.6659</td>\n",
       "      <td>American</td>\n",
       "      <td>NaN</td>\n",
       "      <td>SraJackson</td>\n",
       "      <td>NaN</td>\n",
       "      <td>0</td>\n",
       "      <td>@AmericanAir you have my money, you change my ...</td>\n",
       "      <td>NaN</td>\n",
       "      <td>2015-02-22 11:59:02 -0800</td>\n",
       "      <td>New Jersey</td>\n",
       "      <td>Eastern Time (US &amp; Canada)</td>\n",
       "    </tr>\n",
       "    <tr>\n",
       "      <th>14639</th>\n",
       "      <td>569587140490866689</td>\n",
       "      <td>neutral</td>\n",
       "      <td>0.6771</td>\n",
       "      <td>NaN</td>\n",
       "      <td>0.0000</td>\n",
       "      <td>American</td>\n",
       "      <td>NaN</td>\n",
       "      <td>daviddtwu</td>\n",
       "      <td>NaN</td>\n",
       "      <td>0</td>\n",
       "      <td>@AmericanAir we have 8 ppl so we need 2 know h...</td>\n",
       "      <td>NaN</td>\n",
       "      <td>2015-02-22 11:58:51 -0800</td>\n",
       "      <td>dallas, TX</td>\n",
       "      <td>NaN</td>\n",
       "    </tr>\n",
       "  </tbody>\n",
       "</table>\n",
       "<p>14640 rows × 15 columns</p>\n",
       "</div>"
      ],
      "text/plain": [
       "                 tweet_id airline_sentiment  airline_sentiment_confidence  \\\n",
       "0      570306133677760513           neutral                        1.0000   \n",
       "1      570301130888122368          positive                        0.3486   \n",
       "2      570301083672813571           neutral                        0.6837   \n",
       "3      570301031407624196          negative                        1.0000   \n",
       "4      570300817074462722          negative                        1.0000   \n",
       "...                   ...               ...                           ...   \n",
       "14635  569587686496825344          positive                        0.3487   \n",
       "14636  569587371693355008          negative                        1.0000   \n",
       "14637  569587242672398336           neutral                        1.0000   \n",
       "14638  569587188687634433          negative                        1.0000   \n",
       "14639  569587140490866689           neutral                        0.6771   \n",
       "\n",
       "               negativereason  negativereason_confidence         airline  \\\n",
       "0                         NaN                        NaN  Virgin America   \n",
       "1                         NaN                     0.0000  Virgin America   \n",
       "2                         NaN                        NaN  Virgin America   \n",
       "3                  Bad Flight                     0.7033  Virgin America   \n",
       "4                  Can't Tell                     1.0000  Virgin America   \n",
       "...                       ...                        ...             ...   \n",
       "14635                     NaN                     0.0000        American   \n",
       "14636  Customer Service Issue                     1.0000        American   \n",
       "14637                     NaN                        NaN        American   \n",
       "14638  Customer Service Issue                     0.6659        American   \n",
       "14639                     NaN                     0.0000        American   \n",
       "\n",
       "      airline_sentiment_gold             name negativereason_gold  \\\n",
       "0                        NaN          cairdin                 NaN   \n",
       "1                        NaN         jnardino                 NaN   \n",
       "2                        NaN       yvonnalynn                 NaN   \n",
       "3                        NaN         jnardino                 NaN   \n",
       "4                        NaN         jnardino                 NaN   \n",
       "...                      ...              ...                 ...   \n",
       "14635                    NaN  KristenReenders                 NaN   \n",
       "14636                    NaN         itsropes                 NaN   \n",
       "14637                    NaN         sanyabun                 NaN   \n",
       "14638                    NaN       SraJackson                 NaN   \n",
       "14639                    NaN        daviddtwu                 NaN   \n",
       "\n",
       "       retweet_count                                               text  \\\n",
       "0                  0                @VirginAmerica What @dhepburn said.   \n",
       "1                  0  @VirginAmerica plus you've added commercials t...   \n",
       "2                  0  @VirginAmerica I didn't today... Must mean I n...   \n",
       "3                  0  @VirginAmerica it's really aggressive to blast...   \n",
       "4                  0  @VirginAmerica and it's a really big bad thing...   \n",
       "...              ...                                                ...   \n",
       "14635              0  @AmericanAir thank you we got on a different f...   \n",
       "14636              0  @AmericanAir leaving over 20 minutes Late Flig...   \n",
       "14637              0  @AmericanAir Please bring American Airlines to...   \n",
       "14638              0  @AmericanAir you have my money, you change my ...   \n",
       "14639              0  @AmericanAir we have 8 ppl so we need 2 know h...   \n",
       "\n",
       "      tweet_coord              tweet_created tweet_location  \\\n",
       "0             NaN  2015-02-24 11:35:52 -0800            NaN   \n",
       "1             NaN  2015-02-24 11:15:59 -0800            NaN   \n",
       "2             NaN  2015-02-24 11:15:48 -0800      Lets Play   \n",
       "3             NaN  2015-02-24 11:15:36 -0800            NaN   \n",
       "4             NaN  2015-02-24 11:14:45 -0800            NaN   \n",
       "...           ...                        ...            ...   \n",
       "14635         NaN  2015-02-22 12:01:01 -0800            NaN   \n",
       "14636         NaN  2015-02-22 11:59:46 -0800          Texas   \n",
       "14637         NaN  2015-02-22 11:59:15 -0800  Nigeria,lagos   \n",
       "14638         NaN  2015-02-22 11:59:02 -0800     New Jersey   \n",
       "14639         NaN  2015-02-22 11:58:51 -0800     dallas, TX   \n",
       "\n",
       "                    user_timezone  \n",
       "0      Eastern Time (US & Canada)  \n",
       "1      Pacific Time (US & Canada)  \n",
       "2      Central Time (US & Canada)  \n",
       "3      Pacific Time (US & Canada)  \n",
       "4      Pacific Time (US & Canada)  \n",
       "...                           ...  \n",
       "14635                         NaN  \n",
       "14636                         NaN  \n",
       "14637                         NaN  \n",
       "14638  Eastern Time (US & Canada)  \n",
       "14639                         NaN  \n",
       "\n",
       "[14640 rows x 15 columns]"
      ]
     },
     "execution_count": 3,
     "metadata": {},
     "output_type": "execute_result"
    }
   ],
   "source": [
    "# Print the first and last 5 lines of the DataFrame\n",
    "data"
   ]
  },
  {
   "cell_type": "code",
   "execution_count": 4,
   "metadata": {},
   "outputs": [
    {
     "data": {
      "text/plain": [
       "(14640, 15)"
      ]
     },
     "execution_count": 4,
     "metadata": {},
     "output_type": "execute_result"
    }
   ],
   "source": [
    "# Check the shape of the data\n",
    "data.shape  "
   ]
  },
  {
   "cell_type": "code",
   "execution_count": 5,
   "metadata": {},
   "outputs": [
    {
     "name": "stdout",
     "output_type": "stream",
     "text": [
      "<class 'pandas.core.frame.DataFrame'>\n",
      "RangeIndex: 14640 entries, 0 to 14639\n",
      "Data columns (total 15 columns):\n",
      " #   Column                        Non-Null Count  Dtype  \n",
      "---  ------                        --------------  -----  \n",
      " 0   tweet_id                      14640 non-null  int64  \n",
      " 1   airline_sentiment             14640 non-null  object \n",
      " 2   airline_sentiment_confidence  14640 non-null  float64\n",
      " 3   negativereason                9178 non-null   object \n",
      " 4   negativereason_confidence     10522 non-null  float64\n",
      " 5   airline                       14640 non-null  object \n",
      " 6   airline_sentiment_gold        40 non-null     object \n",
      " 7   name                          14640 non-null  object \n",
      " 8   negativereason_gold           32 non-null     object \n",
      " 9   retweet_count                 14640 non-null  int64  \n",
      " 10  text                          14640 non-null  object \n",
      " 11  tweet_coord                   1019 non-null   object \n",
      " 12  tweet_created                 14640 non-null  object \n",
      " 13  tweet_location                9907 non-null   object \n",
      " 14  user_timezone                 9820 non-null   object \n",
      "dtypes: float64(2), int64(2), object(11)\n",
      "memory usage: 1.7+ MB\n"
     ]
    }
   ],
   "source": [
    "# Check data types and number of non-null values for each column.\n",
    "data.info()"
   ]
  },
  {
   "cell_type": "code",
   "execution_count": 6,
   "metadata": {},
   "outputs": [
    {
     "data": {
      "text/plain": [
       "tweet_id                            0\n",
       "airline_sentiment                   0\n",
       "airline_sentiment_confidence        0\n",
       "negativereason                   5462\n",
       "negativereason_confidence        4118\n",
       "airline                             0\n",
       "airline_sentiment_gold          14600\n",
       "name                                0\n",
       "negativereason_gold             14608\n",
       "retweet_count                       0\n",
       "text                                0\n",
       "tweet_coord                     13621\n",
       "tweet_created                       0\n",
       "tweet_location                   4733\n",
       "user_timezone                    4820\n",
       "dtype: int64"
      ]
     },
     "execution_count": 6,
     "metadata": {},
     "output_type": "execute_result"
    }
   ],
   "source": [
    "data.isna().sum()"
   ]
  },
  {
   "cell_type": "code",
   "execution_count": 7,
   "metadata": {},
   "outputs": [
    {
     "data": {
      "text/html": [
       "<div>\n",
       "<style scoped>\n",
       "    .dataframe tbody tr th:only-of-type {\n",
       "        vertical-align: middle;\n",
       "    }\n",
       "\n",
       "    .dataframe tbody tr th {\n",
       "        vertical-align: top;\n",
       "    }\n",
       "\n",
       "    .dataframe thead th {\n",
       "        text-align: right;\n",
       "    }\n",
       "</style>\n",
       "<table border=\"1\" class=\"dataframe\">\n",
       "  <thead>\n",
       "    <tr style=\"text-align: right;\">\n",
       "      <th></th>\n",
       "      <th>count</th>\n",
       "      <th>mean</th>\n",
       "      <th>std</th>\n",
       "      <th>min</th>\n",
       "      <th>25%</th>\n",
       "      <th>50%</th>\n",
       "      <th>75%</th>\n",
       "      <th>max</th>\n",
       "    </tr>\n",
       "  </thead>\n",
       "  <tbody>\n",
       "    <tr>\n",
       "      <th>tweet_id</th>\n",
       "      <td>14640.0</td>\n",
       "      <td>5.692184e+17</td>\n",
       "      <td>7.791112e+14</td>\n",
       "      <td>5.675883e+17</td>\n",
       "      <td>5.685592e+17</td>\n",
       "      <td>5.694779e+17</td>\n",
       "      <td>5.698905e+17</td>\n",
       "      <td>5.703106e+17</td>\n",
       "    </tr>\n",
       "    <tr>\n",
       "      <th>airline_sentiment_confidence</th>\n",
       "      <td>14640.0</td>\n",
       "      <td>9.001689e-01</td>\n",
       "      <td>1.628300e-01</td>\n",
       "      <td>3.350000e-01</td>\n",
       "      <td>6.923000e-01</td>\n",
       "      <td>1.000000e+00</td>\n",
       "      <td>1.000000e+00</td>\n",
       "      <td>1.000000e+00</td>\n",
       "    </tr>\n",
       "    <tr>\n",
       "      <th>negativereason_confidence</th>\n",
       "      <td>10522.0</td>\n",
       "      <td>6.382983e-01</td>\n",
       "      <td>3.304398e-01</td>\n",
       "      <td>0.000000e+00</td>\n",
       "      <td>3.606000e-01</td>\n",
       "      <td>6.706000e-01</td>\n",
       "      <td>1.000000e+00</td>\n",
       "      <td>1.000000e+00</td>\n",
       "    </tr>\n",
       "    <tr>\n",
       "      <th>retweet_count</th>\n",
       "      <td>14640.0</td>\n",
       "      <td>8.265027e-02</td>\n",
       "      <td>7.457782e-01</td>\n",
       "      <td>0.000000e+00</td>\n",
       "      <td>0.000000e+00</td>\n",
       "      <td>0.000000e+00</td>\n",
       "      <td>0.000000e+00</td>\n",
       "      <td>4.400000e+01</td>\n",
       "    </tr>\n",
       "  </tbody>\n",
       "</table>\n",
       "</div>"
      ],
      "text/plain": [
       "                                count          mean           std  \\\n",
       "tweet_id                      14640.0  5.692184e+17  7.791112e+14   \n",
       "airline_sentiment_confidence  14640.0  9.001689e-01  1.628300e-01   \n",
       "negativereason_confidence     10522.0  6.382983e-01  3.304398e-01   \n",
       "retweet_count                 14640.0  8.265027e-02  7.457782e-01   \n",
       "\n",
       "                                       min           25%           50%  \\\n",
       "tweet_id                      5.675883e+17  5.685592e+17  5.694779e+17   \n",
       "airline_sentiment_confidence  3.350000e-01  6.923000e-01  1.000000e+00   \n",
       "negativereason_confidence     0.000000e+00  3.606000e-01  6.706000e-01   \n",
       "retweet_count                 0.000000e+00  0.000000e+00  0.000000e+00   \n",
       "\n",
       "                                       75%           max  \n",
       "tweet_id                      5.698905e+17  5.703106e+17  \n",
       "airline_sentiment_confidence  1.000000e+00  1.000000e+00  \n",
       "negativereason_confidence     1.000000e+00  1.000000e+00  \n",
       "retweet_count                 0.000000e+00  4.400000e+01  "
      ]
     },
     "execution_count": 7,
     "metadata": {},
     "output_type": "execute_result"
    }
   ],
   "source": [
    "# Summary numerical data\n",
    "data.describe().T"
   ]
  },
  {
   "cell_type": "code",
   "execution_count": 8,
   "metadata": {},
   "outputs": [
    {
     "data": {
      "text/plain": [
       "tweet_id                        14485\n",
       "airline_sentiment                   3\n",
       "airline_sentiment_confidence     1023\n",
       "negativereason                     10\n",
       "negativereason_confidence        1410\n",
       "airline                             6\n",
       "airline_sentiment_gold              3\n",
       "name                             7701\n",
       "negativereason_gold                13\n",
       "retweet_count                      18\n",
       "text                            14427\n",
       "tweet_coord                       832\n",
       "tweet_created                   14247\n",
       "tweet_location                   3081\n",
       "user_timezone                      85\n",
       "dtype: int64"
      ]
     },
     "execution_count": 8,
     "metadata": {},
     "output_type": "execute_result"
    }
   ],
   "source": [
    "# Check the unique values in each column of the dataframe.\n",
    "data.nunique()"
   ]
  },
  {
   "cell_type": "code",
   "execution_count": 9,
   "metadata": {},
   "outputs": [
    {
     "data": {
      "text/plain": [
       "36"
      ]
     },
     "execution_count": 9,
     "metadata": {},
     "output_type": "execute_result"
    }
   ],
   "source": [
    "# Check to see if there are duplicate rows\n",
    "data.duplicated().sum()"
   ]
  },
  {
   "cell_type": "code",
   "execution_count": 10,
   "metadata": {},
   "outputs": [
    {
     "data": {
      "text/html": [
       "<div>\n",
       "<style scoped>\n",
       "    .dataframe tbody tr th:only-of-type {\n",
       "        vertical-align: middle;\n",
       "    }\n",
       "\n",
       "    .dataframe tbody tr th {\n",
       "        vertical-align: top;\n",
       "    }\n",
       "\n",
       "    .dataframe thead th {\n",
       "        text-align: right;\n",
       "    }\n",
       "</style>\n",
       "<table border=\"1\" class=\"dataframe\">\n",
       "  <thead>\n",
       "    <tr style=\"text-align: right;\">\n",
       "      <th></th>\n",
       "      <th>tweet_id</th>\n",
       "      <th>airline_sentiment</th>\n",
       "      <th>airline_sentiment_confidence</th>\n",
       "      <th>negativereason</th>\n",
       "      <th>negativereason_confidence</th>\n",
       "      <th>airline</th>\n",
       "      <th>airline_sentiment_gold</th>\n",
       "      <th>name</th>\n",
       "      <th>negativereason_gold</th>\n",
       "      <th>retweet_count</th>\n",
       "      <th>text</th>\n",
       "      <th>tweet_coord</th>\n",
       "      <th>tweet_created</th>\n",
       "      <th>tweet_location</th>\n",
       "      <th>user_timezone</th>\n",
       "    </tr>\n",
       "  </thead>\n",
       "  <tbody>\n",
       "    <tr>\n",
       "      <th>11907</th>\n",
       "      <td>570301395141836801</td>\n",
       "      <td>negative</td>\n",
       "      <td>1.0</td>\n",
       "      <td>Late Flight</td>\n",
       "      <td>1.0</td>\n",
       "      <td>American</td>\n",
       "      <td>NaN</td>\n",
       "      <td>JoBarredaV</td>\n",
       "      <td>NaN</td>\n",
       "      <td>1</td>\n",
       "      <td>@AmericanAir r u serious?? 304min #delay with ...</td>\n",
       "      <td>NaN</td>\n",
       "      <td>2015-02-24 11:17:02 -0800</td>\n",
       "      <td>Mexico City</td>\n",
       "      <td>Central Time (US &amp; Canada)</td>\n",
       "    </tr>\n",
       "    <tr>\n",
       "      <th>11918</th>\n",
       "      <td>570298371140939776</td>\n",
       "      <td>negative</td>\n",
       "      <td>1.0</td>\n",
       "      <td>Late Flight</td>\n",
       "      <td>1.0</td>\n",
       "      <td>American</td>\n",
       "      <td>NaN</td>\n",
       "      <td>djjohnpayne</td>\n",
       "      <td>NaN</td>\n",
       "      <td>0</td>\n",
       "      <td>@AmericanAir if by near the gate you mean sitt...</td>\n",
       "      <td>[0.0, 0.0]</td>\n",
       "      <td>2015-02-24 11:05:01 -0800</td>\n",
       "      <td>Las Vegas, NV</td>\n",
       "      <td>Pacific Time (US &amp; Canada)</td>\n",
       "    </tr>\n",
       "    <tr>\n",
       "      <th>11925</th>\n",
       "      <td>570296996445204480</td>\n",
       "      <td>negative</td>\n",
       "      <td>1.0</td>\n",
       "      <td>Late Flight</td>\n",
       "      <td>1.0</td>\n",
       "      <td>American</td>\n",
       "      <td>NaN</td>\n",
       "      <td>aaronmsantos</td>\n",
       "      <td>NaN</td>\n",
       "      <td>0</td>\n",
       "      <td>@AmericanAir that's 16+ extra hours of travel ...</td>\n",
       "      <td>NaN</td>\n",
       "      <td>2015-02-24 10:59:34 -0800</td>\n",
       "      <td>Brooklyn, NY and all over.</td>\n",
       "      <td>Quito</td>\n",
       "    </tr>\n",
       "    <tr>\n",
       "      <th>11947</th>\n",
       "      <td>570288167242375168</td>\n",
       "      <td>negative</td>\n",
       "      <td>1.0</td>\n",
       "      <td>Late Flight</td>\n",
       "      <td>1.0</td>\n",
       "      <td>American</td>\n",
       "      <td>NaN</td>\n",
       "      <td>aaronmsantos</td>\n",
       "      <td>NaN</td>\n",
       "      <td>0</td>\n",
       "      <td>@AmericanAir delayed on the way to Puerto Rico...</td>\n",
       "      <td>NaN</td>\n",
       "      <td>2015-02-24 10:24:29 -0800</td>\n",
       "      <td>Brooklyn, NY and all over.</td>\n",
       "      <td>Quito</td>\n",
       "    </tr>\n",
       "    <tr>\n",
       "      <th>11984</th>\n",
       "      <td>570276196405125120</td>\n",
       "      <td>negative</td>\n",
       "      <td>1.0</td>\n",
       "      <td>Late Flight</td>\n",
       "      <td>1.0</td>\n",
       "      <td>American</td>\n",
       "      <td>NaN</td>\n",
       "      <td>mwecker</td>\n",
       "      <td>NaN</td>\n",
       "      <td>0</td>\n",
       "      <td>@AmericanAir Right. But more than two hours La...</td>\n",
       "      <td>NaN</td>\n",
       "      <td>2015-02-24 09:36:55 -0800</td>\n",
       "      <td>Washington, DC</td>\n",
       "      <td>Eastern Time (US &amp; Canada)</td>\n",
       "    </tr>\n",
       "    <tr>\n",
       "      <th>12068</th>\n",
       "      <td>570301395141836801</td>\n",
       "      <td>negative</td>\n",
       "      <td>1.0</td>\n",
       "      <td>Late Flight</td>\n",
       "      <td>1.0</td>\n",
       "      <td>American</td>\n",
       "      <td>NaN</td>\n",
       "      <td>JoBarredaV</td>\n",
       "      <td>NaN</td>\n",
       "      <td>1</td>\n",
       "      <td>@AmericanAir r u serious?? 304min #delay with ...</td>\n",
       "      <td>NaN</td>\n",
       "      <td>2015-02-24 11:17:02 -0800</td>\n",
       "      <td>Mexico City</td>\n",
       "      <td>Central Time (US &amp; Canada)</td>\n",
       "    </tr>\n",
       "    <tr>\n",
       "      <th>12079</th>\n",
       "      <td>570298371140939776</td>\n",
       "      <td>negative</td>\n",
       "      <td>1.0</td>\n",
       "      <td>Late Flight</td>\n",
       "      <td>1.0</td>\n",
       "      <td>American</td>\n",
       "      <td>NaN</td>\n",
       "      <td>djjohnpayne</td>\n",
       "      <td>NaN</td>\n",
       "      <td>0</td>\n",
       "      <td>@AmericanAir if by near the gate you mean sitt...</td>\n",
       "      <td>[0.0, 0.0]</td>\n",
       "      <td>2015-02-24 11:05:01 -0800</td>\n",
       "      <td>Las Vegas, NV</td>\n",
       "      <td>Pacific Time (US &amp; Canada)</td>\n",
       "    </tr>\n",
       "    <tr>\n",
       "      <th>12086</th>\n",
       "      <td>570296996445204480</td>\n",
       "      <td>negative</td>\n",
       "      <td>1.0</td>\n",
       "      <td>Late Flight</td>\n",
       "      <td>1.0</td>\n",
       "      <td>American</td>\n",
       "      <td>NaN</td>\n",
       "      <td>aaronmsantos</td>\n",
       "      <td>NaN</td>\n",
       "      <td>0</td>\n",
       "      <td>@AmericanAir that's 16+ extra hours of travel ...</td>\n",
       "      <td>NaN</td>\n",
       "      <td>2015-02-24 10:59:34 -0800</td>\n",
       "      <td>Brooklyn, NY and all over.</td>\n",
       "      <td>Quito</td>\n",
       "    </tr>\n",
       "    <tr>\n",
       "      <th>12108</th>\n",
       "      <td>570288167242375168</td>\n",
       "      <td>negative</td>\n",
       "      <td>1.0</td>\n",
       "      <td>Late Flight</td>\n",
       "      <td>1.0</td>\n",
       "      <td>American</td>\n",
       "      <td>NaN</td>\n",
       "      <td>aaronmsantos</td>\n",
       "      <td>NaN</td>\n",
       "      <td>0</td>\n",
       "      <td>@AmericanAir delayed on the way to Puerto Rico...</td>\n",
       "      <td>NaN</td>\n",
       "      <td>2015-02-24 10:24:29 -0800</td>\n",
       "      <td>Brooklyn, NY and all over.</td>\n",
       "      <td>Quito</td>\n",
       "    </tr>\n",
       "    <tr>\n",
       "      <th>12145</th>\n",
       "      <td>570276196405125120</td>\n",
       "      <td>negative</td>\n",
       "      <td>1.0</td>\n",
       "      <td>Late Flight</td>\n",
       "      <td>1.0</td>\n",
       "      <td>American</td>\n",
       "      <td>NaN</td>\n",
       "      <td>mwecker</td>\n",
       "      <td>NaN</td>\n",
       "      <td>0</td>\n",
       "      <td>@AmericanAir Right. But more than two hours La...</td>\n",
       "      <td>NaN</td>\n",
       "      <td>2015-02-24 09:36:55 -0800</td>\n",
       "      <td>Washington, DC</td>\n",
       "      <td>Eastern Time (US &amp; Canada)</td>\n",
       "    </tr>\n",
       "  </tbody>\n",
       "</table>\n",
       "</div>"
      ],
      "text/plain": [
       "                 tweet_id airline_sentiment  airline_sentiment_confidence  \\\n",
       "11907  570301395141836801          negative                           1.0   \n",
       "11918  570298371140939776          negative                           1.0   \n",
       "11925  570296996445204480          negative                           1.0   \n",
       "11947  570288167242375168          negative                           1.0   \n",
       "11984  570276196405125120          negative                           1.0   \n",
       "12068  570301395141836801          negative                           1.0   \n",
       "12079  570298371140939776          negative                           1.0   \n",
       "12086  570296996445204480          negative                           1.0   \n",
       "12108  570288167242375168          negative                           1.0   \n",
       "12145  570276196405125120          negative                           1.0   \n",
       "\n",
       "      negativereason  negativereason_confidence   airline  \\\n",
       "11907    Late Flight                        1.0  American   \n",
       "11918    Late Flight                        1.0  American   \n",
       "11925    Late Flight                        1.0  American   \n",
       "11947    Late Flight                        1.0  American   \n",
       "11984    Late Flight                        1.0  American   \n",
       "12068    Late Flight                        1.0  American   \n",
       "12079    Late Flight                        1.0  American   \n",
       "12086    Late Flight                        1.0  American   \n",
       "12108    Late Flight                        1.0  American   \n",
       "12145    Late Flight                        1.0  American   \n",
       "\n",
       "      airline_sentiment_gold          name negativereason_gold  retweet_count  \\\n",
       "11907                    NaN    JoBarredaV                 NaN              1   \n",
       "11918                    NaN   djjohnpayne                 NaN              0   \n",
       "11925                    NaN  aaronmsantos                 NaN              0   \n",
       "11947                    NaN  aaronmsantos                 NaN              0   \n",
       "11984                    NaN       mwecker                 NaN              0   \n",
       "12068                    NaN    JoBarredaV                 NaN              1   \n",
       "12079                    NaN   djjohnpayne                 NaN              0   \n",
       "12086                    NaN  aaronmsantos                 NaN              0   \n",
       "12108                    NaN  aaronmsantos                 NaN              0   \n",
       "12145                    NaN       mwecker                 NaN              0   \n",
       "\n",
       "                                                    text tweet_coord  \\\n",
       "11907  @AmericanAir r u serious?? 304min #delay with ...         NaN   \n",
       "11918  @AmericanAir if by near the gate you mean sitt...  [0.0, 0.0]   \n",
       "11925  @AmericanAir that's 16+ extra hours of travel ...         NaN   \n",
       "11947  @AmericanAir delayed on the way to Puerto Rico...         NaN   \n",
       "11984  @AmericanAir Right. But more than two hours La...         NaN   \n",
       "12068  @AmericanAir r u serious?? 304min #delay with ...         NaN   \n",
       "12079  @AmericanAir if by near the gate you mean sitt...  [0.0, 0.0]   \n",
       "12086  @AmericanAir that's 16+ extra hours of travel ...         NaN   \n",
       "12108  @AmericanAir delayed on the way to Puerto Rico...         NaN   \n",
       "12145  @AmericanAir Right. But more than two hours La...         NaN   \n",
       "\n",
       "                   tweet_created              tweet_location  \\\n",
       "11907  2015-02-24 11:17:02 -0800                 Mexico City   \n",
       "11918  2015-02-24 11:05:01 -0800               Las Vegas, NV   \n",
       "11925  2015-02-24 10:59:34 -0800  Brooklyn, NY and all over.   \n",
       "11947  2015-02-24 10:24:29 -0800  Brooklyn, NY and all over.   \n",
       "11984  2015-02-24 09:36:55 -0800              Washington, DC   \n",
       "12068  2015-02-24 11:17:02 -0800                 Mexico City   \n",
       "12079  2015-02-24 11:05:01 -0800               Las Vegas, NV   \n",
       "12086  2015-02-24 10:59:34 -0800  Brooklyn, NY and all over.   \n",
       "12108  2015-02-24 10:24:29 -0800  Brooklyn, NY and all over.   \n",
       "12145  2015-02-24 09:36:55 -0800              Washington, DC   \n",
       "\n",
       "                    user_timezone  \n",
       "11907  Central Time (US & Canada)  \n",
       "11918  Pacific Time (US & Canada)  \n",
       "11925                       Quito  \n",
       "11947                       Quito  \n",
       "11984  Eastern Time (US & Canada)  \n",
       "12068  Central Time (US & Canada)  \n",
       "12079  Pacific Time (US & Canada)  \n",
       "12086                       Quito  \n",
       "12108                       Quito  \n",
       "12145  Eastern Time (US & Canada)  "
      ]
     },
     "execution_count": 10,
     "metadata": {},
     "output_type": "execute_result"
    }
   ],
   "source": [
    "# Display some duplicates\n",
    "data[data.duplicated(keep=False).values].loc[(data['negativereason'] == 'Late Flight')]"
   ]
  },
  {
   "cell_type": "code",
   "execution_count": 11,
   "metadata": {},
   "outputs": [],
   "source": [
    "# Drop duplicates\n",
    "data.drop_duplicates(inplace=True, keep='last')"
   ]
  },
  {
   "cell_type": "code",
   "execution_count": 12,
   "metadata": {},
   "outputs": [
    {
     "name": "stdout",
     "output_type": "stream",
     "text": [
      "negative    9159\n",
      "neutral     3091\n",
      "positive    2354\n",
      "Name: airline_sentiment, dtype: int64\n",
      "------------------------------\n",
      "Customer Service Issue         2904\n",
      "Late Flight                    1660\n",
      "Can't Tell                     1190\n",
      "Cancelled Flight                843\n",
      "Lost Luggage                    721\n",
      "Bad Flight                      580\n",
      "Flight Booking Problems         529\n",
      "Flight Attendant Complaints     480\n",
      "longlines                       178\n",
      "Damaged Luggage                  74\n",
      "Name: negativereason, dtype: int64\n",
      "------------------------------\n",
      "United            3822\n",
      "US Airways        2913\n",
      "American          2723\n",
      "Southwest         2420\n",
      "Delta             2222\n",
      "Virgin America     504\n",
      "Name: airline, dtype: int64\n",
      "------------------------------\n",
      "negative    32\n",
      "positive     5\n",
      "neutral      3\n",
      "Name: airline_sentiment_gold, dtype: int64\n",
      "------------------------------\n",
      "Customer Service Issue                      12\n",
      "Late Flight                                  4\n",
      "Cancelled Flight                             3\n",
      "Can't Tell                                   3\n",
      "Cancelled Flight\\nCustomer Service Issue     2\n",
      "Late Flight\\nCancelled Flight                1\n",
      "Bad Flight                                   1\n",
      "Flight Attendant Complaints                  1\n",
      "Customer Service Issue\\nCan't Tell           1\n",
      "Late Flight\\nLost Luggage                    1\n",
      "Customer Service Issue\\nLost Luggage         1\n",
      "Lost Luggage\\nDamaged Luggage                1\n",
      "Late Flight\\nFlight Attendant Complaints     1\n",
      "Name: negativereason_gold, dtype: int64\n",
      "------------------------------\n"
     ]
    }
   ],
   "source": [
    "# Value counts for all categorical items\n",
    "cat_cols=['airline_sentiment','negativereason','airline','airline_sentiment_gold','negativereason_gold']\n",
    "\n",
    "for column in cat_cols:\n",
    "    print(data[column].value_counts())\n",
    "    print('-'*30)"
   ]
  },
  {
   "cell_type": "code",
   "execution_count": 13,
   "metadata": {},
   "outputs": [
    {
     "data": {
      "text/plain": [
       "(14604, 15)"
      ]
     },
     "execution_count": 13,
     "metadata": {},
     "output_type": "execute_result"
    }
   ],
   "source": [
    "# final data shape\n",
    "data.shape"
   ]
  },
  {
   "cell_type": "code",
   "execution_count": 14,
   "metadata": {},
   "outputs": [
    {
     "data": {
      "image/png": "[encoded data removed]",
      "text/plain": [
       "<Figure size 576x432 with 2 Axes>"
      ]
     },
     "metadata": {
      "needs_background": "light"
     },
     "output_type": "display_data"
    }
   ],
   "source": [
    "#Visualization of missing value using heatmap\n",
    "\n",
    "plt.figure(figsize=(8,6))\n",
    "sns.heatmap(data.isnull())                                  \n",
    "plt.title(\"Missing values?\", fontsize = 15)\n",
    "plt.show()"
   ]
  },
  {
   "cell_type": "markdown",
   "metadata": {},
   "source": [
    "### Data Summary\n",
    "\n",
    " * tweet_id\n",
    "     - Unique tweet ID number, not likely to be useful\n",
    " * airline_sentiment\n",
    "     - Predicted airline sentiment (negative, neutral, and postive)\n",
    "     - Approx. equal number of postive and neutral tweets\n",
    "     - About 3x more Negative tweets than neutral tweets\n",
    " * airline_sentiment_confidence\n",
    "     - Average confidence in sentiment score ~90%\n",
    "     - Min = 0\n",
    "     - Max = 1\n",
    "     - Mean = 0.9\n",
    "     - Median = 1\n",
    " * negativereason\n",
    "     - 9 different/unique reasons for negative sentiments identified - all other lumped into \"Can't Tell\" bucket\n",
    "     - Top 3 are Customer Service Issues, Late Flight, Cancelled Flight\n",
    " * negativereason_confidence\n",
    "     - Average confiendence in negative reason above is only ~64%\n",
    "     - Min = 0\n",
    "     - Max = 1\n",
    "     - Mean = 0.64\n",
    "     - Median = 0.67\n",
    " * airline\n",
    "     - 6 US Airlines identified\n",
    "     - 2000+ tweets for each company except Virgin America (only ~500 tweets)\n",
    " * airline_sentiment_gold\n",
    "     - Very sparsely populated\n",
    "     - Seems to be similar information as airline_sentiment column\n",
    " * name\n",
    "     - User name, not likely to be useful\n",
    " * negativereason_gold\n",
    "     - Very sparsely populated\n",
    "     - Seems to be similar information as negativereason column \n",
    " * retweet_count\n",
    "     - Number of times tweet was re-tweeted by other twitter users\n",
    "     - Min = 0\n",
    "     - Max = 44\n",
    "     - Mean = ~0\n",
    "     - Meadian = 0\n",
    " * text\n",
    "     - Actual text of the tweet\n",
    " * tweet_coord\n",
    "     - Coordinate of the tweet \n",
    " * tweet_created\n",
    "     - Time/Date of the tweet\n",
    " * tweet_location\n",
    "     - City of the tweet\n",
    " * user_timezone\n",
    "     - US Time-zone of tweet/user"
   ]
  },
  {
   "cell_type": "markdown",
   "metadata": {},
   "source": [
    "## 2. Understand of data columns: (5 Marks)\n",
    "     a. Drop all other columns except “text” and “airline_sentiment”.\n",
    "     b. Check the shape of the data.\n",
    "     c. Print the first 5 rows of data.\n",
    "     \n",
    " * Drop unnecessary columns, check shape of the data, print 1st few rows of data."
   ]
  },
  {
   "cell_type": "code",
   "execution_count": 15,
   "metadata": {},
   "outputs": [],
   "source": [
    "data.drop(data.columns.difference(['text','airline_sentiment']), 1, inplace=True)"
   ]
  },
  {
   "cell_type": "code",
   "execution_count": 16,
   "metadata": {},
   "outputs": [
    {
     "data": {
      "text/plain": [
       "(14604, 2)"
      ]
     },
     "execution_count": 16,
     "metadata": {},
     "output_type": "execute_result"
    }
   ],
   "source": [
    "data.shape"
   ]
  },
  {
   "cell_type": "code",
   "execution_count": 17,
   "metadata": {},
   "outputs": [
    {
     "data": {
      "text/html": [
       "<div>\n",
       "<style scoped>\n",
       "    .dataframe tbody tr th:only-of-type {\n",
       "        vertical-align: middle;\n",
       "    }\n",
       "\n",
       "    .dataframe tbody tr th {\n",
       "        vertical-align: top;\n",
       "    }\n",
       "\n",
       "    .dataframe thead th {\n",
       "        text-align: right;\n",
       "    }\n",
       "</style>\n",
       "<table border=\"1\" class=\"dataframe\">\n",
       "  <thead>\n",
       "    <tr style=\"text-align: right;\">\n",
       "      <th></th>\n",
       "      <th>airline_sentiment</th>\n",
       "      <th>text</th>\n",
       "    </tr>\n",
       "  </thead>\n",
       "  <tbody>\n",
       "    <tr>\n",
       "      <th>0</th>\n",
       "      <td>neutral</td>\n",
       "      <td>@VirginAmerica What @dhepburn said.</td>\n",
       "    </tr>\n",
       "    <tr>\n",
       "      <th>1</th>\n",
       "      <td>positive</td>\n",
       "      <td>@VirginAmerica plus you've added commercials t...</td>\n",
       "    </tr>\n",
       "    <tr>\n",
       "      <th>2</th>\n",
       "      <td>neutral</td>\n",
       "      <td>@VirginAmerica I didn't today... Must mean I n...</td>\n",
       "    </tr>\n",
       "    <tr>\n",
       "      <th>3</th>\n",
       "      <td>negative</td>\n",
       "      <td>@VirginAmerica it's really aggressive to blast...</td>\n",
       "    </tr>\n",
       "    <tr>\n",
       "      <th>4</th>\n",
       "      <td>negative</td>\n",
       "      <td>@VirginAmerica and it's a really big bad thing...</td>\n",
       "    </tr>\n",
       "    <tr>\n",
       "      <th>...</th>\n",
       "      <td>...</td>\n",
       "      <td>...</td>\n",
       "    </tr>\n",
       "    <tr>\n",
       "      <th>14635</th>\n",
       "      <td>positive</td>\n",
       "      <td>@AmericanAir thank you we got on a different f...</td>\n",
       "    </tr>\n",
       "    <tr>\n",
       "      <th>14636</th>\n",
       "      <td>negative</td>\n",
       "      <td>@AmericanAir leaving over 20 minutes Late Flig...</td>\n",
       "    </tr>\n",
       "    <tr>\n",
       "      <th>14637</th>\n",
       "      <td>neutral</td>\n",
       "      <td>@AmericanAir Please bring American Airlines to...</td>\n",
       "    </tr>\n",
       "    <tr>\n",
       "      <th>14638</th>\n",
       "      <td>negative</td>\n",
       "      <td>@AmericanAir you have my money, you change my ...</td>\n",
       "    </tr>\n",
       "    <tr>\n",
       "      <th>14639</th>\n",
       "      <td>neutral</td>\n",
       "      <td>@AmericanAir we have 8 ppl so we need 2 know h...</td>\n",
       "    </tr>\n",
       "  </tbody>\n",
       "</table>\n",
       "<p>14604 rows × 2 columns</p>\n",
       "</div>"
      ],
      "text/plain": [
       "      airline_sentiment                                               text\n",
       "0               neutral                @VirginAmerica What @dhepburn said.\n",
       "1              positive  @VirginAmerica plus you've added commercials t...\n",
       "2               neutral  @VirginAmerica I didn't today... Must mean I n...\n",
       "3              negative  @VirginAmerica it's really aggressive to blast...\n",
       "4              negative  @VirginAmerica and it's a really big bad thing...\n",
       "...                 ...                                                ...\n",
       "14635          positive  @AmericanAir thank you we got on a different f...\n",
       "14636          negative  @AmericanAir leaving over 20 minutes Late Flig...\n",
       "14637           neutral  @AmericanAir Please bring American Airlines to...\n",
       "14638          negative  @AmericanAir you have my money, you change my ...\n",
       "14639           neutral  @AmericanAir we have 8 ppl so we need 2 know h...\n",
       "\n",
       "[14604 rows x 2 columns]"
      ]
     },
     "execution_count": 17,
     "metadata": {},
     "output_type": "execute_result"
    }
   ],
   "source": [
    "data"
   ]
  },
  {
   "cell_type": "code",
   "execution_count": 18,
   "metadata": {},
   "outputs": [
    {
     "name": "stdout",
     "output_type": "stream",
     "text": [
      "<class 'pandas.core.frame.DataFrame'>\n",
      "Int64Index: 14604 entries, 0 to 14639\n",
      "Data columns (total 2 columns):\n",
      " #   Column             Non-Null Count  Dtype \n",
      "---  ------             --------------  ----- \n",
      " 0   airline_sentiment  14604 non-null  object\n",
      " 1   text               14604 non-null  object\n",
      "dtypes: object(2)\n",
      "memory usage: 342.3+ KB\n"
     ]
    }
   ],
   "source": [
    "data.info()"
   ]
  },
  {
   "cell_type": "code",
   "execution_count": 19,
   "metadata": {},
   "outputs": [
    {
     "data": {
      "text/plain": [
       "negative    9159\n",
       "neutral     3091\n",
       "positive    2354\n",
       "Name: airline_sentiment, dtype: int64"
      ]
     },
     "execution_count": 19,
     "metadata": {},
     "output_type": "execute_result"
    }
   ],
   "source": [
    "data['airline_sentiment'].value_counts()"
   ]
  },
  {
   "cell_type": "markdown",
   "metadata": {},
   "source": [
    "## 3. Text pre-processing: Data preparation. (16 Marks)\n",
    "     NOTE:- Each text pre-processing step should be mentioned in the notebook separately.\n",
    "     a. Html tag removal.\n",
    "     b. Tokenization.\n",
    "     c. Remove the numbers.\n",
    "     d. Removal of Special Characters and Punctuations.\n",
    "     e. Removal of stopwords\n",
    "     f. Conversion to lowercase.\n",
    "     g. Lemmatize or stemming.\n",
    "     h. Join the words in the list to convert back to text string in the data frame. (So that each row\n",
    "          contains the data in text format.)\n",
    "     i. Print the first 5 rows of data after pre-processing.\n",
    "     \n",
    " * Apply all necessary pre-processing step for this task. Print first few rows of data after pre-processing."
   ]
  },
  {
   "cell_type": "code",
   "execution_count": 20,
   "metadata": {},
   "outputs": [
    {
     "data": {
      "text/plain": [
       "array([ 0,  1,  0, ...,  0, -1,  0], dtype=int64)"
      ]
     },
     "execution_count": 20,
     "metadata": {},
     "output_type": "execute_result"
    }
   ],
   "source": [
    "# Convert airline_sentiment to numeric\n",
    "labels = data['airline_sentiment']\n",
    "\n",
    "labels.loc[labels == 'negative'] = -1\n",
    "labels.loc[labels == 'neutral'] = 0\n",
    "labels.loc[labels == 'positive'] = 1\n",
    "\n",
    "labels = labels.values.ravel()\n",
    "labels = labels.astype('int64')\n",
    "labels"
   ]
  },
  {
   "cell_type": "markdown",
   "metadata": {},
   "source": [
    "### a. Html tag removal."
   ]
  },
  {
   "cell_type": "code",
   "execution_count": 21,
   "metadata": {
    "scrolled": true
   },
   "outputs": [
    {
     "data": {
      "text/html": [
       "<div>\n",
       "<style scoped>\n",
       "    .dataframe tbody tr th:only-of-type {\n",
       "        vertical-align: middle;\n",
       "    }\n",
       "\n",
       "    .dataframe tbody tr th {\n",
       "        vertical-align: top;\n",
       "    }\n",
       "\n",
       "    .dataframe thead th {\n",
       "        text-align: right;\n",
       "    }\n",
       "</style>\n",
       "<table border=\"1\" class=\"dataframe\">\n",
       "  <thead>\n",
       "    <tr style=\"text-align: right;\">\n",
       "      <th></th>\n",
       "      <th>airline_sentiment</th>\n",
       "      <th>text</th>\n",
       "    </tr>\n",
       "  </thead>\n",
       "  <tbody>\n",
       "    <tr>\n",
       "      <th>0</th>\n",
       "      <td>0</td>\n",
       "      <td>@VirginAmerica What @dhepburn said.</td>\n",
       "    </tr>\n",
       "    <tr>\n",
       "      <th>1</th>\n",
       "      <td>1</td>\n",
       "      <td>@VirginAmerica plus you've added commercials t...</td>\n",
       "    </tr>\n",
       "    <tr>\n",
       "      <th>2</th>\n",
       "      <td>0</td>\n",
       "      <td>@VirginAmerica I didn't today... Must mean I n...</td>\n",
       "    </tr>\n",
       "    <tr>\n",
       "      <th>3</th>\n",
       "      <td>-1</td>\n",
       "      <td>@VirginAmerica it's really aggressive to blast...</td>\n",
       "    </tr>\n",
       "    <tr>\n",
       "      <th>4</th>\n",
       "      <td>-1</td>\n",
       "      <td>@VirginAmerica and it's a really big bad thing...</td>\n",
       "    </tr>\n",
       "    <tr>\n",
       "      <th>...</th>\n",
       "      <td>...</td>\n",
       "      <td>...</td>\n",
       "    </tr>\n",
       "    <tr>\n",
       "      <th>14635</th>\n",
       "      <td>1</td>\n",
       "      <td>@AmericanAir thank you we got on a different f...</td>\n",
       "    </tr>\n",
       "    <tr>\n",
       "      <th>14636</th>\n",
       "      <td>-1</td>\n",
       "      <td>@AmericanAir leaving over 20 minutes Late Flig...</td>\n",
       "    </tr>\n",
       "    <tr>\n",
       "      <th>14637</th>\n",
       "      <td>0</td>\n",
       "      <td>@AmericanAir Please bring American Airlines to...</td>\n",
       "    </tr>\n",
       "    <tr>\n",
       "      <th>14638</th>\n",
       "      <td>-1</td>\n",
       "      <td>@AmericanAir you have my money, you change my ...</td>\n",
       "    </tr>\n",
       "    <tr>\n",
       "      <th>14639</th>\n",
       "      <td>0</td>\n",
       "      <td>@AmericanAir we have 8 ppl so we need 2 know h...</td>\n",
       "    </tr>\n",
       "  </tbody>\n",
       "</table>\n",
       "<p>14604 rows × 2 columns</p>\n",
       "</div>"
      ],
      "text/plain": [
       "      airline_sentiment                                               text\n",
       "0                     0                @VirginAmerica What @dhepburn said.\n",
       "1                     1  @VirginAmerica plus you've added commercials t...\n",
       "2                     0  @VirginAmerica I didn't today... Must mean I n...\n",
       "3                    -1  @VirginAmerica it's really aggressive to blast...\n",
       "4                    -1  @VirginAmerica and it's a really big bad thing...\n",
       "...                 ...                                                ...\n",
       "14635                 1  @AmericanAir thank you we got on a different f...\n",
       "14636                -1  @AmericanAir leaving over 20 minutes Late Flig...\n",
       "14637                 0  @AmericanAir Please bring American Airlines to...\n",
       "14638                -1  @AmericanAir you have my money, you change my ...\n",
       "14639                 0  @AmericanAir we have 8 ppl so we need 2 know h...\n",
       "\n",
       "[14604 rows x 2 columns]"
      ]
     },
     "execution_count": 21,
     "metadata": {},
     "output_type": "execute_result"
    }
   ],
   "source": [
    "def strip_html(text):\n",
    "    soup = BeautifulSoup(text, \"html.parser\")                    \n",
    "    return soup.get_text()\n",
    "\n",
    "data['text'] = data['text'].apply(lambda x: strip_html(x))\n",
    "\n",
    "data"
   ]
  },
  {
   "cell_type": "markdown",
   "metadata": {},
   "source": [
    "#### Contractions (Extra)"
   ]
  },
  {
   "cell_type": "code",
   "execution_count": 22,
   "metadata": {},
   "outputs": [],
   "source": [
    "# Replace contractions (e.g., can't -> can not)\n",
    "def replace_contractions(text):\n",
    "    \"\"\"Replace contractions in string of text\"\"\"\n",
    "    return contractions.fix(text)\n",
    "\n",
    "data['text'] = data['text'].apply(lambda x: replace_contractions(x))"
   ]
  },
  {
   "cell_type": "code",
   "execution_count": 23,
   "metadata": {},
   "outputs": [
    {
     "data": {
      "text/html": [
       "<div>\n",
       "<style scoped>\n",
       "    .dataframe tbody tr th:only-of-type {\n",
       "        vertical-align: middle;\n",
       "    }\n",
       "\n",
       "    .dataframe tbody tr th {\n",
       "        vertical-align: top;\n",
       "    }\n",
       "\n",
       "    .dataframe thead th {\n",
       "        text-align: right;\n",
       "    }\n",
       "</style>\n",
       "<table border=\"1\" class=\"dataframe\">\n",
       "  <thead>\n",
       "    <tr style=\"text-align: right;\">\n",
       "      <th></th>\n",
       "      <th>airline_sentiment</th>\n",
       "      <th>text</th>\n",
       "    </tr>\n",
       "  </thead>\n",
       "  <tbody>\n",
       "    <tr>\n",
       "      <th>0</th>\n",
       "      <td>0</td>\n",
       "      <td>@VirginAmerica What @dhepburn said.</td>\n",
       "    </tr>\n",
       "    <tr>\n",
       "      <th>1</th>\n",
       "      <td>1</td>\n",
       "      <td>@VirginAmerica plus you have added commercials...</td>\n",
       "    </tr>\n",
       "    <tr>\n",
       "      <th>2</th>\n",
       "      <td>0</td>\n",
       "      <td>@VirginAmerica I did not today... Must mean I ...</td>\n",
       "    </tr>\n",
       "    <tr>\n",
       "      <th>3</th>\n",
       "      <td>-1</td>\n",
       "      <td>@VirginAmerica it is really aggressive to blas...</td>\n",
       "    </tr>\n",
       "    <tr>\n",
       "      <th>4</th>\n",
       "      <td>-1</td>\n",
       "      <td>@VirginAmerica and it is a really big bad thin...</td>\n",
       "    </tr>\n",
       "    <tr>\n",
       "      <th>...</th>\n",
       "      <td>...</td>\n",
       "      <td>...</td>\n",
       "    </tr>\n",
       "    <tr>\n",
       "      <th>14635</th>\n",
       "      <td>1</td>\n",
       "      <td>@AmericanAir thank you we got on a different f...</td>\n",
       "    </tr>\n",
       "    <tr>\n",
       "      <th>14636</th>\n",
       "      <td>-1</td>\n",
       "      <td>@AmericanAir leaving over 20 minutes Late Flig...</td>\n",
       "    </tr>\n",
       "    <tr>\n",
       "      <th>14637</th>\n",
       "      <td>0</td>\n",
       "      <td>@AmericanAir Please bring American Airlines to...</td>\n",
       "    </tr>\n",
       "    <tr>\n",
       "      <th>14638</th>\n",
       "      <td>-1</td>\n",
       "      <td>@AmericanAir you have my money, you change my ...</td>\n",
       "    </tr>\n",
       "    <tr>\n",
       "      <th>14639</th>\n",
       "      <td>0</td>\n",
       "      <td>@AmericanAir we have 8 ppl so we need 2 know h...</td>\n",
       "    </tr>\n",
       "  </tbody>\n",
       "</table>\n",
       "<p>14604 rows × 2 columns</p>\n",
       "</div>"
      ],
      "text/plain": [
       "      airline_sentiment                                               text\n",
       "0                     0                @VirginAmerica What @dhepburn said.\n",
       "1                     1  @VirginAmerica plus you have added commercials...\n",
       "2                     0  @VirginAmerica I did not today... Must mean I ...\n",
       "3                    -1  @VirginAmerica it is really aggressive to blas...\n",
       "4                    -1  @VirginAmerica and it is a really big bad thin...\n",
       "...                 ...                                                ...\n",
       "14635                 1  @AmericanAir thank you we got on a different f...\n",
       "14636                -1  @AmericanAir leaving over 20 minutes Late Flig...\n",
       "14637                 0  @AmericanAir Please bring American Airlines to...\n",
       "14638                -1  @AmericanAir you have my money, you change my ...\n",
       "14639                 0  @AmericanAir we have 8 ppl so we need 2 know h...\n",
       "\n",
       "[14604 rows x 2 columns]"
      ]
     },
     "execution_count": 23,
     "metadata": {},
     "output_type": "execute_result"
    }
   ],
   "source": [
    "data"
   ]
  },
  {
   "cell_type": "markdown",
   "metadata": {},
   "source": [
    "### b. Tokenization."
   ]
  },
  {
   "cell_type": "code",
   "execution_count": 24,
   "metadata": {},
   "outputs": [],
   "source": [
    "def tokenization(text):\n",
    "    words = nltk.word_tokenize(text)     # list of words.\n",
    "    return words\n",
    "\n",
    "data['tokenized_text'] = data['text'].apply(lambda x: tokenization(x))"
   ]
  },
  {
   "cell_type": "code",
   "execution_count": 25,
   "metadata": {},
   "outputs": [
    {
     "data": {
      "text/html": [
       "<div>\n",
       "<style scoped>\n",
       "    .dataframe tbody tr th:only-of-type {\n",
       "        vertical-align: middle;\n",
       "    }\n",
       "\n",
       "    .dataframe tbody tr th {\n",
       "        vertical-align: top;\n",
       "    }\n",
       "\n",
       "    .dataframe thead th {\n",
       "        text-align: right;\n",
       "    }\n",
       "</style>\n",
       "<table border=\"1\" class=\"dataframe\">\n",
       "  <thead>\n",
       "    <tr style=\"text-align: right;\">\n",
       "      <th></th>\n",
       "      <th>airline_sentiment</th>\n",
       "      <th>text</th>\n",
       "      <th>tokenized_text</th>\n",
       "    </tr>\n",
       "  </thead>\n",
       "  <tbody>\n",
       "    <tr>\n",
       "      <th>0</th>\n",
       "      <td>0</td>\n",
       "      <td>@VirginAmerica What @dhepburn said.</td>\n",
       "      <td>[@, VirginAmerica, What, @, dhepburn, said, .]</td>\n",
       "    </tr>\n",
       "    <tr>\n",
       "      <th>1</th>\n",
       "      <td>1</td>\n",
       "      <td>@VirginAmerica plus you have added commercials...</td>\n",
       "      <td>[@, VirginAmerica, plus, you, have, added, com...</td>\n",
       "    </tr>\n",
       "    <tr>\n",
       "      <th>2</th>\n",
       "      <td>0</td>\n",
       "      <td>@VirginAmerica I did not today... Must mean I ...</td>\n",
       "      <td>[@, VirginAmerica, I, did, not, today, ..., Mu...</td>\n",
       "    </tr>\n",
       "    <tr>\n",
       "      <th>3</th>\n",
       "      <td>-1</td>\n",
       "      <td>@VirginAmerica it is really aggressive to blas...</td>\n",
       "      <td>[@, VirginAmerica, it, is, really, aggressive,...</td>\n",
       "    </tr>\n",
       "    <tr>\n",
       "      <th>4</th>\n",
       "      <td>-1</td>\n",
       "      <td>@VirginAmerica and it is a really big bad thin...</td>\n",
       "      <td>[@, VirginAmerica, and, it, is, a, really, big...</td>\n",
       "    </tr>\n",
       "    <tr>\n",
       "      <th>...</th>\n",
       "      <td>...</td>\n",
       "      <td>...</td>\n",
       "      <td>...</td>\n",
       "    </tr>\n",
       "    <tr>\n",
       "      <th>14635</th>\n",
       "      <td>1</td>\n",
       "      <td>@AmericanAir thank you we got on a different f...</td>\n",
       "      <td>[@, AmericanAir, thank, you, we, got, on, a, d...</td>\n",
       "    </tr>\n",
       "    <tr>\n",
       "      <th>14636</th>\n",
       "      <td>-1</td>\n",
       "      <td>@AmericanAir leaving over 20 minutes Late Flig...</td>\n",
       "      <td>[@, AmericanAir, leaving, over, 20, minutes, L...</td>\n",
       "    </tr>\n",
       "    <tr>\n",
       "      <th>14637</th>\n",
       "      <td>0</td>\n",
       "      <td>@AmericanAir Please bring American Airlines to...</td>\n",
       "      <td>[@, AmericanAir, Please, bring, American, Airl...</td>\n",
       "    </tr>\n",
       "    <tr>\n",
       "      <th>14638</th>\n",
       "      <td>-1</td>\n",
       "      <td>@AmericanAir you have my money, you change my ...</td>\n",
       "      <td>[@, AmericanAir, you, have, my, money, ,, you,...</td>\n",
       "    </tr>\n",
       "    <tr>\n",
       "      <th>14639</th>\n",
       "      <td>0</td>\n",
       "      <td>@AmericanAir we have 8 ppl so we need 2 know h...</td>\n",
       "      <td>[@, AmericanAir, we, have, 8, ppl, so, we, nee...</td>\n",
       "    </tr>\n",
       "  </tbody>\n",
       "</table>\n",
       "<p>14604 rows × 3 columns</p>\n",
       "</div>"
      ],
      "text/plain": [
       "      airline_sentiment                                               text  \\\n",
       "0                     0                @VirginAmerica What @dhepburn said.   \n",
       "1                     1  @VirginAmerica plus you have added commercials...   \n",
       "2                     0  @VirginAmerica I did not today... Must mean I ...   \n",
       "3                    -1  @VirginAmerica it is really aggressive to blas...   \n",
       "4                    -1  @VirginAmerica and it is a really big bad thin...   \n",
       "...                 ...                                                ...   \n",
       "14635                 1  @AmericanAir thank you we got on a different f...   \n",
       "14636                -1  @AmericanAir leaving over 20 minutes Late Flig...   \n",
       "14637                 0  @AmericanAir Please bring American Airlines to...   \n",
       "14638                -1  @AmericanAir you have my money, you change my ...   \n",
       "14639                 0  @AmericanAir we have 8 ppl so we need 2 know h...   \n",
       "\n",
       "                                          tokenized_text  \n",
       "0         [@, VirginAmerica, What, @, dhepburn, said, .]  \n",
       "1      [@, VirginAmerica, plus, you, have, added, com...  \n",
       "2      [@, VirginAmerica, I, did, not, today, ..., Mu...  \n",
       "3      [@, VirginAmerica, it, is, really, aggressive,...  \n",
       "4      [@, VirginAmerica, and, it, is, a, really, big...  \n",
       "...                                                  ...  \n",
       "14635  [@, AmericanAir, thank, you, we, got, on, a, d...  \n",
       "14636  [@, AmericanAir, leaving, over, 20, minutes, L...  \n",
       "14637  [@, AmericanAir, Please, bring, American, Airl...  \n",
       "14638  [@, AmericanAir, you, have, my, money, ,, you,...  \n",
       "14639  [@, AmericanAir, we, have, 8, ppl, so, we, nee...  \n",
       "\n",
       "[14604 rows x 3 columns]"
      ]
     },
     "execution_count": 25,
     "metadata": {},
     "output_type": "execute_result"
    }
   ],
   "source": [
    "data"
   ]
  },
  {
   "cell_type": "markdown",
   "metadata": {},
   "source": [
    "### c. Remove the numbers."
   ]
  },
  {
   "cell_type": "code",
   "execution_count": 26,
   "metadata": {},
   "outputs": [],
   "source": [
    "def remove_numbers(text):\n",
    "    sentence_array = []                            # Create empty list to store pre-processed words.\n",
    "    for word in text:\n",
    "        new_word = re.sub(r'\\d+', '', word)\n",
    "        if new_word != '':\n",
    "            sentence_array.append(new_word)                # Append processed words to new list.\n",
    "    return sentence_array\n",
    "\n",
    "\n",
    "data['tokenized_text'] = data['tokenized_text'].apply(lambda x: remove_numbers(x))"
   ]
  },
  {
   "cell_type": "code",
   "execution_count": 27,
   "metadata": {},
   "outputs": [
    {
     "data": {
      "text/html": [
       "<div>\n",
       "<style scoped>\n",
       "    .dataframe tbody tr th:only-of-type {\n",
       "        vertical-align: middle;\n",
       "    }\n",
       "\n",
       "    .dataframe tbody tr th {\n",
       "        vertical-align: top;\n",
       "    }\n",
       "\n",
       "    .dataframe thead th {\n",
       "        text-align: right;\n",
       "    }\n",
       "</style>\n",
       "<table border=\"1\" class=\"dataframe\">\n",
       "  <thead>\n",
       "    <tr style=\"text-align: right;\">\n",
       "      <th></th>\n",
       "      <th>airline_sentiment</th>\n",
       "      <th>text</th>\n",
       "      <th>tokenized_text</th>\n",
       "    </tr>\n",
       "  </thead>\n",
       "  <tbody>\n",
       "    <tr>\n",
       "      <th>0</th>\n",
       "      <td>0</td>\n",
       "      <td>@VirginAmerica What @dhepburn said.</td>\n",
       "      <td>[@, VirginAmerica, What, @, dhepburn, said, .]</td>\n",
       "    </tr>\n",
       "    <tr>\n",
       "      <th>1</th>\n",
       "      <td>1</td>\n",
       "      <td>@VirginAmerica plus you have added commercials...</td>\n",
       "      <td>[@, VirginAmerica, plus, you, have, added, com...</td>\n",
       "    </tr>\n",
       "    <tr>\n",
       "      <th>2</th>\n",
       "      <td>0</td>\n",
       "      <td>@VirginAmerica I did not today... Must mean I ...</td>\n",
       "      <td>[@, VirginAmerica, I, did, not, today, ..., Mu...</td>\n",
       "    </tr>\n",
       "    <tr>\n",
       "      <th>3</th>\n",
       "      <td>-1</td>\n",
       "      <td>@VirginAmerica it is really aggressive to blas...</td>\n",
       "      <td>[@, VirginAmerica, it, is, really, aggressive,...</td>\n",
       "    </tr>\n",
       "    <tr>\n",
       "      <th>4</th>\n",
       "      <td>-1</td>\n",
       "      <td>@VirginAmerica and it is a really big bad thin...</td>\n",
       "      <td>[@, VirginAmerica, and, it, is, a, really, big...</td>\n",
       "    </tr>\n",
       "    <tr>\n",
       "      <th>...</th>\n",
       "      <td>...</td>\n",
       "      <td>...</td>\n",
       "      <td>...</td>\n",
       "    </tr>\n",
       "    <tr>\n",
       "      <th>14635</th>\n",
       "      <td>1</td>\n",
       "      <td>@AmericanAir thank you we got on a different f...</td>\n",
       "      <td>[@, AmericanAir, thank, you, we, got, on, a, d...</td>\n",
       "    </tr>\n",
       "    <tr>\n",
       "      <th>14636</th>\n",
       "      <td>-1</td>\n",
       "      <td>@AmericanAir leaving over 20 minutes Late Flig...</td>\n",
       "      <td>[@, AmericanAir, leaving, over, minutes, Late,...</td>\n",
       "    </tr>\n",
       "    <tr>\n",
       "      <th>14637</th>\n",
       "      <td>0</td>\n",
       "      <td>@AmericanAir Please bring American Airlines to...</td>\n",
       "      <td>[@, AmericanAir, Please, bring, American, Airl...</td>\n",
       "    </tr>\n",
       "    <tr>\n",
       "      <th>14638</th>\n",
       "      <td>-1</td>\n",
       "      <td>@AmericanAir you have my money, you change my ...</td>\n",
       "      <td>[@, AmericanAir, you, have, my, money, ,, you,...</td>\n",
       "    </tr>\n",
       "    <tr>\n",
       "      <th>14639</th>\n",
       "      <td>0</td>\n",
       "      <td>@AmericanAir we have 8 ppl so we need 2 know h...</td>\n",
       "      <td>[@, AmericanAir, we, have, ppl, so, we, need, ...</td>\n",
       "    </tr>\n",
       "  </tbody>\n",
       "</table>\n",
       "<p>14604 rows × 3 columns</p>\n",
       "</div>"
      ],
      "text/plain": [
       "      airline_sentiment                                               text  \\\n",
       "0                     0                @VirginAmerica What @dhepburn said.   \n",
       "1                     1  @VirginAmerica plus you have added commercials...   \n",
       "2                     0  @VirginAmerica I did not today... Must mean I ...   \n",
       "3                    -1  @VirginAmerica it is really aggressive to blas...   \n",
       "4                    -1  @VirginAmerica and it is a really big bad thin...   \n",
       "...                 ...                                                ...   \n",
       "14635                 1  @AmericanAir thank you we got on a different f...   \n",
       "14636                -1  @AmericanAir leaving over 20 minutes Late Flig...   \n",
       "14637                 0  @AmericanAir Please bring American Airlines to...   \n",
       "14638                -1  @AmericanAir you have my money, you change my ...   \n",
       "14639                 0  @AmericanAir we have 8 ppl so we need 2 know h...   \n",
       "\n",
       "                                          tokenized_text  \n",
       "0         [@, VirginAmerica, What, @, dhepburn, said, .]  \n",
       "1      [@, VirginAmerica, plus, you, have, added, com...  \n",
       "2      [@, VirginAmerica, I, did, not, today, ..., Mu...  \n",
       "3      [@, VirginAmerica, it, is, really, aggressive,...  \n",
       "4      [@, VirginAmerica, and, it, is, a, really, big...  \n",
       "...                                                  ...  \n",
       "14635  [@, AmericanAir, thank, you, we, got, on, a, d...  \n",
       "14636  [@, AmericanAir, leaving, over, minutes, Late,...  \n",
       "14637  [@, AmericanAir, Please, bring, American, Airl...  \n",
       "14638  [@, AmericanAir, you, have, my, money, ,, you,...  \n",
       "14639  [@, AmericanAir, we, have, ppl, so, we, need, ...  \n",
       "\n",
       "[14604 rows x 3 columns]"
      ]
     },
     "execution_count": 27,
     "metadata": {},
     "output_type": "execute_result"
    }
   ],
   "source": [
    "data"
   ]
  },
  {
   "cell_type": "markdown",
   "metadata": {},
   "source": [
    "### d. Removal of Special Characters and Punctuations."
   ]
  },
  {
   "cell_type": "code",
   "execution_count": 28,
   "metadata": {},
   "outputs": [],
   "source": [
    "def remove_non_ascii(words):\n",
    "    \"\"\"Remove non-ASCII characters from list of tokenized words\"\"\"\n",
    "    new_words = []\n",
    "    for word in words:\n",
    "        new_word = unicodedata.normalize('NFKD', word).encode('ascii', 'ignore').decode('utf-8', 'ignore')\n",
    "        new_words.append(new_word)\n",
    "    return new_words\n",
    "\n",
    "def remove_punctuation(words):\n",
    "    \"\"\"Remove punctuation from list of tokenized words\"\"\"\n",
    "    new_words = []\n",
    "    for word in words:\n",
    "        new_word = re.sub(r'[^\\w\\s]', '', word)\n",
    "        if new_word != '':\n",
    "            new_words.append(new_word)\n",
    "    return new_words\n",
    "\n",
    "def remove_SC_and_P(words):\n",
    "    words = remove_non_ascii(words)\n",
    "    words = remove_punctuation(words)\n",
    "    return words\n",
    "    \n",
    "data['tokenized_text'] = data['tokenized_text'].apply(lambda x: remove_SC_and_P(x))"
   ]
  },
  {
   "cell_type": "code",
   "execution_count": 29,
   "metadata": {},
   "outputs": [
    {
     "data": {
      "text/html": [
       "<div>\n",
       "<style scoped>\n",
       "    .dataframe tbody tr th:only-of-type {\n",
       "        vertical-align: middle;\n",
       "    }\n",
       "\n",
       "    .dataframe tbody tr th {\n",
       "        vertical-align: top;\n",
       "    }\n",
       "\n",
       "    .dataframe thead th {\n",
       "        text-align: right;\n",
       "    }\n",
       "</style>\n",
       "<table border=\"1\" class=\"dataframe\">\n",
       "  <thead>\n",
       "    <tr style=\"text-align: right;\">\n",
       "      <th></th>\n",
       "      <th>airline_sentiment</th>\n",
       "      <th>text</th>\n",
       "      <th>tokenized_text</th>\n",
       "    </tr>\n",
       "  </thead>\n",
       "  <tbody>\n",
       "    <tr>\n",
       "      <th>0</th>\n",
       "      <td>0</td>\n",
       "      <td>@VirginAmerica What @dhepburn said.</td>\n",
       "      <td>[VirginAmerica, What, dhepburn, said]</td>\n",
       "    </tr>\n",
       "    <tr>\n",
       "      <th>1</th>\n",
       "      <td>1</td>\n",
       "      <td>@VirginAmerica plus you have added commercials...</td>\n",
       "      <td>[VirginAmerica, plus, you, have, added, commer...</td>\n",
       "    </tr>\n",
       "    <tr>\n",
       "      <th>2</th>\n",
       "      <td>0</td>\n",
       "      <td>@VirginAmerica I did not today... Must mean I ...</td>\n",
       "      <td>[VirginAmerica, I, did, not, today, Must, mean...</td>\n",
       "    </tr>\n",
       "    <tr>\n",
       "      <th>3</th>\n",
       "      <td>-1</td>\n",
       "      <td>@VirginAmerica it is really aggressive to blas...</td>\n",
       "      <td>[VirginAmerica, it, is, really, aggressive, to...</td>\n",
       "    </tr>\n",
       "    <tr>\n",
       "      <th>4</th>\n",
       "      <td>-1</td>\n",
       "      <td>@VirginAmerica and it is a really big bad thin...</td>\n",
       "      <td>[VirginAmerica, and, it, is, a, really, big, b...</td>\n",
       "    </tr>\n",
       "    <tr>\n",
       "      <th>...</th>\n",
       "      <td>...</td>\n",
       "      <td>...</td>\n",
       "      <td>...</td>\n",
       "    </tr>\n",
       "    <tr>\n",
       "      <th>14635</th>\n",
       "      <td>1</td>\n",
       "      <td>@AmericanAir thank you we got on a different f...</td>\n",
       "      <td>[AmericanAir, thank, you, we, got, on, a, diff...</td>\n",
       "    </tr>\n",
       "    <tr>\n",
       "      <th>14636</th>\n",
       "      <td>-1</td>\n",
       "      <td>@AmericanAir leaving over 20 minutes Late Flig...</td>\n",
       "      <td>[AmericanAir, leaving, over, minutes, Late, Fl...</td>\n",
       "    </tr>\n",
       "    <tr>\n",
       "      <th>14637</th>\n",
       "      <td>0</td>\n",
       "      <td>@AmericanAir Please bring American Airlines to...</td>\n",
       "      <td>[AmericanAir, Please, bring, American, Airline...</td>\n",
       "    </tr>\n",
       "    <tr>\n",
       "      <th>14638</th>\n",
       "      <td>-1</td>\n",
       "      <td>@AmericanAir you have my money, you change my ...</td>\n",
       "      <td>[AmericanAir, you, have, my, money, you, chang...</td>\n",
       "    </tr>\n",
       "    <tr>\n",
       "      <th>14639</th>\n",
       "      <td>0</td>\n",
       "      <td>@AmericanAir we have 8 ppl so we need 2 know h...</td>\n",
       "      <td>[AmericanAir, we, have, ppl, so, we, need, kno...</td>\n",
       "    </tr>\n",
       "  </tbody>\n",
       "</table>\n",
       "<p>14604 rows × 3 columns</p>\n",
       "</div>"
      ],
      "text/plain": [
       "      airline_sentiment                                               text  \\\n",
       "0                     0                @VirginAmerica What @dhepburn said.   \n",
       "1                     1  @VirginAmerica plus you have added commercials...   \n",
       "2                     0  @VirginAmerica I did not today... Must mean I ...   \n",
       "3                    -1  @VirginAmerica it is really aggressive to blas...   \n",
       "4                    -1  @VirginAmerica and it is a really big bad thin...   \n",
       "...                 ...                                                ...   \n",
       "14635                 1  @AmericanAir thank you we got on a different f...   \n",
       "14636                -1  @AmericanAir leaving over 20 minutes Late Flig...   \n",
       "14637                 0  @AmericanAir Please bring American Airlines to...   \n",
       "14638                -1  @AmericanAir you have my money, you change my ...   \n",
       "14639                 0  @AmericanAir we have 8 ppl so we need 2 know h...   \n",
       "\n",
       "                                          tokenized_text  \n",
       "0                  [VirginAmerica, What, dhepburn, said]  \n",
       "1      [VirginAmerica, plus, you, have, added, commer...  \n",
       "2      [VirginAmerica, I, did, not, today, Must, mean...  \n",
       "3      [VirginAmerica, it, is, really, aggressive, to...  \n",
       "4      [VirginAmerica, and, it, is, a, really, big, b...  \n",
       "...                                                  ...  \n",
       "14635  [AmericanAir, thank, you, we, got, on, a, diff...  \n",
       "14636  [AmericanAir, leaving, over, minutes, Late, Fl...  \n",
       "14637  [AmericanAir, Please, bring, American, Airline...  \n",
       "14638  [AmericanAir, you, have, my, money, you, chang...  \n",
       "14639  [AmericanAir, we, have, ppl, so, we, need, kno...  \n",
       "\n",
       "[14604 rows x 3 columns]"
      ]
     },
     "execution_count": 29,
     "metadata": {},
     "output_type": "execute_result"
    }
   ],
   "source": [
    "data"
   ]
  },
  {
   "cell_type": "markdown",
   "metadata": {},
   "source": [
    "### e. Removal of stopwords"
   ]
  },
  {
   "cell_type": "code",
   "execution_count": 30,
   "metadata": {},
   "outputs": [],
   "source": [
    "def remove_stopwords(words):\n",
    "    \"\"\"Remove stop words from list of tokenized words\"\"\"\n",
    "    new_words = []                        # Create empty list to store pre-processed words.\n",
    "    for word in words:\n",
    "        if word not in stopwords.words('english'):\n",
    "            new_words.append(word)        # Append processed words to new list.\n",
    "    return new_words\n",
    "\n",
    "data['tokenized_text'] = data['tokenized_text'].apply(lambda x: remove_stopwords(x))"
   ]
  },
  {
   "cell_type": "code",
   "execution_count": 31,
   "metadata": {},
   "outputs": [
    {
     "data": {
      "text/html": [
       "<div>\n",
       "<style scoped>\n",
       "    .dataframe tbody tr th:only-of-type {\n",
       "        vertical-align: middle;\n",
       "    }\n",
       "\n",
       "    .dataframe tbody tr th {\n",
       "        vertical-align: top;\n",
       "    }\n",
       "\n",
       "    .dataframe thead th {\n",
       "        text-align: right;\n",
       "    }\n",
       "</style>\n",
       "<table border=\"1\" class=\"dataframe\">\n",
       "  <thead>\n",
       "    <tr style=\"text-align: right;\">\n",
       "      <th></th>\n",
       "      <th>airline_sentiment</th>\n",
       "      <th>text</th>\n",
       "      <th>tokenized_text</th>\n",
       "    </tr>\n",
       "  </thead>\n",
       "  <tbody>\n",
       "    <tr>\n",
       "      <th>0</th>\n",
       "      <td>0</td>\n",
       "      <td>@VirginAmerica What @dhepburn said.</td>\n",
       "      <td>[VirginAmerica, What, dhepburn, said]</td>\n",
       "    </tr>\n",
       "    <tr>\n",
       "      <th>1</th>\n",
       "      <td>1</td>\n",
       "      <td>@VirginAmerica plus you have added commercials...</td>\n",
       "      <td>[VirginAmerica, plus, added, commercials, expe...</td>\n",
       "    </tr>\n",
       "    <tr>\n",
       "      <th>2</th>\n",
       "      <td>0</td>\n",
       "      <td>@VirginAmerica I did not today... Must mean I ...</td>\n",
       "      <td>[VirginAmerica, I, today, Must, mean, I, need,...</td>\n",
       "    </tr>\n",
       "    <tr>\n",
       "      <th>3</th>\n",
       "      <td>-1</td>\n",
       "      <td>@VirginAmerica it is really aggressive to blas...</td>\n",
       "      <td>[VirginAmerica, really, aggressive, blast, obn...</td>\n",
       "    </tr>\n",
       "    <tr>\n",
       "      <th>4</th>\n",
       "      <td>-1</td>\n",
       "      <td>@VirginAmerica and it is a really big bad thin...</td>\n",
       "      <td>[VirginAmerica, really, big, bad, thing]</td>\n",
       "    </tr>\n",
       "    <tr>\n",
       "      <th>...</th>\n",
       "      <td>...</td>\n",
       "      <td>...</td>\n",
       "      <td>...</td>\n",
       "    </tr>\n",
       "    <tr>\n",
       "      <th>14635</th>\n",
       "      <td>1</td>\n",
       "      <td>@AmericanAir thank you we got on a different f...</td>\n",
       "      <td>[AmericanAir, thank, got, different, flight, C...</td>\n",
       "    </tr>\n",
       "    <tr>\n",
       "      <th>14636</th>\n",
       "      <td>-1</td>\n",
       "      <td>@AmericanAir leaving over 20 minutes Late Flig...</td>\n",
       "      <td>[AmericanAir, leaving, minutes, Late, Flight, ...</td>\n",
       "    </tr>\n",
       "    <tr>\n",
       "      <th>14637</th>\n",
       "      <td>0</td>\n",
       "      <td>@AmericanAir Please bring American Airlines to...</td>\n",
       "      <td>[AmericanAir, Please, bring, American, Airline...</td>\n",
       "    </tr>\n",
       "    <tr>\n",
       "      <th>14638</th>\n",
       "      <td>-1</td>\n",
       "      <td>@AmericanAir you have my money, you change my ...</td>\n",
       "      <td>[AmericanAir, money, change, flight, answer, p...</td>\n",
       "    </tr>\n",
       "    <tr>\n",
       "      <th>14639</th>\n",
       "      <td>0</td>\n",
       "      <td>@AmericanAir we have 8 ppl so we need 2 know h...</td>\n",
       "      <td>[AmericanAir, ppl, need, know, many, seats, ne...</td>\n",
       "    </tr>\n",
       "  </tbody>\n",
       "</table>\n",
       "<p>14604 rows × 3 columns</p>\n",
       "</div>"
      ],
      "text/plain": [
       "      airline_sentiment                                               text  \\\n",
       "0                     0                @VirginAmerica What @dhepburn said.   \n",
       "1                     1  @VirginAmerica plus you have added commercials...   \n",
       "2                     0  @VirginAmerica I did not today... Must mean I ...   \n",
       "3                    -1  @VirginAmerica it is really aggressive to blas...   \n",
       "4                    -1  @VirginAmerica and it is a really big bad thin...   \n",
       "...                 ...                                                ...   \n",
       "14635                 1  @AmericanAir thank you we got on a different f...   \n",
       "14636                -1  @AmericanAir leaving over 20 minutes Late Flig...   \n",
       "14637                 0  @AmericanAir Please bring American Airlines to...   \n",
       "14638                -1  @AmericanAir you have my money, you change my ...   \n",
       "14639                 0  @AmericanAir we have 8 ppl so we need 2 know h...   \n",
       "\n",
       "                                          tokenized_text  \n",
       "0                  [VirginAmerica, What, dhepburn, said]  \n",
       "1      [VirginAmerica, plus, added, commercials, expe...  \n",
       "2      [VirginAmerica, I, today, Must, mean, I, need,...  \n",
       "3      [VirginAmerica, really, aggressive, blast, obn...  \n",
       "4               [VirginAmerica, really, big, bad, thing]  \n",
       "...                                                  ...  \n",
       "14635  [AmericanAir, thank, got, different, flight, C...  \n",
       "14636  [AmericanAir, leaving, minutes, Late, Flight, ...  \n",
       "14637  [AmericanAir, Please, bring, American, Airline...  \n",
       "14638  [AmericanAir, money, change, flight, answer, p...  \n",
       "14639  [AmericanAir, ppl, need, know, many, seats, ne...  \n",
       "\n",
       "[14604 rows x 3 columns]"
      ]
     },
     "execution_count": 31,
     "metadata": {},
     "output_type": "execute_result"
    }
   ],
   "source": [
    "data"
   ]
  },
  {
   "cell_type": "markdown",
   "metadata": {},
   "source": [
    "### f. Conversion to lowercase."
   ]
  },
  {
   "cell_type": "code",
   "execution_count": 32,
   "metadata": {},
   "outputs": [],
   "source": [
    "def to_lowercase(words):\n",
    "    \"\"\"Convert all characters to lowercase from list of tokenized words\"\"\"\n",
    "    new_words = []                        # Create empty list to store pre-processed words.\n",
    "    for word in words:\n",
    "        new_word = word.lower()           # Converting to lowercase\n",
    "        new_words.append(new_word)        # Append processed words to new list.\n",
    "    return new_words\n",
    "\n",
    "data['tokenized_text'] = data['tokenized_text'].apply(lambda x: to_lowercase(x))"
   ]
  },
  {
   "cell_type": "code",
   "execution_count": 33,
   "metadata": {},
   "outputs": [
    {
     "data": {
      "text/html": [
       "<div>\n",
       "<style scoped>\n",
       "    .dataframe tbody tr th:only-of-type {\n",
       "        vertical-align: middle;\n",
       "    }\n",
       "\n",
       "    .dataframe tbody tr th {\n",
       "        vertical-align: top;\n",
       "    }\n",
       "\n",
       "    .dataframe thead th {\n",
       "        text-align: right;\n",
       "    }\n",
       "</style>\n",
       "<table border=\"1\" class=\"dataframe\">\n",
       "  <thead>\n",
       "    <tr style=\"text-align: right;\">\n",
       "      <th></th>\n",
       "      <th>airline_sentiment</th>\n",
       "      <th>text</th>\n",
       "      <th>tokenized_text</th>\n",
       "    </tr>\n",
       "  </thead>\n",
       "  <tbody>\n",
       "    <tr>\n",
       "      <th>0</th>\n",
       "      <td>0</td>\n",
       "      <td>@VirginAmerica What @dhepburn said.</td>\n",
       "      <td>[virginamerica, what, dhepburn, said]</td>\n",
       "    </tr>\n",
       "    <tr>\n",
       "      <th>1</th>\n",
       "      <td>1</td>\n",
       "      <td>@VirginAmerica plus you have added commercials...</td>\n",
       "      <td>[virginamerica, plus, added, commercials, expe...</td>\n",
       "    </tr>\n",
       "    <tr>\n",
       "      <th>2</th>\n",
       "      <td>0</td>\n",
       "      <td>@VirginAmerica I did not today... Must mean I ...</td>\n",
       "      <td>[virginamerica, i, today, must, mean, i, need,...</td>\n",
       "    </tr>\n",
       "    <tr>\n",
       "      <th>3</th>\n",
       "      <td>-1</td>\n",
       "      <td>@VirginAmerica it is really aggressive to blas...</td>\n",
       "      <td>[virginamerica, really, aggressive, blast, obn...</td>\n",
       "    </tr>\n",
       "    <tr>\n",
       "      <th>4</th>\n",
       "      <td>-1</td>\n",
       "      <td>@VirginAmerica and it is a really big bad thin...</td>\n",
       "      <td>[virginamerica, really, big, bad, thing]</td>\n",
       "    </tr>\n",
       "    <tr>\n",
       "      <th>...</th>\n",
       "      <td>...</td>\n",
       "      <td>...</td>\n",
       "      <td>...</td>\n",
       "    </tr>\n",
       "    <tr>\n",
       "      <th>14635</th>\n",
       "      <td>1</td>\n",
       "      <td>@AmericanAir thank you we got on a different f...</td>\n",
       "      <td>[americanair, thank, got, different, flight, c...</td>\n",
       "    </tr>\n",
       "    <tr>\n",
       "      <th>14636</th>\n",
       "      <td>-1</td>\n",
       "      <td>@AmericanAir leaving over 20 minutes Late Flig...</td>\n",
       "      <td>[americanair, leaving, minutes, late, flight, ...</td>\n",
       "    </tr>\n",
       "    <tr>\n",
       "      <th>14637</th>\n",
       "      <td>0</td>\n",
       "      <td>@AmericanAir Please bring American Airlines to...</td>\n",
       "      <td>[americanair, please, bring, american, airline...</td>\n",
       "    </tr>\n",
       "    <tr>\n",
       "      <th>14638</th>\n",
       "      <td>-1</td>\n",
       "      <td>@AmericanAir you have my money, you change my ...</td>\n",
       "      <td>[americanair, money, change, flight, answer, p...</td>\n",
       "    </tr>\n",
       "    <tr>\n",
       "      <th>14639</th>\n",
       "      <td>0</td>\n",
       "      <td>@AmericanAir we have 8 ppl so we need 2 know h...</td>\n",
       "      <td>[americanair, ppl, need, know, many, seats, ne...</td>\n",
       "    </tr>\n",
       "  </tbody>\n",
       "</table>\n",
       "<p>14604 rows × 3 columns</p>\n",
       "</div>"
      ],
      "text/plain": [
       "      airline_sentiment                                               text  \\\n",
       "0                     0                @VirginAmerica What @dhepburn said.   \n",
       "1                     1  @VirginAmerica plus you have added commercials...   \n",
       "2                     0  @VirginAmerica I did not today... Must mean I ...   \n",
       "3                    -1  @VirginAmerica it is really aggressive to blas...   \n",
       "4                    -1  @VirginAmerica and it is a really big bad thin...   \n",
       "...                 ...                                                ...   \n",
       "14635                 1  @AmericanAir thank you we got on a different f...   \n",
       "14636                -1  @AmericanAir leaving over 20 minutes Late Flig...   \n",
       "14637                 0  @AmericanAir Please bring American Airlines to...   \n",
       "14638                -1  @AmericanAir you have my money, you change my ...   \n",
       "14639                 0  @AmericanAir we have 8 ppl so we need 2 know h...   \n",
       "\n",
       "                                          tokenized_text  \n",
       "0                  [virginamerica, what, dhepburn, said]  \n",
       "1      [virginamerica, plus, added, commercials, expe...  \n",
       "2      [virginamerica, i, today, must, mean, i, need,...  \n",
       "3      [virginamerica, really, aggressive, blast, obn...  \n",
       "4               [virginamerica, really, big, bad, thing]  \n",
       "...                                                  ...  \n",
       "14635  [americanair, thank, got, different, flight, c...  \n",
       "14636  [americanair, leaving, minutes, late, flight, ...  \n",
       "14637  [americanair, please, bring, american, airline...  \n",
       "14638  [americanair, money, change, flight, answer, p...  \n",
       "14639  [americanair, ppl, need, know, many, seats, ne...  \n",
       "\n",
       "[14604 rows x 3 columns]"
      ]
     },
     "execution_count": 33,
     "metadata": {},
     "output_type": "execute_result"
    }
   ],
   "source": [
    "data"
   ]
  },
  {
   "cell_type": "markdown",
   "metadata": {},
   "source": [
    "### g. Lemmatize or stemming."
   ]
  },
  {
   "cell_type": "code",
   "execution_count": 34,
   "metadata": {},
   "outputs": [],
   "source": [
    "def stem_words(words):\n",
    "    \"\"\"Stem words in list of tokenized words\"\"\"\n",
    "    stemmer = LancasterStemmer()\n",
    "    stems = []                            # Create empty list to store pre-processed words.\n",
    "    for word in words:\n",
    "        stem = stemmer.stem(word)\n",
    "        stems.append(stem)                # Append processed words to new list.\n",
    "    return stems\n",
    "\n",
    "def lemmatize_verbs(words):\n",
    "    \"\"\"Lemmatize verbs in list of tokenized words\"\"\"\n",
    "    lemmatizer = WordNetLemmatizer()\n",
    "    lemmas = []                           # Create empty list to store pre-processed words.\n",
    "    for word in words:\n",
    "        lemma = lemmatizer.lemmatize(word, pos='v')\n",
    "        lemmas.append(lemma)              # Append processed words to new list.\n",
    "    return lemmas\n",
    "\n",
    "    \n",
    "data['tokenized_text_stems'] = data['tokenized_text'].apply(lambda x: stem_words(x))\n",
    "data['tokenized_text_lemmas'] = data['tokenized_text'].apply(lambda x: lemmatize_verbs(x))"
   ]
  },
  {
   "cell_type": "code",
   "execution_count": 35,
   "metadata": {},
   "outputs": [
    {
     "data": {
      "text/html": [
       "<div>\n",
       "<style scoped>\n",
       "    .dataframe tbody tr th:only-of-type {\n",
       "        vertical-align: middle;\n",
       "    }\n",
       "\n",
       "    .dataframe tbody tr th {\n",
       "        vertical-align: top;\n",
       "    }\n",
       "\n",
       "    .dataframe thead th {\n",
       "        text-align: right;\n",
       "    }\n",
       "</style>\n",
       "<table border=\"1\" class=\"dataframe\">\n",
       "  <thead>\n",
       "    <tr style=\"text-align: right;\">\n",
       "      <th></th>\n",
       "      <th>airline_sentiment</th>\n",
       "      <th>text</th>\n",
       "      <th>tokenized_text</th>\n",
       "      <th>tokenized_text_stems</th>\n",
       "      <th>tokenized_text_lemmas</th>\n",
       "    </tr>\n",
       "  </thead>\n",
       "  <tbody>\n",
       "    <tr>\n",
       "      <th>0</th>\n",
       "      <td>0</td>\n",
       "      <td>@VirginAmerica What @dhepburn said.</td>\n",
       "      <td>[virginamerica, what, dhepburn, said]</td>\n",
       "      <td>[virginameric, what, dhepburn, said]</td>\n",
       "      <td>[virginamerica, what, dhepburn, say]</td>\n",
       "    </tr>\n",
       "    <tr>\n",
       "      <th>1</th>\n",
       "      <td>1</td>\n",
       "      <td>@VirginAmerica plus you have added commercials...</td>\n",
       "      <td>[virginamerica, plus, added, commercials, expe...</td>\n",
       "      <td>[virginameric, plu, ad, commerc, expery, tacky]</td>\n",
       "      <td>[virginamerica, plus, add, commercials, experi...</td>\n",
       "    </tr>\n",
       "    <tr>\n",
       "      <th>2</th>\n",
       "      <td>0</td>\n",
       "      <td>@VirginAmerica I did not today... Must mean I ...</td>\n",
       "      <td>[virginamerica, i, today, must, mean, i, need,...</td>\n",
       "      <td>[virginameric, i, today, must, mean, i, nee, t...</td>\n",
       "      <td>[virginamerica, i, today, must, mean, i, need,...</td>\n",
       "    </tr>\n",
       "    <tr>\n",
       "      <th>3</th>\n",
       "      <td>-1</td>\n",
       "      <td>@VirginAmerica it is really aggressive to blas...</td>\n",
       "      <td>[virginamerica, really, aggressive, blast, obn...</td>\n",
       "      <td>[virginameric, real, aggress, blast, obnoxy, e...</td>\n",
       "      <td>[virginamerica, really, aggressive, blast, obn...</td>\n",
       "    </tr>\n",
       "    <tr>\n",
       "      <th>4</th>\n",
       "      <td>-1</td>\n",
       "      <td>@VirginAmerica and it is a really big bad thin...</td>\n",
       "      <td>[virginamerica, really, big, bad, thing]</td>\n",
       "      <td>[virginameric, real, big, bad, thing]</td>\n",
       "      <td>[virginamerica, really, big, bad, thing]</td>\n",
       "    </tr>\n",
       "    <tr>\n",
       "      <th>...</th>\n",
       "      <td>...</td>\n",
       "      <td>...</td>\n",
       "      <td>...</td>\n",
       "      <td>...</td>\n",
       "      <td>...</td>\n",
       "    </tr>\n",
       "    <tr>\n",
       "      <th>14635</th>\n",
       "      <td>1</td>\n",
       "      <td>@AmericanAir thank you we got on a different f...</td>\n",
       "      <td>[americanair, thank, got, different, flight, c...</td>\n",
       "      <td>[americanair, thank, got, diff, flight, chicago]</td>\n",
       "      <td>[americanair, thank, get, different, flight, c...</td>\n",
       "    </tr>\n",
       "    <tr>\n",
       "      <th>14636</th>\n",
       "      <td>-1</td>\n",
       "      <td>@AmericanAir leaving over 20 minutes Late Flig...</td>\n",
       "      <td>[americanair, leaving, minutes, late, flight, ...</td>\n",
       "      <td>[americanair, leav, minut, lat, flight, no, wa...</td>\n",
       "      <td>[americanair, leave, minutes, late, flight, no...</td>\n",
       "    </tr>\n",
       "    <tr>\n",
       "      <th>14637</th>\n",
       "      <td>0</td>\n",
       "      <td>@AmericanAir Please bring American Airlines to...</td>\n",
       "      <td>[americanair, please, bring, american, airline...</td>\n",
       "      <td>[americanair, pleas, bring, am, airlin, blackb...</td>\n",
       "      <td>[americanair, please, bring, american, airline...</td>\n",
       "    </tr>\n",
       "    <tr>\n",
       "      <th>14638</th>\n",
       "      <td>-1</td>\n",
       "      <td>@AmericanAir you have my money, you change my ...</td>\n",
       "      <td>[americanair, money, change, flight, answer, p...</td>\n",
       "      <td>[americanair, money, chang, flight, answ, phon...</td>\n",
       "      <td>[americanair, money, change, flight, answer, p...</td>\n",
       "    </tr>\n",
       "    <tr>\n",
       "      <th>14639</th>\n",
       "      <td>0</td>\n",
       "      <td>@AmericanAir we have 8 ppl so we need 2 know h...</td>\n",
       "      <td>[americanair, ppl, need, know, many, seats, ne...</td>\n",
       "      <td>[americanair, ppl, nee, know, many, seat, next...</td>\n",
       "      <td>[americanair, ppl, need, know, many, seat, nex...</td>\n",
       "    </tr>\n",
       "  </tbody>\n",
       "</table>\n",
       "<p>14604 rows × 5 columns</p>\n",
       "</div>"
      ],
      "text/plain": [
       "      airline_sentiment                                               text  \\\n",
       "0                     0                @VirginAmerica What @dhepburn said.   \n",
       "1                     1  @VirginAmerica plus you have added commercials...   \n",
       "2                     0  @VirginAmerica I did not today... Must mean I ...   \n",
       "3                    -1  @VirginAmerica it is really aggressive to blas...   \n",
       "4                    -1  @VirginAmerica and it is a really big bad thin...   \n",
       "...                 ...                                                ...   \n",
       "14635                 1  @AmericanAir thank you we got on a different f...   \n",
       "14636                -1  @AmericanAir leaving over 20 minutes Late Flig...   \n",
       "14637                 0  @AmericanAir Please bring American Airlines to...   \n",
       "14638                -1  @AmericanAir you have my money, you change my ...   \n",
       "14639                 0  @AmericanAir we have 8 ppl so we need 2 know h...   \n",
       "\n",
       "                                          tokenized_text  \\\n",
       "0                  [virginamerica, what, dhepburn, said]   \n",
       "1      [virginamerica, plus, added, commercials, expe...   \n",
       "2      [virginamerica, i, today, must, mean, i, need,...   \n",
       "3      [virginamerica, really, aggressive, blast, obn...   \n",
       "4               [virginamerica, really, big, bad, thing]   \n",
       "...                                                  ...   \n",
       "14635  [americanair, thank, got, different, flight, c...   \n",
       "14636  [americanair, leaving, minutes, late, flight, ...   \n",
       "14637  [americanair, please, bring, american, airline...   \n",
       "14638  [americanair, money, change, flight, answer, p...   \n",
       "14639  [americanair, ppl, need, know, many, seats, ne...   \n",
       "\n",
       "                                    tokenized_text_stems  \\\n",
       "0                   [virginameric, what, dhepburn, said]   \n",
       "1        [virginameric, plu, ad, commerc, expery, tacky]   \n",
       "2      [virginameric, i, today, must, mean, i, nee, t...   \n",
       "3      [virginameric, real, aggress, blast, obnoxy, e...   \n",
       "4                  [virginameric, real, big, bad, thing]   \n",
       "...                                                  ...   \n",
       "14635   [americanair, thank, got, diff, flight, chicago]   \n",
       "14636  [americanair, leav, minut, lat, flight, no, wa...   \n",
       "14637  [americanair, pleas, bring, am, airlin, blackb...   \n",
       "14638  [americanair, money, chang, flight, answ, phon...   \n",
       "14639  [americanair, ppl, nee, know, many, seat, next...   \n",
       "\n",
       "                                   tokenized_text_lemmas  \n",
       "0                   [virginamerica, what, dhepburn, say]  \n",
       "1      [virginamerica, plus, add, commercials, experi...  \n",
       "2      [virginamerica, i, today, must, mean, i, need,...  \n",
       "3      [virginamerica, really, aggressive, blast, obn...  \n",
       "4               [virginamerica, really, big, bad, thing]  \n",
       "...                                                  ...  \n",
       "14635  [americanair, thank, get, different, flight, c...  \n",
       "14636  [americanair, leave, minutes, late, flight, no...  \n",
       "14637  [americanair, please, bring, american, airline...  \n",
       "14638  [americanair, money, change, flight, answer, p...  \n",
       "14639  [americanair, ppl, need, know, many, seat, nex...  \n",
       "\n",
       "[14604 rows x 5 columns]"
      ]
     },
     "execution_count": 35,
     "metadata": {},
     "output_type": "execute_result"
    }
   ],
   "source": [
    "data"
   ]
  },
  {
   "cell_type": "markdown",
   "metadata": {},
   "source": [
    "### h. Join the words in the list to convert back to text string in the data frame. (So that each row contains the data in text format.)"
   ]
  },
  {
   "cell_type": "code",
   "execution_count": 36,
   "metadata": {
    "scrolled": true
   },
   "outputs": [],
   "source": [
    "data['text_stems'] = data['tokenized_text_stems'].apply(lambda x: ' '.join(x))\n",
    "data['text_lemmas'] = data['tokenized_text_lemmas'].apply(lambda x: ' '.join(x))\n",
    "\n",
    "data.drop(data.columns.difference(['airline_sentiment','text_stems','text_lemmas']), 1, inplace=True)"
   ]
  },
  {
   "cell_type": "markdown",
   "metadata": {},
   "source": [
    "### i. Print the first 5 rows of data after pre-processing."
   ]
  },
  {
   "cell_type": "code",
   "execution_count": 37,
   "metadata": {},
   "outputs": [
    {
     "data": {
      "text/html": [
       "<div>\n",
       "<style scoped>\n",
       "    .dataframe tbody tr th:only-of-type {\n",
       "        vertical-align: middle;\n",
       "    }\n",
       "\n",
       "    .dataframe tbody tr th {\n",
       "        vertical-align: top;\n",
       "    }\n",
       "\n",
       "    .dataframe thead th {\n",
       "        text-align: right;\n",
       "    }\n",
       "</style>\n",
       "<table border=\"1\" class=\"dataframe\">\n",
       "  <thead>\n",
       "    <tr style=\"text-align: right;\">\n",
       "      <th></th>\n",
       "      <th>airline_sentiment</th>\n",
       "      <th>text_stems</th>\n",
       "      <th>text_lemmas</th>\n",
       "    </tr>\n",
       "  </thead>\n",
       "  <tbody>\n",
       "    <tr>\n",
       "      <th>0</th>\n",
       "      <td>0</td>\n",
       "      <td>virginameric what dhepburn said</td>\n",
       "      <td>virginamerica what dhepburn say</td>\n",
       "    </tr>\n",
       "    <tr>\n",
       "      <th>1</th>\n",
       "      <td>1</td>\n",
       "      <td>virginameric plu ad commerc expery tacky</td>\n",
       "      <td>virginamerica plus add commercials experience ...</td>\n",
       "    </tr>\n",
       "    <tr>\n",
       "      <th>2</th>\n",
       "      <td>0</td>\n",
       "      <td>virginameric i today must mean i nee tak anoth...</td>\n",
       "      <td>virginamerica i today must mean i need take an...</td>\n",
       "    </tr>\n",
       "    <tr>\n",
       "      <th>3</th>\n",
       "      <td>-1</td>\n",
       "      <td>virginameric real aggress blast obnoxy enterta...</td>\n",
       "      <td>virginamerica really aggressive blast obnoxiou...</td>\n",
       "    </tr>\n",
       "    <tr>\n",
       "      <th>4</th>\n",
       "      <td>-1</td>\n",
       "      <td>virginameric real big bad thing</td>\n",
       "      <td>virginamerica really big bad thing</td>\n",
       "    </tr>\n",
       "    <tr>\n",
       "      <th>...</th>\n",
       "      <td>...</td>\n",
       "      <td>...</td>\n",
       "      <td>...</td>\n",
       "    </tr>\n",
       "    <tr>\n",
       "      <th>14635</th>\n",
       "      <td>1</td>\n",
       "      <td>americanair thank got diff flight chicago</td>\n",
       "      <td>americanair thank get different flight chicago</td>\n",
       "    </tr>\n",
       "    <tr>\n",
       "      <th>14636</th>\n",
       "      <td>-1</td>\n",
       "      <td>americanair leav minut lat flight no warn comm...</td>\n",
       "      <td>americanair leave minutes late flight no warn ...</td>\n",
       "    </tr>\n",
       "    <tr>\n",
       "      <th>14637</th>\n",
       "      <td>0</td>\n",
       "      <td>americanair pleas bring am airlin blackberry</td>\n",
       "      <td>americanair please bring american airlines bla...</td>\n",
       "    </tr>\n",
       "    <tr>\n",
       "      <th>14638</th>\n",
       "      <td>-1</td>\n",
       "      <td>americanair money chang flight answ phon any s...</td>\n",
       "      <td>americanair money change flight answer phone a...</td>\n",
       "    </tr>\n",
       "    <tr>\n",
       "      <th>14639</th>\n",
       "      <td>0</td>\n",
       "      <td>americanair ppl nee know many seat next flight...</td>\n",
       "      <td>americanair ppl need know many seat next fligh...</td>\n",
       "    </tr>\n",
       "  </tbody>\n",
       "</table>\n",
       "<p>14604 rows × 3 columns</p>\n",
       "</div>"
      ],
      "text/plain": [
       "      airline_sentiment                                         text_stems  \\\n",
       "0                     0                    virginameric what dhepburn said   \n",
       "1                     1           virginameric plu ad commerc expery tacky   \n",
       "2                     0  virginameric i today must mean i nee tak anoth...   \n",
       "3                    -1  virginameric real aggress blast obnoxy enterta...   \n",
       "4                    -1                    virginameric real big bad thing   \n",
       "...                 ...                                                ...   \n",
       "14635                 1          americanair thank got diff flight chicago   \n",
       "14636                -1  americanair leav minut lat flight no warn comm...   \n",
       "14637                 0       americanair pleas bring am airlin blackberry   \n",
       "14638                -1  americanair money chang flight answ phon any s...   \n",
       "14639                 0  americanair ppl nee know many seat next flight...   \n",
       "\n",
       "                                             text_lemmas  \n",
       "0                        virginamerica what dhepburn say  \n",
       "1      virginamerica plus add commercials experience ...  \n",
       "2      virginamerica i today must mean i need take an...  \n",
       "3      virginamerica really aggressive blast obnoxiou...  \n",
       "4                     virginamerica really big bad thing  \n",
       "...                                                  ...  \n",
       "14635     americanair thank get different flight chicago  \n",
       "14636  americanair leave minutes late flight no warn ...  \n",
       "14637  americanair please bring american airlines bla...  \n",
       "14638  americanair money change flight answer phone a...  \n",
       "14639  americanair ppl need know many seat next fligh...  \n",
       "\n",
       "[14604 rows x 3 columns]"
      ]
     },
     "execution_count": 37,
     "metadata": {},
     "output_type": "execute_result"
    }
   ],
   "source": [
    "data"
   ]
  },
  {
   "cell_type": "markdown",
   "metadata": {},
   "source": [
    "## 4. Vectorization: (10 Marks)\n",
    "    a. Use CountVectorizer.\n",
    "    b. Use TfidfVectorizer.\n",
    "    \n",
    " * Apply count vectorizer, Tf-IDF vectorizer, on the required text column to make it suitable for fitting the model"
   ]
  },
  {
   "cell_type": "code",
   "execution_count": 38,
   "metadata": {},
   "outputs": [],
   "source": [
    "max_features_test = 2000"
   ]
  },
  {
   "cell_type": "markdown",
   "metadata": {},
   "source": [
    "### CountVectorizer"
   ]
  },
  {
   "cell_type": "code",
   "execution_count": 39,
   "metadata": {},
   "outputs": [],
   "source": [
    "# Stems Data Text\n",
    "stems_bow_vec = CountVectorizer(max_features=max_features_test)                # Keep only 2000 features as number of features will increase the processing time.\n",
    "stems_data_features_cv = stems_bow_vec.fit_transform(data['text_stems'])\n",
    "\n",
    "stems_data_features_cv = stems_data_features_cv.toarray()                        # Convert the data features to array."
   ]
  },
  {
   "cell_type": "code",
   "execution_count": 40,
   "metadata": {},
   "outputs": [
    {
     "data": {
      "text/plain": [
       "(14604, 2000)"
      ]
     },
     "execution_count": 40,
     "metadata": {},
     "output_type": "execute_result"
    }
   ],
   "source": [
    "stems_data_features_cv.shape"
   ]
  },
  {
   "cell_type": "code",
   "execution_count": 41,
   "metadata": {},
   "outputs": [
    {
     "data": {
      "text/plain": [
       "array([[0, 0, 0, ..., 0, 0, 0],\n",
       "       [0, 0, 0, ..., 0, 0, 0],\n",
       "       [0, 0, 0, ..., 0, 0, 0],\n",
       "       ...,\n",
       "       [0, 0, 0, ..., 0, 0, 0],\n",
       "       [0, 0, 0, ..., 0, 0, 0],\n",
       "       [0, 0, 0, ..., 0, 0, 0]], dtype=int64)"
      ]
     },
     "execution_count": 41,
     "metadata": {},
     "output_type": "execute_result"
    }
   ],
   "source": [
    "stems_data_features_cv"
   ]
  },
  {
   "cell_type": "code",
   "execution_count": 42,
   "metadata": {},
   "outputs": [
    {
     "name": "stdout",
     "output_type": "stream",
     "text": [
      "dict_keys(['virginameric', 'what', 'said', 'plu', 'ad', 'commerc', 'expery', 'today', 'must', 'mean', 'nee', 'tak', 'anoth', 'trip', 'real', 'blast', 'entertain', 'guest', 'fac', 'littl', 'recours', 'big', 'bad', 'thing', 'sery', 'would', 'pay', 'flight', 'seat', 'play', 'fly', 'va', 'ye', 'near', 'every', 'tim', 'vx', 'ear', 'go', 'away', 'miss', 'opportun', 'without', 'hat', 'https', 'wel', 'now', 'do', 'amaz', 'ar', 'hour', 'good', 'know', 'suicid', 'second', 'lead', 'dea', 'among', 'teen', 'pretty', 'much', 'bet', 'thi', 'gre', 'deal', 'already', 'think', 'nd', 'austral', 'ev', 'gon', 'st', 'yet', 'fab', 'ski', 'stress', 'travel', 'http', 'thank', 'schedule', 'stil', 'mia', 'so', 'excit', 'first', 'cross', 'country', 'lax', 'mco', 'heard', 'noth', 'virgin', 'americ', 'flew', 'nyc', 'sfo', 'last', 'week', 'could', 'ful', 'sit', 'due', 'two', 'larg', 'eith', 'sid', 'help', 'awesom', 'pleas', 'want', 'far', 'may', 'three', 'carry', 'avail', 'select', 'lov', 'you', 'feel', 'brand', 'mak', 'bos', 'las', 'non', 'stop', 'anytim', 'soon', 'guy', 'mess', 'reserv', 'friend', 'gav', 'fre', 'internet', 'stat', 'match', 'program', 'apply', 'cal', 'email', 'respons', 'hap', 'ur', 'food', 'opt', 'at', 'least', 'say', 'abl', 'eat', 'anyth', 'next', 'hrs', 'fail', 'worry', 'togeth', 'get', 'cold', 'air', 'ewr', 'middl', 'red', 'ey', 'hi', 'cool', 'birthday', 'elev', 'ent', 'nam', 'book', 'problem', 'op', 'club', 'post', 'onlin', 'cur', 'left', 'expend', 'headphon', 'iad', 'no', 'on', 'answ', 'numb', 'await', 'return', 'phon', 'pref', 'us', 'new', 'start', 'hawai', 'end', 'year', 'via', 'nic', 'rt', 'takeoff', 'way', 'best', 'don', 'airlin', 'around', 'hand', 'yo', 'chat', 'support', 'work', 'view', 'los', 'sign', 'beyond', 'hey', 'but', 'hard', 'account', 'plz', 'win', 'upgrad', 'sea', 'unus', 'ticket', 'mov', 'city', 'how', 'expir', 'leav', 'dalla', 'seattl', 'feb', 'reason', 'rock', 'dream', 'wow', 'mind', 'ladygag', 'carrieunderwood', 'aft', 'night', 'osc', 'agr', 'al', 'is', 'was', 'suppos', 'minut', 'ago', 'websit', 'show', 'in', 'july', 'though', 'impress', 'wish', 'atlant', 'wil', 'la', 'febru', 'th', 'lga', 'dal', 'try', 'sint', 'pag', 'nev', 'load', 'thx', 'spot', 'lady', 'she', 'market', 'song', 'let', 'shown', 'sorry', 'mary', 'beat', 'class', 'dca', 'pm', 'tri', 'check', 'someon', 'hold', 'tonight', 'congr', 'award', 'everyth', 'fin', 'lost', 'bag', 'chang', 'hav', 'credit', 'card', 'mod', 'waiv', 'fee', 'or', 'custom', 'serv', 'team', 'track', 'step', 'gam', 'dirty', 'tabl', 'flo', 'rid', 'plan', 'crew', 'lik', 'sat', 'morn', 'any', 'correct', 'bil', 'watch', 'stud', 'film', 'feet', 'diff', 'med', 'going', 'anyway', 'speak', 'hum', 'poss', 'sup', 'biz', 'southwestair', 'jetblu', 'memb', 'inflight', 'interest', 'whenev', 'delay', 'lat', 'cancel', 'four', 'disappoint', 'shar', 'busy', 'meet', 'troubl', 'wif', 'bring', 'cod', 'random', 'lif', 'can', 'hom', 'why', 'when', 'back', 'yeah', 'point', 'rec', 'tv', 'video', 'just', 'flightl', 'went', 'jfk', 'saturday', 'land', 'redirect', 'btw', 'mobl', 'scan', 'passeng', 'told', 'remov', 'bin', 'uncomfort', 'find', 'anyon', 'useless', 'boy', 'print', 'sf', 'thursday', 'appoint', 'mus', 'direct', 'fll', 'unexpect', 'layov', 'vega', 'fuel', 'bought', 'am', 'peopl', 'exp', 'customerserv', 'lin', 'hung', 'sarcasm', 'plain', 'text', 'info', 'scheduled', 'weath', 'look', 'getaway', 'oneway', 'lot', 'com', 'phl', 'we', 'horr', 'concern', 'tech', 'flown', 'repres', 'comfort', 'rep', 'kick', 'beauty', 'design', 'right', 'bc', 'sec', 'run', 'gat', 'wait', 'kept', 'brows', 'and', 'tot', 'folk', 'min', 'connect', 'seem', 'long', 'outstand', 'san', 'francisco', 'absolv', 'provid', 'comply', 'intern', 'complet', 'mon', 'nonstop', 'depart', 'process', 'link', 'tsa', 'precheck', 'terr', 'hotel', 'cabo', 'assist', 'yesterday', 'giv', 'sham', 'reg', 'dog', 'dul', 'the', 'queu', 'pls', 'adv', 'redcarpet', 'drop', 'alway', 'buy', 'cre', 'anxy', 'frust', 'extr', 'buck', 'lug', 'might', 'afford', 'hir', 'lam', 'world', 'cak', 'flt', 'midnight', 'monday', 'that', 'imagin', 'web', 'ind', 'staff', 'ran', 'paid', 'prem', 'across', 'off', 'sad', 'quest', 'inf', 'welcom', 'dc', 'glob', 'refresh', 'understand', 'dm', 'dam', 'policy', 'destroy', 'spec', 'alon', 'kid', 'pri', 'board', 'purchas', 'happy', 'field', 'definit', 'dfw', 'driv', 'licens', 'friday', 'keep', 'er', 'contact', 'resched', 'button', 'rang', 'fix', 'got', 'tomorrow', 'unacceiv', 'stuck', 'pair', 'includ', 'whit', 'ag', 'silv', 'clos', 'austin', 'rout', 'norm', 'receiv', 'reply', 'cent', 'smh', 'log', 'airport', 'checkin', 'desk', 'jump', 'ep', 'invest', 'dai', 'list', 'begin', 'april', 'fuck', 'unit', 'fl', 'follow', 'many', 'apolog', 'wors', 'respond', 'spend', 'money', 'stranded', 'who', 'reimburs', 'sjc', 'cho', 'southwest', 'day', 'confirm', 'claim', 'not', 'rebook', 'met', 'rest', 'gold', 'if', 'cmh', 'worst', 'stuff', 'wrong', 'had', 'issu', 'item', 'head', 'americanairlin', 'suck', 'sam', 'becaus', 'ps', 'boston', 'stink', 'expect', 'dant', 'high', 'school', 'quick', 'app', 'fast', 'nerv', 'sent', 'pict', 'wing', 'press', 'texa', 'ny', 'pilot', 'job', 'snow', 'york', 'are', 'afternoon', 'row', 'reclin', 'ment', 'mech', 'handl', 'pro', 'drink', 'scar', 'twit', 'kil', 'charg', 'refus', 'refund', 'access', 'iphon', 'ipad', 'passbook', 'click', 'brok', 'forward', 'cost', 'ugh', 'along', 'put', 'pdx', 'bug', 'report', 'bit', 'attend', 'reset', 'password', 'bas', 'disrupt', 'very', 'someth', 'palm', 'springs', 'ca', 'hahah', 'sound', 'fun', 'upd', 'count', 'somehow', 'continu', 'sort', 'sweet', 'ic', 'coff', 'trust', 'fil', 'destin', 'sev', 'wheel', 'easy', 'itin', 'see', 'girl', 'inspir', 'becom', 'march', 'abq', 'entir', 'improv', 'request', 'window', 'tre', 'grand', 'wtf', 'purpos', 'exhaust', 'frequ', 'fli', 'inconveny', 'plac', 'result', 'pillow', 'instead', 'rac', 'fight', 'salt', 'cabin', 'behind', 'fav', 'hot', 'par', 'surgery', 'tel', 'suitcas', 'past', 'ah', 'ord', 'virginatl', 'atl', 'benefit', 'husband', 'screen', 'cam', 'light', 'bar', 'turb', 'profit', 'funny', 'story', 'forecast', 'nytim', 'posit', 'wond', 'despit', 'revenu', 'increas', 'competit', 'wind', 'temp', 'degr', 'most', 'saf', 'sect', 'newark', 'hop', 'prob', 'inappropry', 'sav', 'standby', 'they', 'comp', 'brought', 'ready', 'man', 'urg', 'old', 'battl', 'oth', 'less', 'half', 'pric', 'round', 'dtw', 'sold', 'promo', 'mad', 'paperwork', 'prom', 'resolv', 'perform', 'car', 'mil', 'challeng', 'bal', 'americanair', 'glad', 'took', 'tax', 'earn', 'coupl', 'che', 'smoo', 'forc', 'smal', 'empty', 'spac', 'slow', 'spok', 'solv', 'loy', 'jacket', 'rd', 'partn', 'vis', 'method', 'rat', 'promot', 'recommend', 'au', 'turn', 'cours', 'famy', 'ok', 'sing', 'receipt', 'badg', 'supery', 'standard', 'pick', 'tweet', 'should', 'av', 'rent', 'cust', 'lap', 'child', 'of', 'celebr', 'chant', 'gift', 'bank', 'jok', 'const', 'also', 'for', 'grandm', 'ell', 'bday', 'greet', 'stewardess', 'eastern', 'tix', 'yr', 'transact', 'mom', 'send', 'submit', 'fat', 'it', 'ceo', 'low', 'model', 'bril', 'omg', 'thought', 'pul', 'comput', 'incid', 'laptop', 'guess', 'road', 'been', 'annount', 'doll', 'deserv', 'fyi', 'address', 'ex', 'bount', 'toward', 'requir', 'svc', 'develop', 'ap', 'favorit', 'crap', 'channel', 'uk', 'set', 'mexico', 'integr', 'wast', 'pap', 'system', 'acceiv', 'tea', 'black', 'spread', 'learn', 'incred', 'philadelph', 'did', 'houston', 'avgeek', 'forget', 'kind', 'jack', 'fut', 'poor', 'malfunct', 'diego', 'thankyou', 'jos', 'compet', 'excel', 'portland', 'addit', 'carryon', 'lock', 'group', 'room', 'nightm', 'sur', 'shit', 'bump', 'rough', 'lucky', 'my', 'perfect', 'sun', 'stay', 'rais', 'io', 'saw', 'plat', 'dad', 'part', 'whol', 'short', 'europ', 'abc', 'overhead', 'person', 'ask', 'luck', 'dear', 'accommod', 'lol', 'act', 'as', 'affect', 'storm', 'shock', 'um', 'pa', 'cut', 'phil', 'main', 'penal', 'industry', 'month', 'regard', 'pot', 'movy', 'mr', 'word', 'lack', 'deic', 'common', 'express', 'hug', 'then', 'orlando', 'tough', 'wo', 'accid', 'hook', 'altern', 'prev', 'domest', 'law', 'oh', 'auto', 'econom', 'transf', 'unr', 'sho', 'necess', 'david', 'cas', 'cousin', 'vouch', 'janu', 'mail', 'execut', 'company', 'mayb', 'chas', 'pass', 'son', 'weak', 'ya', 'miam', 'jan', 'explain', 'talk', 'almost', 'ppl', 'int', 'daught', 'prefer', 'anym', 'platin', 'termin', 'marry', 'badcustomerserv', 'rud', 'overnight', 'cli', 'hr', 'iah', 'accord', 'dmed', 'detail', 'charlot', 'ign', 'touch', 'form', 'expens', 'anywh', 'upon', 'ground', 'els', 'meas', 'apprecy', 'tarmac', 'ua', 'inc', 'outsid', 'tru', 'break', 'guit', 'third', 'besid', 'search', 'flex', 'rul', 'enough', 'denv', 'train', 'too', 'mistak', 'found', 'avoid', 'superv', 'gf', 'pre', 'preboard', 'thru', 'dept', 'okc', 'upset', 'employ', 'equip', 'thnx', 'our', 'intl', 'consid', 'milit', 'emerg', 'from', 'mileagepl', 'ov', 'complain', 'throwing', 'unfortun', 'coach', 'bird', 'ahead', 'control', 'rath', 'sil', 'delt', 'unhelp', 'both', 'buddy', 'attempt', 'believ', 'disappear', 'stand', 'record', 'nut', 'guid', 'read', 'everyon', 'inform', 'outbound', 'switch', 'aircraft', 'crash', 'again', 'knew', 'wint', 'coat', 'scam', 'reach', 'hon', 'elsewh', 'hear', 'quit', 'pathet', 'unavail', 'baby', 'huh', 'by', 'simpl', 'goe', 'obvy', 'disrespect', 'fing', 'enjoy', 'zon', 'zero', 'excus', 'caus', 'octob', 'decemb', 'sna', 'weekend', 'vs', 'loc', 'flightd', 'contin', 'held', 'tour', 'coast', 'whoev', 'fb', 'charact', 'limit', 'res', 'appear', 'pop', 'coupon', 'ridic', 'cheap', 'airf', 'heathrow', 'unhappy', 'complaint', 'ref', 'aw', 'priv', 'jet', 'fund', 'yep', 'mat', 'lou', 'difficult', 'prep', 'stressful', 'seek', 'confid', 'wor', 'californ', 'conf', 'commun', 'fiant', 'to', 'top', 'unitedairlin', 'kudo', 'ontim', 'quot', 'rememb', 'heat', 'extrem', 'captain', 'efficy', 'hent', 'cloth', 'cury', 'washington', 'leg', 'chicago', 'loung', 'ow', 'okay', 'prop', 'transfer', 'dead', 'onto', 'forgot', 'atrocy', 'imposs', 'esp', 'lhr', 'doubt', 'vac', 'nop', 'sleep', 'ass', 'ruin', 'compens', 'origin', 'he', 'defin', 'valid', 'inbound', 'del', 'delivery', 'host', 'lbs', 'writ', 'machin', 'blam', 'prevy', 'feedback', 'tir', 'clt', 'ide', 'neveragain', 'within', 'cancun', 'eq', 'deep', 'fig', 'pack', 'pax', 'hou', 'pos', 'wak', 'nobody', 'flyoh', 'door', 'premy', 'annoy', 'phoenix', 'bullshit', 'stell', 'encount', 'rip', 'front', 'pocket', 'absurd', 'fact', 'walk', 'publ', 'nah', 'split', 'wks', 'bwi', 'appropry', 'review', 'bs', 'unprofess', 'overbook', 'un', 'corp', 'jp', 'courtesy', 'tag', 'cert', 'appl', 'bunch', 'adopt', 'outlet', 'incompet', 'exact', 'carousel', 'monit', 'spar', 'unless', 'disast', 'period', 'fal', 'apart', 'fleet', 'notcool', 'maj', 'impact', 'refuel', 'spent', 'hundr', 'rect', 'situ', 'clu', 'lit', 'dia', 'remind', 'dev', 'insid', 'assum', 'ter', 'wher', 'effort', 'mass', 'confus', 'softw', 'airpl', 'howev', 'display', 'clear', 'discuss', 'shot', 'pac', 'dat', 'gen', 'unnecess', 'decid', 'kp', 'kit', 'aa', 'ens', 'lie', 'flat', 'stl', 'catch', 'kar', 'chick', 'feat', 'fair', 'den', 'reinst', 'laugh', 'photo', 'thes', 'damn', 'canad', 'yvr', 'divert', 'msy', 'mal', 'pic', 'wout', 'yel', 'tho', 'frm', 'reflight', 'gross', 'exampl', 'otherw', 'stood', 'inadequ', 'unfriendlysky', 'seen', 'about', 'singl', 'boyfriend', 'wallet', 'stol', 'til', 'cs', 'repair', 'tuesday', 'fit', 'abt', 'deny', 'prov', 'etc', 'argu', 'sel', 'cuz', 'hubby', 'pow', 'id', 'rev', 'rar', 'poorcustomerserv', 'an', 'multipl', 'angry', 'consist', 'commit', 'merg', 'glitch', 'maint', 'unfriend', 'level', 'lufthans', 'il', 'sick', 'replac', 'typ', 'jh', 'prompt', 'simply', 'twic', 'choos', 'poorserv', 'asp', 'doe', 'certain', 'recov', 'florid', 'allow', 'overweight', 'wom', 'mis', 'block', 'dming', 'artic', 'redeem', 'cc', 'ton', 'gain', 'whos', 'cleveland', 'sunday', 'blog', 'assign', 'sens', 'strand', 'engl', 'hassl', 'ac', 'badserv', 'whatev', 'screw', 'london', 'spee', 'cowork', 'hel', 'flightst', 'rdu', 'shop', 'onboard', 'pts', 'screwed', 'mex', 'ten', 'usairway', 'usairwaysfail', 'pract', 'yys', 'outsourc', 'hm', 'collect', 'suggest', 'bridg', 'freez', 'foot', 'piss', 'engin', 'her', 'releas', 'depl', 'extend', 'advert', 'aircanad', 'lesson', 'pray', 'chair', 'up', 'meal', 'understaff', 'costum', 'has', 'beer', 'understood', 'crazy', 'ha', 'rob', 'ty', 'fa', 'worthless', 'shut', 'pol', 'msg', 'cle', 'wet', 'piec', 'mci', 'airway', 'seg', 'ther', 'acct', 'et', 'mor', 'nit', 'cun', 'worstcustomerserv', 'rerout', 'garb', 'cry', 'reag', 'jetway', 'ber', 'frankfurt', 'fan', 'doubl', 'breakfast', 'irrit', 'cop', 'ual', 'hang', 'tamp', 'robot', 'visit', 'wear', 'grr', 'raleigh', 'rsw', 'lousy', 'fault', 'honeymoon', 'epicfail', 'cx', 'hil', 'ktn', 'beg', 'acknowledg', 'broth', 'hous', 'bdl', 'expl', 'facebook', 'bf', 'tue', 'buf', 'nashvil', 'downgrad', 'surpr', 'freak', 'inefficy', 'tiny', 'doz', 'csr', 'kiosk', 'paty', 'bus', 'disgrac', 'hit', 'forev', 'lazy', 'froz', 'truck', 'valu', 'reconsid', 'attitud', 'respect', 'disgust', 'worstairlineev', 'rol', 'wyou', 'park', 'desp', 'girlfriend', 'pretzel', 'fraud', 'crappy', 'felt', 'qual', 'span', 'retriev', 'exceiv', 'contract', 'pvd', 'upcom', 'cov', 'dumb', 'hurt', 'mem', 'disconnect', 'pr', 'rely', 'rel', 'org', 'bay', 'import', 'me', 'describ', 'per', 'tail', 'din', 'acc', 'honest', 'capt', 'cab', 'pit', 'idea', 'bum', 'cont', 'discov', 'bhm', 'god', 'educ', 'wal', 'volunt', 'philippin', 'drunk', 'aisl', 'soc', 'planet', 'shuttl', 'concours', 'known', 'trap', 'sight', 'num', 'slept', 'runway', 'fals', 'idiot', 'everytim', 'pres', 'faa', 'suit', 'elit', 'ont', 'star', 'sist', 'liv', 'push', 'fiv', 'sometim', 'sep', 'oft', 'bathroom', 'unitedsuck', 'toddl', 'toilet', 'pend', 'out', 'chi', 'lied', 'proof', 'autom', 'cat', 'sky', 'rub', 'hist', 'memph', 'discount', 'meant', 'passport', 'tick', 'rapid', 'approach', 'uh', 'appal', 'journey', 'spel', 'cit', 'perhap', 'ahold', 'delet', 'cvg', 'skil', 'depend', 'belong', 'juan', 'personnel', 'particul', 'fam', 'pricey', 'unitedfail', 'inexcus', 'immedy', 'weight', 'arrang', 'condit', 'guar', 'albany', 'peanut', 'clar', 'be', 'with', 'wed', 'convers', 'ramp', 'hello', 'dang', 'detroit', 'bush', 'nt', 'nj', 'alright', 'espec', 'shitty', 'tremend', 'amount', 'unbeliev', 'abysm', 'mark', 'childr', 'roundtrip', 'loyal', 'perk', 'download', 'hnl', 'cxl', 'progress', 'ff', 'callback', 'moth', 'nat', 'wat', 'legroom', 'young', 'chos', 'tmrw', 'weird', 'dec', 'pound', 'fir', 'pain', 'cnn', 'approv', 'ship', 'flts', 'simil', 'inch', 'sou', 'six', 'directtv', 'traff', 'unlik', 'congrat', 'airb', 'shout', 'somewh', 'cap', 'disregard', 'dragon', 'pen', 'backup', 'remain', 'jax', 'bna', 'exit', 'wheelchair', 'plenty', 'yay', 'fra', 'die', 'plast', 'stock', 'roc', 'orl', 'map', 'insult', 'sal', 'nor', 'tkt', 'smil', 'interview', 'biggest', 'ripoff', 'although', 'nothappy', 'ba', 'slc', 'overal', 'exped', 'docu', 'techn', 'horrend', 'proc', 'party', 'cel', 'teach', 'tpa', 'msp', 'forg', 'char', 'avy', 'own', 'cup', 'columb', 'his', 'sigh', 'somebody', 'som', 'john', 'ver', 'fury', 'bankrupt', 'golf', 'cart', 'ins', 'remot', 'volum', 'fold', 'tight', 'east', 'embarrass', 'warn', 'wednesday', 'combin', 'snack', 'belt', 'transport', 'jun', 'lying', 'lav', 'funct', 'warm', 'thousand', 'pbi', 'fath', 'lifetim', 'misplac', 'laguard', 'siz', 'hah', 'wth', 'hungry', 'xday', 'firstclass', 'fantast', 'sw', 'exchang', 'gg', 'dim', 'dial', 'tablet', 'dying', 'yup', 'court', 'van', 'alert', 'dest', 'straight', 'annivers', 'expedit', 'nc', 'buffalo', 'estim', 'join', 'gas', 'hid', 'mag', 'nasty', 'admir', 'heavy', 'incom', 'stick', 'survey', 'puerto', 'rico', 'alot', 'pet', 'west', 'admit', 'boss', 'incorrect', 'wheth', 'wrot', 'custserv', 'term', 'camer', 'pittsburgh', 'jt', 'fresh', 'ric', 'reward', 'august', 'headach', 'conflict', 'fort', 'profess', 'invit', 'flytp', 'protect', 'neith', 'scal', 'blah', 'en', 'hartford', 'mke', 'bon', 'od', 'stor', 'omah', 'init', 'circ', 'ft', 'lauderd', 'lmao', 'precy', 'fortun', 'heart', 'fed', 'icy', 'street', 'nex', 'indee', 'asham', 'xx', 'speedy', 'thos', 'success', 'hub', 'disorg', 'react', 'port', 'phx', 'jacksonvil', 'drov', 'de', 'birmingham', 'brut', 'midway', 'swa', 'vil', 'rr', 'spiritairlin', 'southwestairlin', 'phlairport', 'charleston', 'throughout', 'gear', 'mdw', 'fel', 'destinationdragon', 'imaginedragon', 'voic', 'unrely', 'test', 'bae', 'contest', 'spirit', 'scaveng', 'hunt', 'injury', 'terry', 'est', 'antonio', 'noon', 'aug', 'oakland', 'bostonlog', 'enrout', 'rethink', 'stroller', 'md', 'tx', 'telephon', 'ring', 'band', 'col', 'compass', 'loss', 'sunny', 'spring', 'harb', 'battery', 'baltim', 'usair', 'indy', 'cmon', 'el', 'loos', 'heck', 'colleagu', 'resch', 'pur', 'blu', 'fortunemagazin', 'kel', 'stupid', 'sum', 'cash', 'crowd', 'velourl', 'triflight', 'ste', 'selfy', 'payp', 'nearby', 'aww', 'colleg', 'laur', 'phys', 'savannah', 'anticip', 'love_dragonss', 'chao', 'unload', 'evalu', 'disney', 'dealt', 'involv', 'regul', 'chart', 'sju', 'republ', 'fleek', 'jb', 'trueblu', 'beach', 'flyf', 'njb', 'jblu', 'wsj', 'cub', 'appeas', 'waterbury', 'flyingitforward', 'mint', 'nantucket', 'glass', 'mosa', 'goodwil', 'dissatisfy', 'endless', 'hpn', 'sex', 'sxm', 'journ', 'asleep', 'hait', 'bluem', 'digit', 'crewmemb', 'livery', 'bottl', 'shoutout', 'dividend', 'chairm', 'ut', 'exec', 'ctl', 'aadv', 'cot', 'onhold', 'key', 'usairwayssuck', 'dfwairport', 'filmcrew', 'cowboycerron'])\n"
     ]
    }
   ],
   "source": [
    "print(stems_bow_vec.vocabulary_.keys())"
   ]
  },
  {
   "cell_type": "code",
   "execution_count": 43,
   "metadata": {},
   "outputs": [],
   "source": [
    "# Lemmas Data Text\n",
    "lemmas_bow_vec = CountVectorizer(max_features=max_features_test)                # Keep only 2000 features as number of features will increase the processing time.\n",
    "lemmas_data_features_cv = lemmas_bow_vec.fit_transform(data['text_lemmas'])\n",
    "\n",
    "lemmas_data_features_cv = lemmas_data_features_cv.toarray()                        # Convert the data features to array."
   ]
  },
  {
   "cell_type": "code",
   "execution_count": 44,
   "metadata": {},
   "outputs": [
    {
     "data": {
      "text/plain": [
       "(14604, 2000)"
      ]
     },
     "execution_count": 44,
     "metadata": {},
     "output_type": "execute_result"
    }
   ],
   "source": [
    "lemmas_data_features_cv.shape"
   ]
  },
  {
   "cell_type": "code",
   "execution_count": 45,
   "metadata": {},
   "outputs": [
    {
     "data": {
      "text/plain": [
       "array([[0, 0, 0, ..., 0, 0, 0],\n",
       "       [0, 0, 0, ..., 0, 0, 0],\n",
       "       [0, 0, 0, ..., 0, 0, 0],\n",
       "       ...,\n",
       "       [0, 0, 0, ..., 0, 0, 0],\n",
       "       [0, 0, 0, ..., 0, 0, 0],\n",
       "       [0, 0, 0, ..., 0, 0, 0]], dtype=int64)"
      ]
     },
     "execution_count": 45,
     "metadata": {},
     "output_type": "execute_result"
    }
   ],
   "source": [
    "lemmas_data_features_cv"
   ]
  },
  {
   "cell_type": "code",
   "execution_count": 46,
   "metadata": {},
   "outputs": [
    {
     "name": "stdout",
     "output_type": "stream",
     "text": [
      "dict_keys(['virginamerica', 'what', 'say', 'plus', 'add', 'experience', 'today', 'must', 'mean', 'need', 'take', 'another', 'trip', 'really', 'entertainment', 'face', 'little', 'big', 'bad', 'thing', 'seriously', 'would', 'pay', 'flight', 'seat', 'play', 'fly', 'va', 'yes', 'nearly', 'every', 'time', 'vx', 'go', 'away', 'miss', 'opportunity', 'without', 'hat', 'https', 'well', 'now', 'do', 'amaze', 'arrive', 'hour', 'early', 'good', 'know', 'suicide', 'second', 'lead', 'death', 'among', 'teens', 'pretty', 'much', 'better', 'this', 'great', 'deal', 'already', 'think', 'nd', 'australia', 'even', 'st', 'yet', 'fabulous', 'sky', 'stress', 'travel', 'http', 'thank', 'schedule', 'still', 'mia', 'so', 'excite', 'first', 'cross', 'country', 'lax', 'mco', 'hear', 'nothing', 'things', 'virgin', 'america', 'nyc', 'sfo', 'last', 'week', 'could', 'fully', 'sit', 'due', 'two', 'large', 'either', 'side', 'help', 'awesome', 'please', 'want', 'fare', 'may', 'three', 'carriers', 'available', 'select', 'love', 'you', 'feel', 'brand', 'make', 'bos', 'las', 'non', 'stop', 'anytime', 'soon', 'guy', 'mess', 'reserve', 'friends', 'give', 'free', 'internet', 'status', 'match', 'program', 'apply', 'weeks', 'call', 'email', 'response', 'happen', 'ur', 'food', 'options', 'at', 'least', 'site', 'able', 'eat', 'anything', 'next', 'hrs', 'fail', 'worry', 'together', 'get', 'cold', 'air', 'ewr', 'middle', 'red', 'eye', 'hi', 'cool', 'birthday', 'elevate', 'enter', 'name', 'book', 'problems', 'be', 'hours', 'club', 'post', 'online', 'current', 'leave', 'expensive', 'iad', 'no', 'one', 'answer', 'number', 'await', 'return', 'phone', 'prefer', 'use', 'option', 'news', 'start', 'hawaii', 'end', 'year', 'via', 'nice', 'rt', 'takeoff', 'way', 'best', 'ever', 'airline', 'around', 'hand', 'your', 'chat', 'support', 'work', 'view', 'sign', 'beyond', 'hey', 'flyer', 'but', 'hard', 'account', 'plz', 'win', 'upgrade', 'sea', 'unused', 'ticket', 'move', 'new', 'city', 'how', 'expire', 'dallas', 'seattle', 'feb', 'reason', 'rock', 'dream', 'wow', 'blow', 'mind', 'ladygaga', 'carrieunderwood', 'after', 'night', 'oscars', 'agree', 'all', 'entertain', 'suppose', 'minutes', 'ago', 'website', 'show', 'on', 'in', 'though', 'impressive', 'wish', 'atlanta', 'will', 'la', 'february', 'th', 'lga', 'dal', 'try', 'since', 'page', 'never', 'load', 'thx', 'lady', 'she', 'market', 'song', 'let', 'us', 'sorry', 'beat', 'dca', 'pm', 'check', 'someone', 'hold', 'earlier', 'tonight', 'congrats', 'award', 'everything', 'fine', 'lose', 'bag', 'change', 'reservation', 'have', 'credit', 'card', 'waive', 'fee', 'or', 'customer', 'service', 'team', 'track', 'baggage', 'step', 'game', 'dirty', 'table', 'floor', 'ride', 'plane', 'crew', 'airlines', 'like', 'morning', 'any', 'correct', 'bill', 'watch', 'student', 'film', 'feet', 'different', 'media', 'anyway', 'speak', 'human', 'possible', 'biz', 'traveler', 'southwestair', 'jetblue', 'member', 'inflight', 'interest', 'whenever', 'delay', 'late', 'cancel', 'four', 'plan', 'disappoint', 'share', 'business', 'meet', 'trouble', 'wife', 'bring', 'code', 'bet', 'life', 'can', 'home', 'why', 'when', 'back', 'yeah', 'point', 'recent', 'tv', 'video', 'just', 'flightled', 'jfk', 'saturday', 'land', 'friendly', 'redirect', 'btw', 'mobile', 'scan', 'passengers', 'tell', 'remove', 'class', 'bin', 'uncomfortable', 'find', 'anyone', 'useless', 'sf', 'thursday', 'music', 'direct', 'fll', 'layover', 'vegas', 'fuel', 'buy', 'people', 'exp', 'customerservice', 'line', 'hang', 'sarcasm', 'plain', 'text', 'info', 'weather', 'look', 'oneway', 'lot', 'cities', 'come', 'phl', 'we', 'horrible', 'concern', 'tech', 'helpful', 'comfortable', 'rep', 'kick', 'beautiful', 'design', 'right', 'bc', 'secure', 'run', 'gate', 'wait', 'keep', 'and', 'totally', 'folks', 'problem', 'min', 'connect', 'seem', 'long', 'outstanding', 'san', 'francisco', 'absolute', 'provide', 'complimentary', 'completely', 'month', 'nonstop', 'depart', 'customers', 'process', 'link', 'tsa', 'precheck', 'terrible', 'hotel', 'cabo', 'assistance', 'yesterday', 'shame', 'register', 'dog', 'dull', 'the', 'queue', 'longer', 'pls', 'advise', 'drop', 'always', 'create', 'frustrate', 'extra', 'buck', 'luggage', 'might', 'afford', 'hire', 'lame', 'world', 'flt', 'sooner', 'midnight', 'monday', 'that', 'imagine', 'web', 'indicate', 'staff', 'super', 'premium', 'across', 'offer', 'sad', 'question', 'infant', 'welcome', 'dc', 'refresh', 'understand', 'dm', 'damage', 'policy', 'special', 'alone', 'kid', 'priority', 'board', 'purchase', 'happy', 'field', 'definitely', 'dfw', 'friday', 'error', 'contact', 'minute', 'reschedule', 'button', 'ring', 'fix', 'tomorrow', 'unacceptable', 'stick', 'pair', 'include', 'wine', 'only', 'white', 'agent', 'silver', 'close', 'assist', 'austin', 'route', 'normal', 'receive', 'reply', 'central', 'smh', 'logan', 'airport', 'checkin', 'desk', 'open', 'jump', 'daily', 'begin', 'april', 'fuck', 'unite', 'fl', 'follow', 'many', 'apologies', 'worse', 'respond', 'spend', 'money', 'strand', 'who', 'reimburse', 'sjc', 'choice', 'southwest', 'days', 'confirmation', 'claim', 'notification', 'rebook', 'gold', 'if', 'cmh', 'throw', 'worst', 'stuff', 'wrong', 'issue', 'item', 'head', 'americanairlines', 'suck', 'same', 'because', 'flightlation', 'notice', 'ps', 'drive', 'mon', 'boston', 'stink', 'expect', 'dance', 'high', 'school', 'quick', 'apparently', 'faster', 'send', 'picture', 'texas', 'ny', 'pilot', 'job', 'snow', 'york', 'area', 'afternoon', 'row', 'mention', 'mechanical', 'handle', 'drink', 'twitter', 'kill', 'charge', 'refuse', 'refund', 'access', 'iphone', 'ipad', 'passbook', 'click', 'break', 'forward', 'cost', 'ugh', 'along', 'put', 'pdx', 'bug', 'report', 'center', 'bite', 'attendant', 'reset', 'password', 'base', 'very', 'something', 'departure', 'palm', 'spring', 'ca', 'sound', 'fun', 'update', 'count', 'somehow', 'continue', 'sort', 'sweet', 'ice', 'coffee', 'passenger', 'trust', 'file', 'destination', 'wheel', 'easy', 'itinerary', 'see', 'inspire', 'become', 'event', 'march', 'abq', 'entire', 'improve', 'request', 'window', 'confirm', 'not', 'treat', 'grand', 'wtf', 'purpose', 'frequent', 'flier', 'inconvenience', 'full', 'place', 'result', 'usa', 'pillow', 'instead', 'race', 'advantage', 'fight', 'salt', 'cabin', 'behind', 'fav', 'hot', 'paris', 'surgery', 'suitcase', 'errors', 'past', 'ah', 'order', 'virginatlantic', 'atlantic', 'benefit', 'husband', 'screen', 'light', 'barely', 'turbulence', 'profit', 'funny', 'story', 'forecast', 'nytimes', 'position', 'wonder', 'despite', 'revenue', 'positive', 'increase', 'wind', 'degrees', 'safety', 'day', 'rout', 'newark', 'hope', 'probably', 'save', 'standby', 'they', 'absolutely', 'ready', 'manage', 'treatment', 'old', 'battle', 'other', 'less', 'half', 'price', 'round', 'dtw', 'sell', 'promo', 'paperwork', 'promise', 'resolution', 'care', 'lovely', 'mileage', 'challenge', 'several', 'ball', 'flightly', 'americanair', 'glad', 'years', 'earn', 'couple', 'message', 'avail', 'cheer', 'smooth', 'easily', 'hop', 'force', 'small', 'carry', 'empty', 'space', 'slow', 'representative', 'solution', 'loyal', 'rd', 'partner', 'visa', 'payment', 'method', 'rat', 'recommend', 'aus', 'turn', 'course', 'family', 'ok', 'receipt', 'badge', 'ones', 'currently', 'pick', 'tweet', 'should', 'rental', 'car', 'cust', 'lap', 'child', 'of', 'celebrate', 'chance', 'gift', 'bank', 'joke', 'also', 'for', 'grandma', 'bday', 'greet', 'stewardess', 'eastern', 'tix', 'yr', 'moment', 'submit', 'fat', 'it', 'ceo', 'low', 'model', 'brilliant', 'omg', 'pull', 'computer', 'incident', 'laptop', 'guess', 'announce', 'dollar', 'deserve', 'fyi', 'address', 'exist', 'towards', 'svc', 'app', 'favorite', 'crap', 'channel', 'uk', 'set', 'mexico', 'waste', 'paper', 'system', 'accept', 'likely', 'tea', 'black', 'destinations', 'spread', 'learn', 'incredible', 'philadelphia', 'houston', 'finally', 'avgeek', 'forget', 'kind', 'jack', 'future', 'poor', 'malfunction', 'diego', 'thankyou', 'excellent', 'portland', 'additional', 'items', 'carryon', 'group', 'room', 'nightmare', 'sure', 'shit', 'bump', 'rough', 'luckily', 'my', 'perfect', 'sun', 'stay', 'raise', 'man', 'wifi', 'ios', 'saw', 'dad', 'part', 'whole', 'short', 'europe', 'abc', 'overhead', 'person', 'ask', 'luck', 'dear', 'accommodate', 'commercial', 'lol', 'others', 'actual', 'serv', 'as', 'travelers', 'affect', 'storm', 'shock', 'complete', 'toward', 'advance', 'prior', 'pa', 'cut', 'philly', 'main', 'penalty', 'industry', 'months', 'reps', 'regard', 'movie', 'actually', 'mr', 'word', 'resolve', 'lack', 'deice', 'fill', 'common', 'express', 'connections', 'international', 'yous', 'then', 'orlando', 'mins', 'tough', 'wo', 'serious', 'hook', 'alternate', 'prevent', 'domestic', 'oh', 'auto', 'economy', 'transfer', 'security', 'shoe', 'david', 'case', 'cousin', 'wonderful', 'voucher', 'january', 'mail', 'company', 'maybe', 'timely', 'manner', 'pass', 'son', 'ya', 'miami', 'jan', 'total', 'explain', 'talk', 'almost', 'ppl', 'int', 'daughter', 'flightr', 'anymore', 'platinum', 'mechanics', 'badcustomerservice', 'agents', 'rude', 'thankfully', 'overnight', 'clients', 'hr', 'iah', 'accord', 'dmed', 'detail', 'charlotte', 'existent', 'ignore', 'touch', 'form', 'vouchers', 'inconvenient', 'anywhere', 'upon', 'grind', 'else', 'appreciate', 'tarmac', 'ua', 'outside', 'truly', 'third', 'search', 'rule', 'enough', 'denver', 'train', 'too', 'mistake', 'ord', 'avoid', 'supervisor', 'gf', 'announcement', 'pre', 'require', 'thru', 'dept', 'okc', 'connection', 'upset', 'employees', 'medical', 'equipment', 'thnx', 'our', 'intl', 'military', 'mom', 'emergency', 'miles', 'from', 'mileageplus', 'over', 'complain', 'american', 'coach', 'bird', 'ahead', 'control', 'rather', 'sincerely', 'delta', 'attendants', 'unhelpful', 'bother', 'attempt', 'believe', 'disappear', 'stand', 'record', 'nut', 'read', 'everyone', 'outbound', 'switch', 'aircraft', 'crash', 'again', 'winter', 'coat', 'reach', 'honor', 'elsewhere', 'quite', 'pathetic', 'unavailable', 'ways', 'minor', 'baby', 'mine', 'huh', 'by', 'simple', 'apology', 'repeat', 'finger', 'enjoy', 'incredibly', 'zone', 'zero', 'excuse', 'cause', 'members', 'october', 'december', 'sna', 'weekend', 'vs', 'flightd', 'ski', 'coast', 'whoever', 'listen', 'fb', 'character', 'limit', 'appear', 'coupon', 'cheaper', 'airfare', 'heathrow', 'unhappy', 'complaint', 'awful', 'private', 'jet', 'fund', 'yep', 'matter', 'atl', 'ground', 'louis', 'difficult', 'prepare', 'stressful', 'seek', 'client', 'worth', 'california', 'airports', 'conf', 'communication', 'far', 'note', 'to', 'top', 'unitedairlines', 'kudos', 'flightling', 'usually', 'ontime', 'advisory', 'quote', 'remember', 'heat', 'extremely', 'captain', 'real', 'hence', 'clothe', 'curious', 'washington', 'leg', 'chicago', 'lounge', 'owe', 'okay', 'properly', 'dead', 'onto', 'atrocious', 'impossible', 'terminal', 'lhr', 'arrival', 'information', 'doubt', 'vacation', 'responsibility', 'compliment', 'nope', 'sleep', 'assure', 'ruin', 'compensation', 'original', 'he', 'define', 'valid', 'inbound', 'deliver', 'delivery', 'hotels', 'hostage', 'lbs', 'write', 'machine', 'employee', 'blame', 'previous', 'local', 'tel', 'most', 'feedback', 'tire', 'action', 'solve', 'comment', 'clt', 'idea', 'neveragain', 'within', 'cancun', 'deep', 'figure', 'pack', 'screw', 'pax', 'wake', 'counter', 'nobody', 'unfortunately', 'doors', 'premier', 'annoy', 'yea', 'phoenix', 'bullshit', 'rip', 'front', 'pocket', 'absurd', 'fact', 'walk', 'nah', 'split', 'bwi', 'review', 'bs', 'yo', 'highly', 'unprofessional', 'consider', 'unable', 'jp', 'flightations', 'courtesy', 'diff', 'tag', 'certificate', 'bar', 'disappointment', 'apple', 'bunch', 'impress', 'outlets', 'incompetence', 'finish', 'exact', 'ridiculous', 'carousel', 'monitor', 'easier', 'unless', 'disaster', 'period', 'reimbursement', 'fall', 'apart', 'fleet', 'serve', 'notcool', 'balance', 'major', 'impact', 'refuel', 'hundreds', 'rectify', 'situation', 'computers', 'clue', 'literally', 'list', 'dia', 'reminder', 'device', 'inside', 'assume', 'where', 'final', 'confusion', 'failure', 'airplane', 'however', 'display', 'clear', 'reference', 'discuss', 'shoot', 'date', 'spot', 'generic', 'unnecessary', 'kp', 'aa', 'ensure', 'lie', 'stl', 'membership', 'catch', 'karen', 'chicken', 'fair', 'den', 'ohare', 'reservations', 'reinstate', 'office', 'laugh', 'photo', 'these', 'damn', 'canada', 'yvr', 'divert', 'msy', 'male', 'threaten', 'canadian', 'pic', 'wout', 'yell', 'tho', 'frm', 'reflight', 'gross', 'statement', 'directly', 'example', 'otherwise', 'proper', 'quickly', 'unfriendlyskies', 'about', 'single', 'location', 'girl', 'boyfriend', 'notifications', 'wallet', 'steal', 'til', 'cs', 'repair', 'tuesday', 'responses', 'overbooked', 'fit', 'incur', 'abt', 'deny', 'prove', 'exactly', 'yrs', 'etc', 'cuz', 'power', 'id', 'an', 'forth', 'multiple', 'correctly', 'management', 'angry', 'consistent', 'merger', 'flyers', 'state', 'maintenance', 'unfriendly', 'personal', 'level', 'lufthansa', 'ill', 'sick', 'replacement', 'jh', 'prompt', 'simply', 'friend', 'twice', 'frustration', 'effort', 'choose', 'difference', 'age', 'poorservice', 'general', 'attention', 'aspen', 'certainly', 'florida', 'legs', 'allow', 'woman', 'miserable', 'block', 'dming', 'public', 'mile', 'article', 'redeem', 'cc', 'ton', 'gain', 'rebooked', 'whose', 'cleveland', 'sunday', 'blog', 'basically', 'assign', 'sense', 'english', 'hassle', 'terribly', 'hate', 'huge', 'accommodations', 'originally', 'ac', 'badservice', 'whatever', 'london', 'hopefully', 'complaints', 'speed', 'hell', 'flightst', 'rdu', 'shop', 'onboard', 'reasonable', 'pts', 'compare', 'usairways', 'usairwaysfail', 'occur', 'consistently', 'outsource', 'hm', 'suggest', 'manager', 'workers', 'bridge', 'freeze', 'dollars', 'door', 'global', 'flightation', 'yyz', 'piss', 'engine', 'confuse', 'her', 'release', 'deplane', 'extend', 'advertise', 'aircanada', 'lesson', 'shameful', 'pray', 'chair', 'up', 'meals', 'unreal', 'costumer', 'crazy', 'ha', 'ty', 'fa', 'shut', 'suggestion', 'police', 'msg', 'clean', 'wet', 'print', 'piece', 'mci', 'airways', 'segment', 'there', 'transaction', 'acct', 'policies', 'eta', 'more', 'cun', 'worstcustomerservice', 'rerouted', 'garbage', 'cry', 'epic', 'reagan', 'jetway', 'operate', 'replace', 'till', 'frankfurt', 'fan', 'double', 'breakfast', 'irritate', 'copy', 'ual', 'tampa', 'visit', 'wear', 'raleigh', 'poorly', 'rsw', 'lousy', 'fault', 'honeymoon', 'certain', 'epicfail', 'cx', 'aware', 'hilarious', 'ktn', 'officially', 'pleasant', 'brother', 'house', 'bdl', 'facebook', 'bf', 'tues', 'buf', 'nashville', 'downgrade', 'surprise', 'freak', 'tiny', 'csr', 'patience', 'bus', 'prob', 'compensate', 'hit', 'forever', 'lazy', 'metal', 'truck', 'value', 'fast', 'reconsider', 'attitude', 'respect', 'disgust', 'worstairlineever', 'wyou', 'park', 'desperately', 'girlfriend', 'lower', 'crappy', 'higher', 'felt', 'quality', 'mech', 'retrieve', 'contract', 'pvd', 'upcoming', 'cover', 'dumb', 'hurt', 'taxi', 'locate', 'disconnect', 'pr', 'none', 'act', 'bay', 'important', 'me', 'flightlations', 'per', 'dinner', 'honest', 'except', 'capt', 'explanation', 'availability', 'cab', 'pit', 'cheap', 'incompetent', 'bummer', 'realize', 'content', 'discover', 'god', 'wall', 'volunteer', 'log', 'strike', 'social', 'comp', 'possibly', 'planet', 'practice', 'shuttle', 'honestly', 'trap', 'sight', 'official', 'handlers', 'runway', 'false', 'holders', 'idiots', 'everytime', 'daughters', 'present', 'obviously', 'faa', 'near', 'suit', 'elite', 'once', 'staralliance', 'true', 'live', 'exceptional', 'push', 'five', 'ass', 'sometime', 'separate', 'often', 'bathroom', 'unitedsucks', 'pending', 'chi', 'safe', 'automatically', 'cater', 'cle', 'busy', 'rent', 'reroute', 'conference', 'memphis', 'off', 'notify', 'discount', 'attend', 'funeral', 'safely', 'passport', 'tick', 'approach', 'communicate', 'appal', 'perhaps', 'ahold', 'delete', 'departures', 'cvg', 'belong', 'star', 'alliance', 'standard', 'juan', 'personnel', 'fam', 'unitedfail', 'inexcusable', 'million', 'weight', 'out', 'arrange', 'announcements', 'condition', 'immediately', 'guarantee', 'acceptable', 'peanuts', 'with', 'wed', 'ramp', 'hello', 'relations', 'humans', 'sister', 'bush', 'nj', 'alright', 'especially', 'shitty', 'amount', 'decide', 'mark', 'families', 'children', 'roundtrip', 'loyalty', 'perk', 'download', 'cxl', 'progress', 'badly', 'ff', 'callback', 'corporate', 'sadly', 'mother', 'water', 'legroom', 'rest', 'young', 'tmrw', 'weird', 'stream', 'rate', 'decent', 'merge', 'pound', 'fire', 'eventually', 'cnn', 'approve', 'ship', 'flts', 'beer', 'inch', 'south', 'degree', 'six', 'advice', 'traffic', 'airbus', 'remind', 'shout', 'assignment', 'carrier', 'disregard', 'operations', 'dragon', 'pen', 'remain', 'jax', 'bna', 'exit', 'plenty', 'yay', 'die', 'plastic', 'meal', 'roc', 'useful', 'map', 'insult', 'tkt', 'smile', 'ind', 'roads', 'interview', 'biggest', 'decision', 'unbelievable', 'although', 'nothappy', 'ba', 'slc', 'argue', 'history', 'overall', 'relate', 'recently', 'expedia', 'document', 'technical', 'fliers', 'horrendous', 'disgrace', 'procedure', 'party', 'cell', 'thoughts', 'teach', 'tpa', 'msp', 'usual', 'aviation', 'cup', 'his', 'its', 'guitar', 'extension', 'sigh', 'somebody', 'rapid', 'some', 'john', 'wheelchair', 'clearly', 'furious', 'department', 'type', 'golf', 'cart', 'responsible', 'insane', 'volume', 'patient', 'painful', 'east', 'embarrass', 'warn', 'wednesday', 'res', 'snack', 'belt', 'automate', 'transport', 'mad', 'june', 'specific', 'winners', 'accurate', 'companion', 'pbi', 'father', 'lifetime', 'misplace', 'laguardia', 'size', 'suggestions', 'haha', 'wth', 'hungry', 'maint', 'firstclass', 'fantastic', 'sw', 'exchange', 'gg', 'cont', 'dial', 'tablet', 'yup', 'courteous', 'driver', 'alert', 'straight', 'anniversary', 'nc', 'buffalo', 'estimate', 'join', 'gas', 'hide', 'ripoff', 'nasty', 'heavy', 'systems', 'survey', 'puerto', 'rico', 'pet', 'west', 'admit', 'women', 'whether', 'parent', 'term', 'camera', 'pittsburgh', 'harder', 'van', 'toddler', 'jt', 'somewhere', 'letter', 'fresh', 'shortly', 'ric', 'reward', 'august', 'fort', 'flytpa', 'inform', 'apologize', 'neither', 'understandable', 'tear', 'mke', 'bonus', 'warm', 'package', 'initial', 'ft', 'lauderdale', 'icy', 'street', 'nexus', 'indeed', 'qualify', 'ashamed', 'technically', 'success', 'thankful', 'phx', 'de', 'birmingham', 'brutal', 'midway', 'swa', 'promotion', 'alist', 'rr', 'spiritairlines', 'data', 'southwestairlines', 'phlairport', 'charleston', 'throughout', 'heart', 'gear', 'mdw', 'destinationdragons', 'imaginedragons', 'voice', 'test', 'feature', 'contest', 'scavenger', 'hunt', 'est', 'noon', 'aug', 'columbus', 'oakland', 'stroller', 'md', 'tx', 'sale', 'telephone', 'band', 'compassion', 'lucky', 'loss', 'dragons', 'sunny', 'cali', 'professional', 'baltimore', 'usair', 'cmon', 'loose', 'nights', 'resched', 'blue', 'fortunemagazine', 'kelly', 'corporation', 'stupid', 'summer', 'cash', 'refer', 'velourlive', 'selfie', 'college', 'love_dragonss', 'lauren', 'chaos', 'unload', 'disney', 'involve', 'regular', 'fraud', 'national', 'sju', 'fleek', 'jb', 'trueblue', 'plat', 'beach', 'flyfi', 'transportation', 'njb', 'jblu', 'wsj', 'cuba', 'appease', 'waterbury', 'republican', 'flyingitforward', 'mint', 'nantucket', 'glass', 'mosaic', 'goodwill', 'dissatisfy', 'hpn', 'journal', 'asleep', 'bluemanity', 'admirals', 'livery', 'bottle', 'shoutout', 'dividend', 'chairman', 'agency', 'exec', 'ctl', 'aadvantage', 'key', 'usairwayssucks', 'locator', 'dfwairport', 'filmcrew', 'cowboycerrone'])\n"
     ]
    }
   ],
   "source": [
    "print(lemmas_bow_vec.vocabulary_.keys())"
   ]
  },
  {
   "cell_type": "markdown",
   "metadata": {},
   "source": [
    "### TFID Vectorizer"
   ]
  },
  {
   "cell_type": "code",
   "execution_count": 47,
   "metadata": {},
   "outputs": [],
   "source": [
    "# Stems Data Text\n",
    "stems_vectorizer = TfidfVectorizer(max_features=max_features_test)\n",
    "stems_data_features_tfid = stems_vectorizer.fit_transform(data['text_stems'])\n",
    "\n",
    "stems_data_features_tfid = stems_data_features_tfid.toarray()"
   ]
  },
  {
   "cell_type": "code",
   "execution_count": 48,
   "metadata": {},
   "outputs": [
    {
     "data": {
      "text/plain": [
       "(14604, 2000)"
      ]
     },
     "execution_count": 48,
     "metadata": {},
     "output_type": "execute_result"
    }
   ],
   "source": [
    "stems_data_features_tfid.shape"
   ]
  },
  {
   "cell_type": "code",
   "execution_count": 49,
   "metadata": {},
   "outputs": [
    {
     "name": "stdout",
     "output_type": "stream",
     "text": [
      "dict_keys(['virginameric', 'what', 'said', 'plu', 'ad', 'commerc', 'expery', 'today', 'must', 'mean', 'nee', 'tak', 'anoth', 'trip', 'real', 'blast', 'entertain', 'guest', 'fac', 'littl', 'recours', 'big', 'bad', 'thing', 'sery', 'would', 'pay', 'flight', 'seat', 'play', 'fly', 'va', 'ye', 'near', 'every', 'tim', 'vx', 'ear', 'go', 'away', 'miss', 'opportun', 'without', 'hat', 'https', 'wel', 'now', 'do', 'amaz', 'ar', 'hour', 'good', 'know', 'suicid', 'second', 'lead', 'dea', 'among', 'teen', 'pretty', 'much', 'bet', 'thi', 'gre', 'deal', 'already', 'think', 'nd', 'austral', 'ev', 'gon', 'st', 'yet', 'fab', 'ski', 'stress', 'travel', 'http', 'thank', 'schedule', 'stil', 'mia', 'so', 'excit', 'first', 'cross', 'country', 'lax', 'mco', 'heard', 'noth', 'virgin', 'americ', 'flew', 'nyc', 'sfo', 'last', 'week', 'could', 'ful', 'sit', 'due', 'two', 'larg', 'eith', 'sid', 'help', 'awesom', 'pleas', 'want', 'far', 'may', 'three', 'carry', 'avail', 'select', 'lov', 'you', 'feel', 'brand', 'mak', 'bos', 'las', 'non', 'stop', 'anytim', 'soon', 'guy', 'mess', 'reserv', 'friend', 'gav', 'fre', 'internet', 'stat', 'match', 'program', 'apply', 'cal', 'email', 'respons', 'hap', 'ur', 'food', 'opt', 'at', 'least', 'say', 'abl', 'eat', 'anyth', 'next', 'hrs', 'fail', 'worry', 'togeth', 'get', 'cold', 'air', 'ewr', 'middl', 'red', 'ey', 'hi', 'cool', 'birthday', 'elev', 'ent', 'nam', 'book', 'problem', 'op', 'club', 'post', 'onlin', 'cur', 'left', 'expend', 'headphon', 'iad', 'no', 'on', 'answ', 'numb', 'await', 'return', 'phon', 'pref', 'us', 'new', 'start', 'hawai', 'end', 'year', 'via', 'nic', 'rt', 'takeoff', 'way', 'best', 'don', 'airlin', 'around', 'hand', 'yo', 'chat', 'support', 'work', 'view', 'los', 'sign', 'beyond', 'hey', 'but', 'hard', 'account', 'plz', 'win', 'upgrad', 'sea', 'unus', 'ticket', 'mov', 'city', 'how', 'expir', 'leav', 'dalla', 'seattl', 'feb', 'reason', 'rock', 'dream', 'wow', 'mind', 'ladygag', 'carrieunderwood', 'aft', 'night', 'osc', 'agr', 'al', 'is', 'was', 'suppos', 'minut', 'ago', 'websit', 'show', 'in', 'july', 'though', 'impress', 'wish', 'atlant', 'wil', 'la', 'febru', 'th', 'lga', 'dal', 'try', 'sint', 'pag', 'nev', 'load', 'thx', 'spot', 'lady', 'she', 'market', 'song', 'let', 'shown', 'sorry', 'mary', 'beat', 'class', 'dca', 'pm', 'tri', 'check', 'someon', 'hold', 'tonight', 'congr', 'award', 'everyth', 'fin', 'lost', 'bag', 'chang', 'hav', 'credit', 'card', 'mod', 'waiv', 'fee', 'or', 'custom', 'serv', 'team', 'track', 'step', 'gam', 'dirty', 'tabl', 'flo', 'rid', 'plan', 'crew', 'lik', 'sat', 'morn', 'any', 'correct', 'bil', 'watch', 'stud', 'film', 'feet', 'diff', 'med', 'going', 'anyway', 'speak', 'hum', 'poss', 'sup', 'biz', 'southwestair', 'jetblu', 'memb', 'inflight', 'interest', 'whenev', 'delay', 'lat', 'cancel', 'four', 'disappoint', 'shar', 'busy', 'meet', 'troubl', 'wif', 'bring', 'cod', 'random', 'lif', 'can', 'hom', 'why', 'when', 'back', 'yeah', 'point', 'rec', 'tv', 'video', 'just', 'flightl', 'went', 'jfk', 'saturday', 'land', 'redirect', 'btw', 'mobl', 'scan', 'passeng', 'told', 'remov', 'bin', 'uncomfort', 'find', 'anyon', 'useless', 'boy', 'print', 'sf', 'thursday', 'appoint', 'mus', 'direct', 'fll', 'unexpect', 'layov', 'vega', 'fuel', 'bought', 'am', 'peopl', 'exp', 'customerserv', 'lin', 'hung', 'sarcasm', 'plain', 'text', 'info', 'scheduled', 'weath', 'look', 'getaway', 'oneway', 'lot', 'com', 'phl', 'we', 'horr', 'concern', 'tech', 'flown', 'repres', 'comfort', 'rep', 'kick', 'beauty', 'design', 'right', 'bc', 'sec', 'run', 'gat', 'wait', 'kept', 'brows', 'and', 'tot', 'folk', 'min', 'connect', 'seem', 'long', 'outstand', 'san', 'francisco', 'absolv', 'provid', 'comply', 'intern', 'complet', 'mon', 'nonstop', 'depart', 'process', 'link', 'tsa', 'precheck', 'terr', 'hotel', 'cabo', 'assist', 'yesterday', 'giv', 'sham', 'reg', 'dog', 'dul', 'the', 'queu', 'pls', 'adv', 'redcarpet', 'drop', 'alway', 'buy', 'cre', 'anxy', 'frust', 'extr', 'buck', 'lug', 'might', 'afford', 'hir', 'lam', 'world', 'cak', 'flt', 'midnight', 'monday', 'that', 'imagin', 'web', 'ind', 'staff', 'ran', 'paid', 'prem', 'across', 'off', 'sad', 'quest', 'inf', 'welcom', 'dc', 'glob', 'refresh', 'understand', 'dm', 'dam', 'policy', 'destroy', 'spec', 'alon', 'kid', 'pri', 'board', 'purchas', 'happy', 'field', 'definit', 'dfw', 'driv', 'licens', 'friday', 'keep', 'er', 'contact', 'resched', 'button', 'rang', 'fix', 'got', 'tomorrow', 'unacceiv', 'stuck', 'pair', 'includ', 'whit', 'ag', 'silv', 'clos', 'austin', 'rout', 'norm', 'receiv', 'reply', 'cent', 'smh', 'log', 'airport', 'checkin', 'desk', 'jump', 'ep', 'invest', 'dai', 'list', 'begin', 'april', 'fuck', 'unit', 'fl', 'follow', 'many', 'apolog', 'wors', 'respond', 'spend', 'money', 'stranded', 'who', 'reimburs', 'sjc', 'cho', 'southwest', 'day', 'confirm', 'claim', 'not', 'rebook', 'met', 'rest', 'gold', 'if', 'cmh', 'worst', 'stuff', 'wrong', 'had', 'issu', 'item', 'head', 'americanairlin', 'suck', 'sam', 'becaus', 'ps', 'boston', 'stink', 'expect', 'dant', 'high', 'school', 'quick', 'app', 'fast', 'nerv', 'sent', 'pict', 'wing', 'press', 'texa', 'ny', 'pilot', 'job', 'snow', 'york', 'are', 'afternoon', 'row', 'reclin', 'ment', 'mech', 'handl', 'pro', 'drink', 'scar', 'twit', 'kil', 'charg', 'refus', 'refund', 'access', 'iphon', 'ipad', 'passbook', 'click', 'brok', 'forward', 'cost', 'ugh', 'along', 'put', 'pdx', 'bug', 'report', 'bit', 'attend', 'reset', 'password', 'bas', 'disrupt', 'very', 'someth', 'palm', 'springs', 'ca', 'hahah', 'sound', 'fun', 'upd', 'count', 'somehow', 'continu', 'sort', 'sweet', 'ic', 'coff', 'trust', 'fil', 'destin', 'sev', 'wheel', 'easy', 'itin', 'see', 'girl', 'inspir', 'becom', 'march', 'abq', 'entir', 'improv', 'request', 'window', 'tre', 'grand', 'wtf', 'purpos', 'exhaust', 'frequ', 'fli', 'inconveny', 'plac', 'result', 'pillow', 'instead', 'rac', 'fight', 'salt', 'cabin', 'behind', 'fav', 'hot', 'par', 'surgery', 'tel', 'suitcas', 'past', 'ah', 'ord', 'virginatl', 'atl', 'benefit', 'husband', 'screen', 'cam', 'light', 'bar', 'turb', 'profit', 'funny', 'story', 'forecast', 'nytim', 'posit', 'wond', 'despit', 'revenu', 'increas', 'competit', 'wind', 'temp', 'degr', 'most', 'saf', 'sect', 'newark', 'hop', 'prob', 'inappropry', 'sav', 'standby', 'they', 'comp', 'brought', 'ready', 'man', 'urg', 'old', 'battl', 'oth', 'less', 'half', 'pric', 'round', 'dtw', 'sold', 'promo', 'mad', 'paperwork', 'prom', 'resolv', 'perform', 'car', 'mil', 'challeng', 'bal', 'americanair', 'glad', 'took', 'tax', 'earn', 'coupl', 'che', 'smoo', 'forc', 'smal', 'empty', 'spac', 'slow', 'spok', 'solv', 'loy', 'jacket', 'rd', 'partn', 'vis', 'method', 'rat', 'promot', 'recommend', 'au', 'turn', 'cours', 'famy', 'ok', 'sing', 'receipt', 'badg', 'supery', 'standard', 'pick', 'tweet', 'should', 'av', 'rent', 'cust', 'lap', 'child', 'of', 'celebr', 'chant', 'gift', 'bank', 'jok', 'const', 'also', 'for', 'grandm', 'ell', 'bday', 'greet', 'stewardess', 'eastern', 'tix', 'yr', 'transact', 'mom', 'send', 'submit', 'fat', 'it', 'ceo', 'low', 'model', 'bril', 'omg', 'thought', 'pul', 'comput', 'incid', 'laptop', 'guess', 'road', 'been', 'annount', 'doll', 'deserv', 'fyi', 'address', 'ex', 'bount', 'toward', 'requir', 'svc', 'develop', 'ap', 'favorit', 'crap', 'channel', 'uk', 'set', 'mexico', 'integr', 'wast', 'pap', 'system', 'acceiv', 'tea', 'black', 'spread', 'learn', 'incred', 'philadelph', 'did', 'houston', 'avgeek', 'forget', 'kind', 'jack', 'fut', 'poor', 'malfunct', 'diego', 'thankyou', 'jos', 'compet', 'excel', 'portland', 'addit', 'carryon', 'lock', 'group', 'room', 'nightm', 'sur', 'shit', 'bump', 'rough', 'lucky', 'my', 'perfect', 'sun', 'stay', 'rais', 'io', 'saw', 'plat', 'dad', 'part', 'whol', 'short', 'europ', 'abc', 'overhead', 'person', 'ask', 'luck', 'dear', 'accommod', 'lol', 'act', 'as', 'affect', 'storm', 'shock', 'um', 'pa', 'cut', 'phil', 'main', 'penal', 'industry', 'month', 'regard', 'pot', 'movy', 'mr', 'word', 'lack', 'deic', 'common', 'express', 'hug', 'then', 'orlando', 'tough', 'wo', 'accid', 'hook', 'altern', 'prev', 'domest', 'law', 'oh', 'auto', 'econom', 'transf', 'unr', 'sho', 'necess', 'david', 'cas', 'cousin', 'vouch', 'janu', 'mail', 'execut', 'company', 'mayb', 'chas', 'pass', 'son', 'weak', 'ya', 'miam', 'jan', 'explain', 'talk', 'almost', 'ppl', 'int', 'daught', 'prefer', 'anym', 'platin', 'termin', 'marry', 'badcustomerserv', 'rud', 'overnight', 'cli', 'hr', 'iah', 'accord', 'dmed', 'detail', 'charlot', 'ign', 'touch', 'form', 'expens', 'anywh', 'upon', 'ground', 'els', 'meas', 'apprecy', 'tarmac', 'ua', 'inc', 'outsid', 'tru', 'break', 'guit', 'third', 'besid', 'search', 'flex', 'rul', 'enough', 'denv', 'train', 'too', 'mistak', 'found', 'avoid', 'superv', 'gf', 'pre', 'preboard', 'thru', 'dept', 'okc', 'upset', 'employ', 'equip', 'thnx', 'our', 'intl', 'consid', 'milit', 'emerg', 'from', 'mileagepl', 'ov', 'complain', 'throwing', 'unfortun', 'coach', 'bird', 'ahead', 'control', 'rath', 'sil', 'delt', 'unhelp', 'both', 'buddy', 'attempt', 'believ', 'disappear', 'stand', 'record', 'nut', 'guid', 'read', 'everyon', 'inform', 'outbound', 'switch', 'aircraft', 'crash', 'again', 'knew', 'wint', 'coat', 'scam', 'reach', 'hon', 'elsewh', 'hear', 'quit', 'pathet', 'unavail', 'baby', 'huh', 'by', 'simpl', 'goe', 'obvy', 'disrespect', 'fing', 'enjoy', 'zon', 'zero', 'excus', 'caus', 'octob', 'decemb', 'sna', 'weekend', 'vs', 'loc', 'flightd', 'contin', 'held', 'tour', 'coast', 'whoev', 'fb', 'charact', 'limit', 'res', 'appear', 'pop', 'coupon', 'ridic', 'cheap', 'airf', 'heathrow', 'unhappy', 'complaint', 'ref', 'aw', 'priv', 'jet', 'fund', 'yep', 'mat', 'lou', 'difficult', 'prep', 'stressful', 'seek', 'confid', 'wor', 'californ', 'conf', 'commun', 'fiant', 'to', 'top', 'unitedairlin', 'kudo', 'ontim', 'quot', 'rememb', 'heat', 'extrem', 'captain', 'efficy', 'hent', 'cloth', 'cury', 'washington', 'leg', 'chicago', 'loung', 'ow', 'okay', 'prop', 'transfer', 'dead', 'onto', 'forgot', 'atrocy', 'imposs', 'esp', 'lhr', 'doubt', 'vac', 'nop', 'sleep', 'ass', 'ruin', 'compens', 'origin', 'he', 'defin', 'valid', 'inbound', 'del', 'delivery', 'host', 'lbs', 'writ', 'machin', 'blam', 'prevy', 'feedback', 'tir', 'clt', 'ide', 'neveragain', 'within', 'cancun', 'eq', 'deep', 'fig', 'pack', 'pax', 'hou', 'pos', 'wak', 'nobody', 'flyoh', 'door', 'premy', 'annoy', 'phoenix', 'bullshit', 'stell', 'encount', 'rip', 'front', 'pocket', 'absurd', 'fact', 'walk', 'publ', 'nah', 'split', 'wks', 'bwi', 'appropry', 'review', 'bs', 'unprofess', 'overbook', 'un', 'corp', 'jp', 'courtesy', 'tag', 'cert', 'appl', 'bunch', 'adopt', 'outlet', 'incompet', 'exact', 'carousel', 'monit', 'spar', 'unless', 'disast', 'period', 'fal', 'apart', 'fleet', 'notcool', 'maj', 'impact', 'refuel', 'spent', 'hundr', 'rect', 'situ', 'clu', 'lit', 'dia', 'remind', 'dev', 'insid', 'assum', 'ter', 'wher', 'effort', 'mass', 'confus', 'softw', 'airpl', 'howev', 'display', 'clear', 'discuss', 'shot', 'pac', 'dat', 'gen', 'unnecess', 'decid', 'kp', 'kit', 'aa', 'ens', 'lie', 'flat', 'stl', 'catch', 'kar', 'chick', 'feat', 'fair', 'den', 'reinst', 'laugh', 'photo', 'thes', 'damn', 'canad', 'yvr', 'divert', 'msy', 'mal', 'pic', 'wout', 'yel', 'tho', 'frm', 'reflight', 'gross', 'exampl', 'otherw', 'stood', 'inadequ', 'unfriendlysky', 'seen', 'about', 'singl', 'boyfriend', 'wallet', 'stol', 'til', 'cs', 'repair', 'tuesday', 'fit', 'abt', 'deny', 'prov', 'etc', 'argu', 'sel', 'cuz', 'hubby', 'pow', 'id', 'rev', 'rar', 'poorcustomerserv', 'an', 'multipl', 'angry', 'consist', 'commit', 'merg', 'glitch', 'maint', 'unfriend', 'level', 'lufthans', 'il', 'sick', 'replac', 'typ', 'jh', 'prompt', 'simply', 'twic', 'choos', 'poorserv', 'asp', 'doe', 'certain', 'recov', 'florid', 'allow', 'overweight', 'wom', 'mis', 'block', 'dming', 'artic', 'redeem', 'cc', 'ton', 'gain', 'whos', 'cleveland', 'sunday', 'blog', 'assign', 'sens', 'strand', 'engl', 'hassl', 'ac', 'badserv', 'whatev', 'screw', 'london', 'spee', 'cowork', 'hel', 'flightst', 'rdu', 'shop', 'onboard', 'pts', 'screwed', 'mex', 'ten', 'usairway', 'usairwaysfail', 'pract', 'yys', 'outsourc', 'hm', 'collect', 'suggest', 'bridg', 'freez', 'foot', 'piss', 'engin', 'her', 'releas', 'depl', 'extend', 'advert', 'aircanad', 'lesson', 'pray', 'chair', 'up', 'meal', 'understaff', 'costum', 'has', 'beer', 'understood', 'crazy', 'ha', 'rob', 'ty', 'fa', 'worthless', 'shut', 'pol', 'msg', 'cle', 'wet', 'piec', 'mci', 'airway', 'seg', 'ther', 'acct', 'et', 'mor', 'nit', 'cun', 'worstcustomerserv', 'rerout', 'garb', 'cry', 'reag', 'jetway', 'ber', 'frankfurt', 'fan', 'doubl', 'breakfast', 'irrit', 'cop', 'ual', 'hang', 'tamp', 'robot', 'visit', 'wear', 'grr', 'raleigh', 'rsw', 'lousy', 'fault', 'honeymoon', 'epicfail', 'cx', 'hil', 'ktn', 'beg', 'acknowledg', 'broth', 'hous', 'bdl', 'expl', 'facebook', 'bf', 'tue', 'buf', 'nashvil', 'downgrad', 'surpr', 'freak', 'inefficy', 'tiny', 'doz', 'csr', 'kiosk', 'paty', 'bus', 'disgrac', 'hit', 'forev', 'lazy', 'froz', 'truck', 'valu', 'reconsid', 'attitud', 'respect', 'disgust', 'worstairlineev', 'rol', 'wyou', 'park', 'desp', 'girlfriend', 'pretzel', 'fraud', 'crappy', 'felt', 'qual', 'span', 'retriev', 'exceiv', 'contract', 'pvd', 'upcom', 'cov', 'dumb', 'hurt', 'mem', 'disconnect', 'pr', 'rely', 'rel', 'org', 'bay', 'import', 'me', 'describ', 'per', 'tail', 'din', 'acc', 'honest', 'capt', 'cab', 'pit', 'idea', 'bum', 'cont', 'discov', 'bhm', 'god', 'educ', 'wal', 'volunt', 'philippin', 'drunk', 'aisl', 'soc', 'planet', 'shuttl', 'concours', 'known', 'trap', 'sight', 'num', 'slept', 'runway', 'fals', 'idiot', 'everytim', 'pres', 'faa', 'suit', 'elit', 'ont', 'star', 'sist', 'liv', 'push', 'fiv', 'sometim', 'sep', 'oft', 'bathroom', 'unitedsuck', 'toddl', 'toilet', 'pend', 'out', 'chi', 'lied', 'proof', 'autom', 'cat', 'sky', 'rub', 'hist', 'memph', 'discount', 'meant', 'passport', 'tick', 'rapid', 'approach', 'uh', 'appal', 'journey', 'spel', 'cit', 'perhap', 'ahold', 'delet', 'cvg', 'skil', 'depend', 'belong', 'juan', 'personnel', 'particul', 'fam', 'pricey', 'unitedfail', 'inexcus', 'immedy', 'weight', 'arrang', 'condit', 'guar', 'albany', 'peanut', 'clar', 'be', 'with', 'wed', 'convers', 'ramp', 'hello', 'dang', 'detroit', 'bush', 'nt', 'nj', 'alright', 'espec', 'shitty', 'tremend', 'amount', 'unbeliev', 'abysm', 'mark', 'childr', 'roundtrip', 'loyal', 'perk', 'download', 'hnl', 'cxl', 'progress', 'ff', 'callback', 'moth', 'nat', 'wat', 'legroom', 'young', 'chos', 'tmrw', 'weird', 'dec', 'pound', 'fir', 'pain', 'cnn', 'approv', 'ship', 'flts', 'simil', 'inch', 'sou', 'six', 'directtv', 'traff', 'unlik', 'congrat', 'airb', 'shout', 'somewh', 'cap', 'disregard', 'dragon', 'pen', 'backup', 'remain', 'jax', 'bna', 'exit', 'wheelchair', 'plenty', 'yay', 'fra', 'die', 'plast', 'stock', 'roc', 'orl', 'map', 'insult', 'sal', 'nor', 'tkt', 'smil', 'interview', 'biggest', 'ripoff', 'although', 'nothappy', 'ba', 'slc', 'overal', 'exped', 'docu', 'techn', 'horrend', 'proc', 'party', 'cel', 'teach', 'tpa', 'msp', 'forg', 'char', 'avy', 'own', 'cup', 'columb', 'his', 'sigh', 'somebody', 'som', 'john', 'ver', 'fury', 'bankrupt', 'golf', 'cart', 'ins', 'remot', 'volum', 'fold', 'tight', 'east', 'embarrass', 'warn', 'wednesday', 'combin', 'snack', 'belt', 'transport', 'jun', 'lying', 'lav', 'funct', 'warm', 'thousand', 'pbi', 'fath', 'lifetim', 'misplac', 'laguard', 'siz', 'hah', 'wth', 'hungry', 'xday', 'firstclass', 'fantast', 'sw', 'exchang', 'gg', 'dim', 'dial', 'tablet', 'dying', 'yup', 'court', 'van', 'alert', 'dest', 'straight', 'annivers', 'expedit', 'nc', 'buffalo', 'estim', 'join', 'gas', 'hid', 'mag', 'nasty', 'admir', 'heavy', 'incom', 'stick', 'survey', 'puerto', 'rico', 'alot', 'pet', 'west', 'admit', 'boss', 'incorrect', 'wheth', 'wrot', 'custserv', 'term', 'camer', 'pittsburgh', 'jt', 'fresh', 'ric', 'reward', 'august', 'headach', 'conflict', 'fort', 'profess', 'invit', 'flytp', 'protect', 'neith', 'scal', 'blah', 'en', 'hartford', 'mke', 'bon', 'od', 'stor', 'omah', 'init', 'circ', 'ft', 'lauderd', 'lmao', 'precy', 'fortun', 'heart', 'fed', 'icy', 'street', 'nex', 'indee', 'asham', 'xx', 'speedy', 'thos', 'success', 'hub', 'disorg', 'react', 'port', 'phx', 'jacksonvil', 'drov', 'de', 'birmingham', 'brut', 'midway', 'swa', 'vil', 'rr', 'spiritairlin', 'southwestairlin', 'phlairport', 'charleston', 'throughout', 'gear', 'mdw', 'fel', 'destinationdragon', 'imaginedragon', 'voic', 'unrely', 'test', 'bae', 'contest', 'spirit', 'scaveng', 'hunt', 'injury', 'terry', 'est', 'antonio', 'noon', 'aug', 'oakland', 'bostonlog', 'enrout', 'rethink', 'stroller', 'md', 'tx', 'telephon', 'ring', 'band', 'col', 'compass', 'loss', 'sunny', 'spring', 'harb', 'battery', 'baltim', 'usair', 'indy', 'cmon', 'el', 'loos', 'heck', 'colleagu', 'resch', 'pur', 'blu', 'fortunemagazin', 'kel', 'stupid', 'sum', 'cash', 'crowd', 'velourl', 'triflight', 'ste', 'selfy', 'payp', 'nearby', 'aww', 'colleg', 'laur', 'phys', 'savannah', 'anticip', 'love_dragonss', 'chao', 'unload', 'evalu', 'disney', 'dealt', 'involv', 'regul', 'chart', 'sju', 'republ', 'fleek', 'jb', 'trueblu', 'beach', 'flyf', 'njb', 'jblu', 'wsj', 'cub', 'appeas', 'waterbury', 'flyingitforward', 'mint', 'nantucket', 'glass', 'mosa', 'goodwil', 'dissatisfy', 'endless', 'hpn', 'sex', 'sxm', 'journ', 'asleep', 'hait', 'bluem', 'digit', 'crewmemb', 'livery', 'bottl', 'shoutout', 'dividend', 'chairm', 'ut', 'exec', 'ctl', 'aadv', 'cot', 'onhold', 'key', 'usairwayssuck', 'dfwairport', 'filmcrew', 'cowboycerron'])\n"
     ]
    }
   ],
   "source": [
    "print(stems_vectorizer.vocabulary_.keys())"
   ]
  },
  {
   "cell_type": "code",
   "execution_count": 50,
   "metadata": {},
   "outputs": [],
   "source": [
    "# Lemmas Data Text\n",
    "lemmas_vectorizer = TfidfVectorizer(max_features=max_features_test)\n",
    "lemmas_data_features_tfid = lemmas_vectorizer.fit_transform(data['text_lemmas'])\n",
    "\n",
    "lemmas_data_features_tfid = lemmas_data_features_tfid.toarray()"
   ]
  },
  {
   "cell_type": "code",
   "execution_count": 51,
   "metadata": {},
   "outputs": [
    {
     "data": {
      "text/plain": [
       "(14604, 2000)"
      ]
     },
     "execution_count": 51,
     "metadata": {},
     "output_type": "execute_result"
    }
   ],
   "source": [
    "lemmas_data_features_tfid.shape"
   ]
  },
  {
   "cell_type": "code",
   "execution_count": 52,
   "metadata": {},
   "outputs": [
    {
     "name": "stdout",
     "output_type": "stream",
     "text": [
      "dict_keys(['virginamerica', 'what', 'say', 'plus', 'add', 'experience', 'today', 'must', 'mean', 'need', 'take', 'another', 'trip', 'really', 'entertainment', 'face', 'little', 'big', 'bad', 'thing', 'seriously', 'would', 'pay', 'flight', 'seat', 'play', 'fly', 'va', 'yes', 'nearly', 'every', 'time', 'vx', 'go', 'away', 'miss', 'opportunity', 'without', 'hat', 'https', 'well', 'now', 'do', 'amaze', 'arrive', 'hour', 'early', 'good', 'know', 'suicide', 'second', 'lead', 'death', 'among', 'teens', 'pretty', 'much', 'better', 'this', 'great', 'deal', 'already', 'think', 'nd', 'australia', 'even', 'st', 'yet', 'fabulous', 'sky', 'stress', 'travel', 'http', 'thank', 'schedule', 'still', 'mia', 'so', 'excite', 'first', 'cross', 'country', 'lax', 'mco', 'hear', 'nothing', 'things', 'virgin', 'america', 'nyc', 'sfo', 'last', 'week', 'could', 'fully', 'sit', 'due', 'two', 'large', 'either', 'side', 'help', 'awesome', 'please', 'want', 'fare', 'may', 'three', 'carriers', 'available', 'select', 'love', 'you', 'feel', 'brand', 'make', 'bos', 'las', 'non', 'stop', 'anytime', 'soon', 'guy', 'mess', 'reserve', 'friends', 'give', 'free', 'internet', 'status', 'match', 'program', 'apply', 'weeks', 'call', 'email', 'response', 'happen', 'ur', 'food', 'options', 'at', 'least', 'site', 'able', 'eat', 'anything', 'next', 'hrs', 'fail', 'worry', 'together', 'get', 'cold', 'air', 'ewr', 'middle', 'red', 'eye', 'hi', 'cool', 'birthday', 'elevate', 'enter', 'name', 'book', 'problems', 'be', 'hours', 'club', 'post', 'online', 'current', 'leave', 'expensive', 'iad', 'no', 'one', 'answer', 'number', 'await', 'return', 'phone', 'prefer', 'use', 'option', 'news', 'start', 'hawaii', 'end', 'year', 'via', 'nice', 'rt', 'takeoff', 'way', 'best', 'ever', 'airline', 'around', 'hand', 'your', 'chat', 'support', 'work', 'view', 'sign', 'beyond', 'hey', 'flyer', 'but', 'hard', 'account', 'plz', 'win', 'upgrade', 'sea', 'unused', 'ticket', 'move', 'new', 'city', 'how', 'expire', 'dallas', 'seattle', 'feb', 'reason', 'rock', 'dream', 'wow', 'blow', 'mind', 'ladygaga', 'carrieunderwood', 'after', 'night', 'oscars', 'agree', 'all', 'entertain', 'suppose', 'minutes', 'ago', 'website', 'show', 'on', 'in', 'though', 'impressive', 'wish', 'atlanta', 'will', 'la', 'february', 'th', 'lga', 'dal', 'try', 'since', 'page', 'never', 'load', 'thx', 'lady', 'she', 'market', 'song', 'let', 'us', 'sorry', 'beat', 'dca', 'pm', 'check', 'someone', 'hold', 'earlier', 'tonight', 'congrats', 'award', 'everything', 'fine', 'lose', 'bag', 'change', 'reservation', 'have', 'credit', 'card', 'waive', 'fee', 'or', 'customer', 'service', 'team', 'track', 'baggage', 'step', 'game', 'dirty', 'table', 'floor', 'ride', 'plane', 'crew', 'airlines', 'like', 'morning', 'any', 'correct', 'bill', 'watch', 'student', 'film', 'feet', 'different', 'media', 'anyway', 'speak', 'human', 'possible', 'biz', 'traveler', 'southwestair', 'jetblue', 'member', 'inflight', 'interest', 'whenever', 'delay', 'late', 'cancel', 'four', 'plan', 'disappoint', 'share', 'business', 'meet', 'trouble', 'wife', 'bring', 'code', 'bet', 'life', 'can', 'home', 'why', 'when', 'back', 'yeah', 'point', 'recent', 'tv', 'video', 'just', 'flightled', 'jfk', 'saturday', 'land', 'friendly', 'redirect', 'btw', 'mobile', 'scan', 'passengers', 'tell', 'remove', 'class', 'bin', 'uncomfortable', 'find', 'anyone', 'useless', 'sf', 'thursday', 'music', 'direct', 'fll', 'layover', 'vegas', 'fuel', 'buy', 'people', 'exp', 'customerservice', 'line', 'hang', 'sarcasm', 'plain', 'text', 'info', 'weather', 'look', 'oneway', 'lot', 'cities', 'come', 'phl', 'we', 'horrible', 'concern', 'tech', 'helpful', 'comfortable', 'rep', 'kick', 'beautiful', 'design', 'right', 'bc', 'secure', 'run', 'gate', 'wait', 'keep', 'and', 'totally', 'folks', 'problem', 'min', 'connect', 'seem', 'long', 'outstanding', 'san', 'francisco', 'absolute', 'provide', 'complimentary', 'completely', 'month', 'nonstop', 'depart', 'customers', 'process', 'link', 'tsa', 'precheck', 'terrible', 'hotel', 'cabo', 'assistance', 'yesterday', 'shame', 'register', 'dog', 'dull', 'the', 'queue', 'longer', 'pls', 'advise', 'drop', 'always', 'create', 'frustrate', 'extra', 'buck', 'luggage', 'might', 'afford', 'hire', 'lame', 'world', 'flt', 'sooner', 'midnight', 'monday', 'that', 'imagine', 'web', 'indicate', 'staff', 'super', 'premium', 'across', 'offer', 'sad', 'question', 'infant', 'welcome', 'dc', 'refresh', 'understand', 'dm', 'damage', 'policy', 'special', 'alone', 'kid', 'priority', 'board', 'purchase', 'happy', 'field', 'definitely', 'dfw', 'friday', 'error', 'contact', 'minute', 'reschedule', 'button', 'ring', 'fix', 'tomorrow', 'unacceptable', 'stick', 'pair', 'include', 'wine', 'only', 'white', 'agent', 'silver', 'close', 'assist', 'austin', 'route', 'normal', 'receive', 'reply', 'central', 'smh', 'logan', 'airport', 'checkin', 'desk', 'open', 'jump', 'daily', 'begin', 'april', 'fuck', 'unite', 'fl', 'follow', 'many', 'apologies', 'worse', 'respond', 'spend', 'money', 'strand', 'who', 'reimburse', 'sjc', 'choice', 'southwest', 'days', 'confirmation', 'claim', 'notification', 'rebook', 'gold', 'if', 'cmh', 'throw', 'worst', 'stuff', 'wrong', 'issue', 'item', 'head', 'americanairlines', 'suck', 'same', 'because', 'flightlation', 'notice', 'ps', 'drive', 'mon', 'boston', 'stink', 'expect', 'dance', 'high', 'school', 'quick', 'apparently', 'faster', 'send', 'picture', 'texas', 'ny', 'pilot', 'job', 'snow', 'york', 'area', 'afternoon', 'row', 'mention', 'mechanical', 'handle', 'drink', 'twitter', 'kill', 'charge', 'refuse', 'refund', 'access', 'iphone', 'ipad', 'passbook', 'click', 'break', 'forward', 'cost', 'ugh', 'along', 'put', 'pdx', 'bug', 'report', 'center', 'bite', 'attendant', 'reset', 'password', 'base', 'very', 'something', 'departure', 'palm', 'spring', 'ca', 'sound', 'fun', 'update', 'count', 'somehow', 'continue', 'sort', 'sweet', 'ice', 'coffee', 'passenger', 'trust', 'file', 'destination', 'wheel', 'easy', 'itinerary', 'see', 'inspire', 'become', 'event', 'march', 'abq', 'entire', 'improve', 'request', 'window', 'confirm', 'not', 'treat', 'grand', 'wtf', 'purpose', 'frequent', 'flier', 'inconvenience', 'full', 'place', 'result', 'usa', 'pillow', 'instead', 'race', 'advantage', 'fight', 'salt', 'cabin', 'behind', 'fav', 'hot', 'paris', 'surgery', 'suitcase', 'errors', 'past', 'ah', 'order', 'virginatlantic', 'atlantic', 'benefit', 'husband', 'screen', 'light', 'barely', 'turbulence', 'profit', 'funny', 'story', 'forecast', 'nytimes', 'position', 'wonder', 'despite', 'revenue', 'positive', 'increase', 'wind', 'degrees', 'safety', 'day', 'rout', 'newark', 'hope', 'probably', 'save', 'standby', 'they', 'absolutely', 'ready', 'manage', 'treatment', 'old', 'battle', 'other', 'less', 'half', 'price', 'round', 'dtw', 'sell', 'promo', 'paperwork', 'promise', 'resolution', 'care', 'lovely', 'mileage', 'challenge', 'several', 'ball', 'flightly', 'americanair', 'glad', 'years', 'earn', 'couple', 'message', 'avail', 'cheer', 'smooth', 'easily', 'hop', 'force', 'small', 'carry', 'empty', 'space', 'slow', 'representative', 'solution', 'loyal', 'rd', 'partner', 'visa', 'payment', 'method', 'rat', 'recommend', 'aus', 'turn', 'course', 'family', 'ok', 'receipt', 'badge', 'ones', 'currently', 'pick', 'tweet', 'should', 'rental', 'car', 'cust', 'lap', 'child', 'of', 'celebrate', 'chance', 'gift', 'bank', 'joke', 'also', 'for', 'grandma', 'bday', 'greet', 'stewardess', 'eastern', 'tix', 'yr', 'moment', 'submit', 'fat', 'it', 'ceo', 'low', 'model', 'brilliant', 'omg', 'pull', 'computer', 'incident', 'laptop', 'guess', 'announce', 'dollar', 'deserve', 'fyi', 'address', 'exist', 'towards', 'svc', 'app', 'favorite', 'crap', 'channel', 'uk', 'set', 'mexico', 'waste', 'paper', 'system', 'accept', 'likely', 'tea', 'black', 'destinations', 'spread', 'learn', 'incredible', 'philadelphia', 'houston', 'finally', 'avgeek', 'forget', 'kind', 'jack', 'future', 'poor', 'malfunction', 'diego', 'thankyou', 'excellent', 'portland', 'additional', 'items', 'carryon', 'group', 'room', 'nightmare', 'sure', 'shit', 'bump', 'rough', 'luckily', 'my', 'perfect', 'sun', 'stay', 'raise', 'man', 'wifi', 'ios', 'saw', 'dad', 'part', 'whole', 'short', 'europe', 'abc', 'overhead', 'person', 'ask', 'luck', 'dear', 'accommodate', 'commercial', 'lol', 'others', 'actual', 'serv', 'as', 'travelers', 'affect', 'storm', 'shock', 'complete', 'toward', 'advance', 'prior', 'pa', 'cut', 'philly', 'main', 'penalty', 'industry', 'months', 'reps', 'regard', 'movie', 'actually', 'mr', 'word', 'resolve', 'lack', 'deice', 'fill', 'common', 'express', 'connections', 'international', 'yous', 'then', 'orlando', 'mins', 'tough', 'wo', 'serious', 'hook', 'alternate', 'prevent', 'domestic', 'oh', 'auto', 'economy', 'transfer', 'security', 'shoe', 'david', 'case', 'cousin', 'wonderful', 'voucher', 'january', 'mail', 'company', 'maybe', 'timely', 'manner', 'pass', 'son', 'ya', 'miami', 'jan', 'total', 'explain', 'talk', 'almost', 'ppl', 'int', 'daughter', 'flightr', 'anymore', 'platinum', 'mechanics', 'badcustomerservice', 'agents', 'rude', 'thankfully', 'overnight', 'clients', 'hr', 'iah', 'accord', 'dmed', 'detail', 'charlotte', 'existent', 'ignore', 'touch', 'form', 'vouchers', 'inconvenient', 'anywhere', 'upon', 'grind', 'else', 'appreciate', 'tarmac', 'ua', 'outside', 'truly', 'third', 'search', 'rule', 'enough', 'denver', 'train', 'too', 'mistake', 'ord', 'avoid', 'supervisor', 'gf', 'announcement', 'pre', 'require', 'thru', 'dept', 'okc', 'connection', 'upset', 'employees', 'medical', 'equipment', 'thnx', 'our', 'intl', 'military', 'mom', 'emergency', 'miles', 'from', 'mileageplus', 'over', 'complain', 'american', 'coach', 'bird', 'ahead', 'control', 'rather', 'sincerely', 'delta', 'attendants', 'unhelpful', 'bother', 'attempt', 'believe', 'disappear', 'stand', 'record', 'nut', 'read', 'everyone', 'outbound', 'switch', 'aircraft', 'crash', 'again', 'winter', 'coat', 'reach', 'honor', 'elsewhere', 'quite', 'pathetic', 'unavailable', 'ways', 'minor', 'baby', 'mine', 'huh', 'by', 'simple', 'apology', 'repeat', 'finger', 'enjoy', 'incredibly', 'zone', 'zero', 'excuse', 'cause', 'members', 'october', 'december', 'sna', 'weekend', 'vs', 'flightd', 'ski', 'coast', 'whoever', 'listen', 'fb', 'character', 'limit', 'appear', 'coupon', 'cheaper', 'airfare', 'heathrow', 'unhappy', 'complaint', 'awful', 'private', 'jet', 'fund', 'yep', 'matter', 'atl', 'ground', 'louis', 'difficult', 'prepare', 'stressful', 'seek', 'client', 'worth', 'california', 'airports', 'conf', 'communication', 'far', 'note', 'to', 'top', 'unitedairlines', 'kudos', 'flightling', 'usually', 'ontime', 'advisory', 'quote', 'remember', 'heat', 'extremely', 'captain', 'real', 'hence', 'clothe', 'curious', 'washington', 'leg', 'chicago', 'lounge', 'owe', 'okay', 'properly', 'dead', 'onto', 'atrocious', 'impossible', 'terminal', 'lhr', 'arrival', 'information', 'doubt', 'vacation', 'responsibility', 'compliment', 'nope', 'sleep', 'assure', 'ruin', 'compensation', 'original', 'he', 'define', 'valid', 'inbound', 'deliver', 'delivery', 'hotels', 'hostage', 'lbs', 'write', 'machine', 'employee', 'blame', 'previous', 'local', 'tel', 'most', 'feedback', 'tire', 'action', 'solve', 'comment', 'clt', 'idea', 'neveragain', 'within', 'cancun', 'deep', 'figure', 'pack', 'screw', 'pax', 'wake', 'counter', 'nobody', 'unfortunately', 'doors', 'premier', 'annoy', 'yea', 'phoenix', 'bullshit', 'rip', 'front', 'pocket', 'absurd', 'fact', 'walk', 'nah', 'split', 'bwi', 'review', 'bs', 'yo', 'highly', 'unprofessional', 'consider', 'unable', 'jp', 'flightations', 'courtesy', 'diff', 'tag', 'certificate', 'bar', 'disappointment', 'apple', 'bunch', 'impress', 'outlets', 'incompetence', 'finish', 'exact', 'ridiculous', 'carousel', 'monitor', 'easier', 'unless', 'disaster', 'period', 'reimbursement', 'fall', 'apart', 'fleet', 'serve', 'notcool', 'balance', 'major', 'impact', 'refuel', 'hundreds', 'rectify', 'situation', 'computers', 'clue', 'literally', 'list', 'dia', 'reminder', 'device', 'inside', 'assume', 'where', 'final', 'confusion', 'failure', 'airplane', 'however', 'display', 'clear', 'reference', 'discuss', 'shoot', 'date', 'spot', 'generic', 'unnecessary', 'kp', 'aa', 'ensure', 'lie', 'stl', 'membership', 'catch', 'karen', 'chicken', 'fair', 'den', 'ohare', 'reservations', 'reinstate', 'office', 'laugh', 'photo', 'these', 'damn', 'canada', 'yvr', 'divert', 'msy', 'male', 'threaten', 'canadian', 'pic', 'wout', 'yell', 'tho', 'frm', 'reflight', 'gross', 'statement', 'directly', 'example', 'otherwise', 'proper', 'quickly', 'unfriendlyskies', 'about', 'single', 'location', 'girl', 'boyfriend', 'notifications', 'wallet', 'steal', 'til', 'cs', 'repair', 'tuesday', 'responses', 'overbooked', 'fit', 'incur', 'abt', 'deny', 'prove', 'exactly', 'yrs', 'etc', 'cuz', 'power', 'id', 'an', 'forth', 'multiple', 'correctly', 'management', 'angry', 'consistent', 'merger', 'flyers', 'state', 'maintenance', 'unfriendly', 'personal', 'level', 'lufthansa', 'ill', 'sick', 'replacement', 'jh', 'prompt', 'simply', 'friend', 'twice', 'frustration', 'effort', 'choose', 'difference', 'age', 'poorservice', 'general', 'attention', 'aspen', 'certainly', 'florida', 'legs', 'allow', 'woman', 'miserable', 'block', 'dming', 'public', 'mile', 'article', 'redeem', 'cc', 'ton', 'gain', 'rebooked', 'whose', 'cleveland', 'sunday', 'blog', 'basically', 'assign', 'sense', 'english', 'hassle', 'terribly', 'hate', 'huge', 'accommodations', 'originally', 'ac', 'badservice', 'whatever', 'london', 'hopefully', 'complaints', 'speed', 'hell', 'flightst', 'rdu', 'shop', 'onboard', 'reasonable', 'pts', 'compare', 'usairways', 'usairwaysfail', 'occur', 'consistently', 'outsource', 'hm', 'suggest', 'manager', 'workers', 'bridge', 'freeze', 'dollars', 'door', 'global', 'flightation', 'yyz', 'piss', 'engine', 'confuse', 'her', 'release', 'deplane', 'extend', 'advertise', 'aircanada', 'lesson', 'shameful', 'pray', 'chair', 'up', 'meals', 'unreal', 'costumer', 'crazy', 'ha', 'ty', 'fa', 'shut', 'suggestion', 'police', 'msg', 'clean', 'wet', 'print', 'piece', 'mci', 'airways', 'segment', 'there', 'transaction', 'acct', 'policies', 'eta', 'more', 'cun', 'worstcustomerservice', 'rerouted', 'garbage', 'cry', 'epic', 'reagan', 'jetway', 'operate', 'replace', 'till', 'frankfurt', 'fan', 'double', 'breakfast', 'irritate', 'copy', 'ual', 'tampa', 'visit', 'wear', 'raleigh', 'poorly', 'rsw', 'lousy', 'fault', 'honeymoon', 'certain', 'epicfail', 'cx', 'aware', 'hilarious', 'ktn', 'officially', 'pleasant', 'brother', 'house', 'bdl', 'facebook', 'bf', 'tues', 'buf', 'nashville', 'downgrade', 'surprise', 'freak', 'tiny', 'csr', 'patience', 'bus', 'prob', 'compensate', 'hit', 'forever', 'lazy', 'metal', 'truck', 'value', 'fast', 'reconsider', 'attitude', 'respect', 'disgust', 'worstairlineever', 'wyou', 'park', 'desperately', 'girlfriend', 'lower', 'crappy', 'higher', 'felt', 'quality', 'mech', 'retrieve', 'contract', 'pvd', 'upcoming', 'cover', 'dumb', 'hurt', 'taxi', 'locate', 'disconnect', 'pr', 'none', 'act', 'bay', 'important', 'me', 'flightlations', 'per', 'dinner', 'honest', 'except', 'capt', 'explanation', 'availability', 'cab', 'pit', 'cheap', 'incompetent', 'bummer', 'realize', 'content', 'discover', 'god', 'wall', 'volunteer', 'log', 'strike', 'social', 'comp', 'possibly', 'planet', 'practice', 'shuttle', 'honestly', 'trap', 'sight', 'official', 'handlers', 'runway', 'false', 'holders', 'idiots', 'everytime', 'daughters', 'present', 'obviously', 'faa', 'near', 'suit', 'elite', 'once', 'staralliance', 'true', 'live', 'exceptional', 'push', 'five', 'ass', 'sometime', 'separate', 'often', 'bathroom', 'unitedsucks', 'pending', 'chi', 'safe', 'automatically', 'cater', 'cle', 'busy', 'rent', 'reroute', 'conference', 'memphis', 'off', 'notify', 'discount', 'attend', 'funeral', 'safely', 'passport', 'tick', 'approach', 'communicate', 'appal', 'perhaps', 'ahold', 'delete', 'departures', 'cvg', 'belong', 'star', 'alliance', 'standard', 'juan', 'personnel', 'fam', 'unitedfail', 'inexcusable', 'million', 'weight', 'out', 'arrange', 'announcements', 'condition', 'immediately', 'guarantee', 'acceptable', 'peanuts', 'with', 'wed', 'ramp', 'hello', 'relations', 'humans', 'sister', 'bush', 'nj', 'alright', 'especially', 'shitty', 'amount', 'decide', 'mark', 'families', 'children', 'roundtrip', 'loyalty', 'perk', 'download', 'cxl', 'progress', 'badly', 'ff', 'callback', 'corporate', 'sadly', 'mother', 'water', 'legroom', 'rest', 'young', 'tmrw', 'weird', 'stream', 'rate', 'decent', 'merge', 'pound', 'fire', 'eventually', 'cnn', 'approve', 'ship', 'flts', 'beer', 'inch', 'south', 'degree', 'six', 'advice', 'traffic', 'airbus', 'remind', 'shout', 'assignment', 'carrier', 'disregard', 'operations', 'dragon', 'pen', 'remain', 'jax', 'bna', 'exit', 'plenty', 'yay', 'die', 'plastic', 'meal', 'roc', 'useful', 'map', 'insult', 'tkt', 'smile', 'ind', 'roads', 'interview', 'biggest', 'decision', 'unbelievable', 'although', 'nothappy', 'ba', 'slc', 'argue', 'history', 'overall', 'relate', 'recently', 'expedia', 'document', 'technical', 'fliers', 'horrendous', 'disgrace', 'procedure', 'party', 'cell', 'thoughts', 'teach', 'tpa', 'msp', 'usual', 'aviation', 'cup', 'his', 'its', 'guitar', 'extension', 'sigh', 'somebody', 'rapid', 'some', 'john', 'wheelchair', 'clearly', 'furious', 'department', 'type', 'golf', 'cart', 'responsible', 'insane', 'volume', 'patient', 'painful', 'east', 'embarrass', 'warn', 'wednesday', 'res', 'snack', 'belt', 'automate', 'transport', 'mad', 'june', 'specific', 'winners', 'accurate', 'companion', 'pbi', 'father', 'lifetime', 'misplace', 'laguardia', 'size', 'suggestions', 'haha', 'wth', 'hungry', 'maint', 'firstclass', 'fantastic', 'sw', 'exchange', 'gg', 'cont', 'dial', 'tablet', 'yup', 'courteous', 'driver', 'alert', 'straight', 'anniversary', 'nc', 'buffalo', 'estimate', 'join', 'gas', 'hide', 'ripoff', 'nasty', 'heavy', 'systems', 'survey', 'puerto', 'rico', 'pet', 'west', 'admit', 'women', 'whether', 'parent', 'term', 'camera', 'pittsburgh', 'harder', 'van', 'toddler', 'jt', 'somewhere', 'letter', 'fresh', 'shortly', 'ric', 'reward', 'august', 'fort', 'flytpa', 'inform', 'apologize', 'neither', 'understandable', 'tear', 'mke', 'bonus', 'warm', 'package', 'initial', 'ft', 'lauderdale', 'icy', 'street', 'nexus', 'indeed', 'qualify', 'ashamed', 'technically', 'success', 'thankful', 'phx', 'de', 'birmingham', 'brutal', 'midway', 'swa', 'promotion', 'alist', 'rr', 'spiritairlines', 'data', 'southwestairlines', 'phlairport', 'charleston', 'throughout', 'heart', 'gear', 'mdw', 'destinationdragons', 'imaginedragons', 'voice', 'test', 'feature', 'contest', 'scavenger', 'hunt', 'est', 'noon', 'aug', 'columbus', 'oakland', 'stroller', 'md', 'tx', 'sale', 'telephone', 'band', 'compassion', 'lucky', 'loss', 'dragons', 'sunny', 'cali', 'professional', 'baltimore', 'usair', 'cmon', 'loose', 'nights', 'resched', 'blue', 'fortunemagazine', 'kelly', 'corporation', 'stupid', 'summer', 'cash', 'refer', 'velourlive', 'selfie', 'college', 'love_dragonss', 'lauren', 'chaos', 'unload', 'disney', 'involve', 'regular', 'fraud', 'national', 'sju', 'fleek', 'jb', 'trueblue', 'plat', 'beach', 'flyfi', 'transportation', 'njb', 'jblu', 'wsj', 'cuba', 'appease', 'waterbury', 'republican', 'flyingitforward', 'mint', 'nantucket', 'glass', 'mosaic', 'goodwill', 'dissatisfy', 'hpn', 'journal', 'asleep', 'bluemanity', 'admirals', 'livery', 'bottle', 'shoutout', 'dividend', 'chairman', 'agency', 'exec', 'ctl', 'aadvantage', 'key', 'usairwayssucks', 'locator', 'dfwairport', 'filmcrew', 'cowboycerrone'])\n"
     ]
    }
   ],
   "source": [
    "print(lemmas_vectorizer.vocabulary_.keys())"
   ]
  },
  {
   "cell_type": "markdown",
   "metadata": {},
   "source": [
    "## 5. Fit and evaluate the model using both types of vectorization. (6+6 Marks)\n",
    "\n",
    " * Fit the model using vectorized column\n",
    " * Evaluate the model using the confusion matrix"
   ]
  },
  {
   "cell_type": "code",
   "execution_count": 53,
   "metadata": {},
   "outputs": [],
   "source": [
    "## Function to create confusion matrix\n",
    "def make_confusion_matrix(model,y_actual,labels=[1, 0]):\n",
    "    '''\n",
    "    model : classifier to predict values of X\n",
    "    y_actual : ground truth  \n",
    "    \n",
    "    '''\n",
    "    y_predict = model.predict(X_test)\n",
    "    cm=metrics.confusion_matrix( y_actual, y_predict, labels=[-1, 0, 1])\n",
    "    df_cm = pd.DataFrame(cm, index = [i for i in [\"Actual - Negative\",\"Actual - Neutral\",\"Actual - Positive\"]],\n",
    "                  columns = [i for i in [\"Predicted - Negative\",\"Predicted - Neutral\",\"Predicted - Positive\"]])\n",
    "    group_counts = [\"{0:0.0f}\".format(value) for value in\n",
    "                cm.flatten()]\n",
    "    group_percentages = [\"{0:.2%}\".format(value) for value in\n",
    "                         cm.flatten()/np.sum(cm)]\n",
    "    labels = [f\"{v1}\\n{v2}\" for v1, v2 in\n",
    "              zip(group_counts,group_percentages)]\n",
    "    labels = np.asarray(labels).reshape(3,3)\n",
    "    plt.figure(figsize = (10,7))\n",
    "    sns.heatmap(df_cm, annot=labels,fmt='')\n",
    "    plt.ylabel('True label')\n",
    "    plt.xlabel('Predicted label')"
   ]
  },
  {
   "cell_type": "code",
   "execution_count": 54,
   "metadata": {},
   "outputs": [],
   "source": [
    "##  Function to calculate different metric scores of the model - Accuracy, Recall and Precision\n",
    "def get_metrics_score(model,flag=True):\n",
    "    '''\n",
    "    model : classifier to predict values of X\n",
    "\n",
    "    '''\n",
    "    # defining an empty list to store train and test results\n",
    "    score_list=[] \n",
    "    \n",
    "    #Predicting on train and tests\n",
    "    pred_train = model.predict(X_train)\n",
    "    pred_test = model.predict(X_test)\n",
    "    \n",
    "    #Accuracy of the model\n",
    "    train_acc = model.score(X_train,y_train)\n",
    "    test_acc = model.score(X_test,y_test)\n",
    "    \n",
    "    #Recall of the model\n",
    "    train_recall = metrics.recall_score(y_train,pred_train, average=None)\n",
    "    test_recall = metrics.recall_score(y_test,pred_test, average=None)\n",
    "    \n",
    "    #Precision of the model\n",
    "    train_precision = metrics.precision_score(y_train,pred_train, average=None)\n",
    "    test_precision = metrics.precision_score(y_test,pred_test, average=None)\n",
    "    \n",
    "    score_list.extend((train_acc,test_acc,train_recall,test_recall,train_precision,test_precision))\n",
    "        \n",
    "    # If the flag is set to True then only the following print statements will be dispayed. The default value is set to True.\n",
    "    if flag == True: \n",
    "        print(\"Accuracy on training set : \",model.score(X_train,y_train))\n",
    "        print(\"Accuracy on test set : \",model.score(X_test,y_test))\n",
    "        print(\"Recall on training set : \",metrics.recall_score(y_train,pred_train, average=None))\n",
    "        print(\"Recall on test set : \",metrics.recall_score(y_test,pred_test, average=None))\n",
    "        print(\"Precision on training set : \",metrics.precision_score(y_train,pred_train, average=None))\n",
    "        print(\"Precision on test set : \",metrics.precision_score(y_test,pred_test, average=None))\n",
    "    \n",
    "    return score_list # returning the list with train and test scores"
   ]
  },
  {
   "cell_type": "markdown",
   "metadata": {},
   "source": [
    "### Stems Text Data - Count Vectorization"
   ]
  },
  {
   "cell_type": "code",
   "execution_count": 55,
   "metadata": {},
   "outputs": [],
   "source": [
    "# Split data into training and testing set.\n",
    "X_train, X_test, y_train, y_test = train_test_split(stems_data_features_cv, labels, test_size=0.3, random_state=42,stratify=labels)"
   ]
  },
  {
   "cell_type": "code",
   "execution_count": 56,
   "metadata": {},
   "outputs": [
    {
     "name": "stdout",
     "output_type": "stream",
     "text": [
      "RandomForestClassifier(n_estimators=10, n_jobs=4)\n",
      "0.7058335911788698\n"
     ]
    }
   ],
   "source": [
    "forest = RandomForestClassifier(n_estimators=10, n_jobs=4)\n",
    "\n",
    "forest = forest.fit(X_train, y_train)\n",
    "\n",
    "print(forest)\n",
    "\n",
    "print(np.mean(cross_val_score(forest, stems_data_features_cv, labels, cv=10)))"
   ]
  },
  {
   "cell_type": "code",
   "execution_count": 57,
   "metadata": {},
   "outputs": [],
   "source": [
    "result =  forest.predict(X_test)                  #saving the prediction on test data as a result"
   ]
  },
  {
   "cell_type": "code",
   "execution_count": 58,
   "metadata": {},
   "outputs": [
    {
     "name": "stdout",
     "output_type": "stream",
     "text": [
      "Accuracy on training set :  0.981706124046175\n",
      "Accuracy on test set :  0.7366499315381104\n",
      "Recall on training set :  [0.99578849 0.94960703 0.9690534 ]\n",
      "Recall on test set :  [0.87154294 0.47737069 0.55240793]\n",
      "Precision on training set :  [0.98366718 0.97716461 0.9797546 ]\n",
      "Precision on test set :  [0.79568106 0.55513784 0.67944251]\n"
     ]
    }
   ],
   "source": [
    "#Using above defined function to get accuracy, recall and precision on train and test set\n",
    "rf_estimator_score=get_metrics_score(forest)"
   ]
  },
  {
   "cell_type": "code",
   "execution_count": 59,
   "metadata": {},
   "outputs": [
    {
     "data": {
      "image/png": "[encoded data removed]",
      "text/plain": [
       "<Figure size 720x504 with 2 Axes>"
      ]
     },
     "metadata": {
      "needs_background": "light"
     },
     "output_type": "display_data"
    }
   ],
   "source": [
    "make_confusion_matrix(forest,y_test)"
   ]
  },
  {
   "cell_type": "markdown",
   "metadata": {},
   "source": [
    "### Stems Text Data - TFID Vectorization"
   ]
  },
  {
   "cell_type": "code",
   "execution_count": 60,
   "metadata": {},
   "outputs": [],
   "source": [
    "# Split data into training and testing set.\n",
    "X_train, X_test, y_train, y_test = train_test_split(stems_data_features_tfid, labels, test_size=0.3, random_state=42,stratify=labels)"
   ]
  },
  {
   "cell_type": "code",
   "execution_count": 61,
   "metadata": {},
   "outputs": [
    {
     "name": "stdout",
     "output_type": "stream",
     "text": [
      "RandomForestClassifier(n_estimators=10, n_jobs=4)\n",
      "0.705490140924306\n"
     ]
    }
   ],
   "source": [
    "forest = RandomForestClassifier(n_estimators=10, n_jobs=4)\n",
    "\n",
    "forest = forest.fit(X_train, y_train)\n",
    "\n",
    "print(forest)\n",
    "\n",
    "print(np.mean(cross_val_score(forest, stems_data_features_tfid, labels, cv=10)))"
   ]
  },
  {
   "cell_type": "code",
   "execution_count": 62,
   "metadata": {},
   "outputs": [],
   "source": [
    "result =  forest.predict(X_test)                  #saving the prediction on test data as a result"
   ]
  },
  {
   "cell_type": "code",
   "execution_count": 63,
   "metadata": {},
   "outputs": [
    {
     "name": "stdout",
     "output_type": "stream",
     "text": [
      "Accuracy on training set :  0.9743690080219135\n",
      "Accuracy on test set :  0.7364217252396166\n",
      "Recall on training set :  [0.99547652 0.92787795 0.9532767 ]\n",
      "Recall on test set :  [0.91812227 0.39008621 0.48441926]\n",
      "Precision on training set :  [0.97331097 0.97521866 0.97759801]\n",
      "Precision on test set :  [0.7682704  0.58670989 0.71101871]\n"
     ]
    }
   ],
   "source": [
    "#Using above defined function to get accuracy, recall and precision on train and test set\n",
    "rf_estimator_score=get_metrics_score(forest)"
   ]
  },
  {
   "cell_type": "code",
   "execution_count": 64,
   "metadata": {},
   "outputs": [
    {
     "data": {
      "image/png": "[encoded data removed]",
      "text/plain": [
       "<Figure size 720x504 with 2 Axes>"
      ]
     },
     "metadata": {
      "needs_background": "light"
     },
     "output_type": "display_data"
    }
   ],
   "source": [
    "make_confusion_matrix(forest,y_test)"
   ]
  },
  {
   "cell_type": "markdown",
   "metadata": {},
   "source": [
    "### Lemmas Text Data - Count Vectorization"
   ]
  },
  {
   "cell_type": "code",
   "execution_count": 65,
   "metadata": {},
   "outputs": [],
   "source": [
    "# Split data into training and testing set.\n",
    "X_train, X_test, y_train, y_test = train_test_split(lemmas_data_features_cv, labels, test_size=0.3, random_state=42,stratify=labels)"
   ]
  },
  {
   "cell_type": "code",
   "execution_count": 66,
   "metadata": {},
   "outputs": [
    {
     "name": "stdout",
     "output_type": "stream",
     "text": [
      "RandomForestClassifier(n_estimators=10, n_jobs=4)\n",
      "0.7028201738347726\n"
     ]
    }
   ],
   "source": [
    "forest = RandomForestClassifier(n_estimators=10, n_jobs=4)\n",
    "\n",
    "forest = forest.fit(X_train, y_train)\n",
    "\n",
    "print(forest)\n",
    "\n",
    "print(np.mean(cross_val_score(forest, lemmas_data_features_cv, labels, cv=10)))"
   ]
  },
  {
   "cell_type": "code",
   "execution_count": 67,
   "metadata": {},
   "outputs": [],
   "source": [
    "result =  forest.predict(X_test)                  #saving the prediction on test data as a result"
   ]
  },
  {
   "cell_type": "code",
   "execution_count": 68,
   "metadata": {},
   "outputs": [
    {
     "name": "stdout",
     "output_type": "stream",
     "text": [
      "Accuracy on training set :  0.9801408726276658\n",
      "Accuracy on test set :  0.7364217252396166\n",
      "Recall on training set :  [0.99454063 0.9445215  0.97087379]\n",
      "Recall on test set :  [0.87154294 0.45905172 0.57507082]\n",
      "Precision on training set :  [0.98288885 0.97751196 0.97264438]\n",
      "Precision on test set :  [0.80315225 0.54685494 0.65378422]\n"
     ]
    }
   ],
   "source": [
    "#Using above defined function to get accuracy, recall and precision on train and test set\n",
    "rf_estimator_score=get_metrics_score(forest)"
   ]
  },
  {
   "cell_type": "code",
   "execution_count": 69,
   "metadata": {},
   "outputs": [
    {
     "data": {
      "image/png": "[encoded data removed]",
      "text/plain": [
       "<Figure size 720x504 with 2 Axes>"
      ]
     },
     "metadata": {
      "needs_background": "light"
     },
     "output_type": "display_data"
    }
   ],
   "source": [
    "make_confusion_matrix(forest,y_test)"
   ]
  },
  {
   "cell_type": "markdown",
   "metadata": {},
   "source": [
    "### Lemmas Text Data - TFID Vectorization"
   ]
  },
  {
   "cell_type": "code",
   "execution_count": 70,
   "metadata": {},
   "outputs": [],
   "source": [
    "# Split data into training and testing set.\n",
    "X_train, X_test, y_train, y_test = train_test_split(lemmas_data_features_tfid, labels, test_size=0.3, random_state=42,stratify=labels)"
   ]
  },
  {
   "cell_type": "code",
   "execution_count": 71,
   "metadata": {},
   "outputs": [
    {
     "name": "stdout",
     "output_type": "stream",
     "text": [
      "RandomForestClassifier(n_estimators=10, n_jobs=4)\n",
      "0.6998733744010951\n"
     ]
    }
   ],
   "source": [
    "forest = RandomForestClassifier(n_estimators=10, n_jobs=4)\n",
    "\n",
    "forest = forest.fit(X_train, y_train)\n",
    "\n",
    "print(forest)\n",
    "\n",
    "print(np.mean(cross_val_score(forest, lemmas_data_features_tfid, labels, cv=10)))"
   ]
  },
  {
   "cell_type": "code",
   "execution_count": 72,
   "metadata": {},
   "outputs": [],
   "source": [
    "result =  forest.predict(X_test)                  #saving the prediction on test data as a result"
   ]
  },
  {
   "cell_type": "code",
   "execution_count": 73,
   "metadata": {},
   "outputs": [
    {
     "name": "stdout",
     "output_type": "stream",
     "text": [
      "Accuracy on training set :  0.9776951672862454\n",
      "Accuracy on test set :  0.7450935645823825\n",
      "Recall on training set :  [0.99625643 0.93851133 0.95691748]\n",
      "Recall on test set :  [0.92248908 0.39762931 0.51133144]\n",
      "Precision on training set :  [0.9775023  0.97737121 0.9788951 ]\n",
      "Precision on test set :  [0.77428222 0.61092715 0.71626984]\n"
     ]
    }
   ],
   "source": [
    "#Using above defined function to get accuracy, recall and precision on train and test set\n",
    "rf_estimator_score=get_metrics_score(forest)"
   ]
  },
  {
   "cell_type": "code",
   "execution_count": 74,
   "metadata": {},
   "outputs": [
    {
     "data": {
      "image/png": "[encoded data removed]",
      "text/plain": [
       "<Figure size 720x504 with 2 Axes>"
      ]
     },
     "metadata": {
      "needs_background": "light"
     },
     "output_type": "display_data"
    }
   ],
   "source": [
    "make_confusion_matrix(forest,y_test)"
   ]
  },
  {
   "cell_type": "markdown",
   "metadata": {},
   "source": [
    "### Choose one model and improve - Lemmas Text Data  & Count Vectorizer"
   ]
  },
  {
   "cell_type": "code",
   "execution_count": 75,
   "metadata": {},
   "outputs": [],
   "source": [
    "# Split data into training and testing set.\n",
    "X_train, X_test, y_train, y_test = train_test_split(lemmas_data_features_cv, labels, test_size=0.3, random_state=42,stratify=labels)"
   ]
  },
  {
   "cell_type": "code",
   "execution_count": 76,
   "metadata": {},
   "outputs": [
    {
     "data": {
      "text/plain": [
       "[10,\n",
       " 11,\n",
       " 12,\n",
       " 13,\n",
       " 14,\n",
       " 15,\n",
       " 16,\n",
       " 17,\n",
       " 18,\n",
       " 19,\n",
       " 20,\n",
       " 21,\n",
       " 22,\n",
       " 23,\n",
       " 24,\n",
       " 25,\n",
       " 26,\n",
       " 27,\n",
       " 28,\n",
       " 29,\n",
       " 30,\n",
       " 31,\n",
       " 32,\n",
       " 33,\n",
       " 34]"
      ]
     },
     "execution_count": 76,
     "metadata": {},
     "output_type": "execute_result"
    }
   ],
   "source": [
    "# Finding optimal number of base learners using k-fold CV ->\n",
    "base_ln = [x for x in range(10, 35)]\n",
    "base_ln"
   ]
  },
  {
   "cell_type": "code",
   "execution_count": 77,
   "metadata": {},
   "outputs": [],
   "source": [
    "# K-Fold Cross - validation .\n",
    "cv_scores = []\n",
    "for estimator in base_ln:\n",
    "    clf = RandomForestClassifier(n_estimators = estimator, n_jobs = -1)\n",
    "    scores = cross_val_score(clf, X_train, y_train, cv = 10, scoring = 'accuracy')\n",
    "    cv_scores.append(scores.mean())"
   ]
  },
  {
   "cell_type": "code",
   "execution_count": 78,
   "metadata": {},
   "outputs": [
    {
     "data": {
      "image/png": "[encoded data removed]",
      "text/plain": [
       "<Figure size 432x288 with 1 Axes>"
      ]
     },
     "metadata": {
      "needs_background": "light"
     },
     "output_type": "display_data"
    }
   ],
   "source": [
    "# plotting the error as k increases\n",
    "error = [1 - x for x in cv_scores]                                 #error corresponds to each nu of estimator\n",
    "optimal_learners = base_ln[error.index(min(error))]                #Selection of optimal nu of n_estimator corresponds to minimum error.\n",
    "plt.plot(base_ln, error)                                           #Plot between each nu of estimator and misclassification error\n",
    "xy = (optimal_learners, min(error))\n",
    "plt.annotate('(%s, %s)' % xy, xy = xy, textcoords='data')\n",
    "plt.xlabel(\"Number of base learners\")\n",
    "plt.ylabel(\"Misclassification Error\")\n",
    "plt.show()"
   ]
  },
  {
   "cell_type": "code",
   "execution_count": 79,
   "metadata": {},
   "outputs": [
    {
     "name": "stdout",
     "output_type": "stream",
     "text": [
      "RandomForestClassifier(n_estimators=31, n_jobs=-1)\n",
      "0.7135676914854716\n"
     ]
    }
   ],
   "source": [
    "# From above\n",
    "# Optimal N_Estimators = 31\n",
    "\n",
    "forest = RandomForestClassifier(n_estimators=optimal_learners, n_jobs=-1)\n",
    "\n",
    "forest = forest.fit(X_train, y_train)\n",
    "\n",
    "print(forest)\n",
    "\n",
    "print(np.mean(cross_val_score(forest, lemmas_data_features_tfid, labels, cv=10)))"
   ]
  },
  {
   "cell_type": "code",
   "execution_count": 80,
   "metadata": {},
   "outputs": [],
   "source": [
    "result =  forest.predict(X_test)                  #saving the prediction on test data as a result"
   ]
  },
  {
   "cell_type": "code",
   "execution_count": 81,
   "metadata": {},
   "outputs": [
    {
     "name": "stdout",
     "output_type": "stream",
     "text": [
      "Accuracy on training set :  0.9921737429074545\n",
      "Accuracy on test set :  0.7494294842537654\n",
      "Recall on training set :  [0.99688036 0.98104485 0.98847087]\n",
      "Recall on test set :  [0.88682678 0.45797414 0.59773371]\n",
      "Precision on training set :  [0.99719145 0.98560149 0.9813253 ]\n",
      "Precision on test set :  [0.80615283 0.56440903 0.69636964]\n"
     ]
    }
   ],
   "source": [
    "#Using above defined function to get accuracy, recall and precision on train and test set\n",
    "rf_estimator_score=get_metrics_score(forest)"
   ]
  },
  {
   "cell_type": "code",
   "execution_count": 82,
   "metadata": {},
   "outputs": [
    {
     "data": {
      "image/png": "[encoded data removed]",
      "text/plain": [
       "<Figure size 720x504 with 2 Axes>"
      ]
     },
     "metadata": {
      "needs_background": "light"
     },
     "output_type": "display_data"
    }
   ],
   "source": [
    "make_confusion_matrix(forest,y_test)"
   ]
  },
  {
   "cell_type": "markdown",
   "metadata": {},
   "source": [
    "## 6. Summarize your understanding of the application of Various Pre-processing and Vectorization and performance of your model on this dataset. (8 Marks)\n",
    "\n",
    " * Summary from the understanding of the application of Various Pre-processing, Vectorization and performance of the model on the dataset."
   ]
  },
  {
   "cell_type": "markdown",
   "metadata": {},
   "source": [
    "### **Summary**:\n",
    "\n",
    "- Starting with Twitter feedback from US-based Airline customers as well as the predicted sentiment, we set out to find if a model could be trained to mimic the sentiment analysis provided in the original dataset.\n",
    "- The text data from the Twitter feedback was processed to remove information unlikely to be useful in the classification, including:\n",
    "  - HTML tag removal (not useful for this dataset, but done anyway)\n",
    "  - Numeric, Punctuation, and other Special Character removal\n",
    "  - Stopword removal\n",
    "  - Conversion to lowercase\n",
    "- The text data were also Tokenized and 2 sets of data were created (Lemmatized and Stemmed). Several amounts of key words were used to improve model performance:\n",
    "  - 1000 (~74% Accuracy on Test Data)\n",
    "  - 2000 (~75% Accuracy on Test Data) <--------- Selected\n",
    "  - 3000 (~74.5% Accuracy on Test Data)\n",
    "  - 4000 (~74.8% Accuracy on Test Data)\n",
    "- The Lemmatized and Stemmed text data were then vectorized (using CountVecotrization and TFID Vectorization), creating 4 separate datasets to be fed into the training models\n",
    "- Random Forest Classification was chosen to model the sentiment for each feedback and we attempted to optimize the model based on the number of estimators \n",
    "- The overall performance of the final model was good for negative sentiment, but not very good for neutral and positive feedback. There didn't seem to be much improvement by adjusting the size of the key words used to create the classification model, but the number of estimators did have a postive effect. It is likely that a smaller number of estimators should have been used to prevent overfitting. \n",
    "- Other classification techniques, model tuning, and hyperparameter turning techniques were not attempted, but could have resulted in a slight improvement in the scoring metrics. However, the biggest limitation may be in the limited size of the dataset.\n",
    "- Overall the model fit is average (neither good or terribly bad), but perhaps other parameters or pre-processing steps would have helped (e.g., would removing the airlines names from the Twitter feedbacks creating a better fit for all types of sentiments?)"
   ]
  },
  {
   "cell_type": "code",
   "execution_count": null,
   "metadata": {},
   "outputs": [],
   "source": []
  }
 ],
 "metadata": {
  "kernelspec": {
   "display_name": "Python 3",
   "language": "python",
   "name": "python3"
  },
  "language_info": {
   "codemirror_mode": {
    "name": "ipython",
    "version": 3
   },
   "file_extension": ".py",
   "mimetype": "text/x-python",
   "name": "python",
   "nbconvert_exporter": "python",
   "pygments_lexer": "ipython3",
   "version": "3.8.3"
  }
 },
 "nbformat": 4,
 "nbformat_minor": 4
}
